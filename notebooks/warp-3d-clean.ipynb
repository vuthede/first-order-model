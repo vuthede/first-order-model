{
 "cells": [
  {
   "cell_type": "code",
   "execution_count": 1,
   "metadata": {
    "tags": []
   },
   "outputs": [
    {
     "output_type": "stream",
     "name": "stdout",
     "text": "WARNING:tensorflow:\nThe TensorFlow contrib module will not be included in TensorFlow 2.0.\nFor more information, please see:\n  * https://github.com/tensorflow/community/blob/master/rfcs/20180907-contrib-sunset.md\n  * https://github.com/tensorflow/addons\n  * https://github.com/tensorflow/io (for I/O related ops)\nIf you depend on functionality not listed there, please file an issue.\n\nWARNING:tensorflow:From ../../PRNet/predictor.py:89: The name tf.placeholder is deprecated. Please use tf.compat.v1.placeholder instead.\n\nWARNING:tensorflow:From ../../PRNet/predictor.py:31: The name tf.variable_scope is deprecated. Please use tf.compat.v1.variable_scope instead.\n\nWARNING:tensorflow:From /home/vuthede/anaconda3/envs/rnn/lib/python3.7/site-packages/tensorflow_core/contrib/layers/python/layers/layers.py:1057: Layer.apply (from tensorflow.python.keras.engine.base_layer) is deprecated and will be removed in a future version.\nInstructions for updating:\nPlease use `layer.__call__` method instead.\nWARNING:tensorflow:From ../../PRNet/predictor.py:91: The name tf.Session is deprecated. Please use tf.compat.v1.Session instead.\n\nWARNING:tensorflow:From ../../PRNet/predictor.py:91: The name tf.ConfigProto is deprecated. Please use tf.compat.v1.ConfigProto instead.\n\nWARNING:tensorflow:From ../../PRNet/predictor.py:91: The name tf.GPUOptions is deprecated. Please use tf.compat.v1.GPUOptions instead.\n\nWARNING:tensorflow:From ../../PRNet/predictor.py:94: The name tf.train.Saver is deprecated. Please use tf.compat.v1.train.Saver instead.\n\nWARNING:tensorflow:From ../../PRNet/predictor.py:75: The name tf.global_variables is deprecated. Please use tf.compat.v1.global_variables instead.\n\nINFO:tensorflow:Restoring parameters from ../../PRNet/Data/net-data/256_256_resfcn256_weight\n"
    }
   ],
   "source": [
    "import cv2\n",
    "import matplotlib.pyplot as plt\n",
    "import sys\n",
    "sys.path.insert(0, \"../../PRNet\")\n",
    "from api import PRN\n",
    "import os\n",
    "os.environ['CUDA_VISIBLE_DEVICES'] = '' # cpu\n",
    "prn = PRN(is_dlib = True, prefix=\"../../PRNet\")\n",
    "from utils.render import render_texture\n",
    "from utils.rotate_vertices import frontalize\n",
    "from utils.estimate_pose import estimate_pose\n",
    "import numpy as np"
   ]
  },
  {
   "cell_type": "code",
   "execution_count": 4,
   "metadata": {},
   "outputs": [],
   "source": [
    "import time\n",
    "def warp_face(img_in, img_ref):\n",
    "    #img_in is HD image\n",
    "    # img_ref is synthesis image\n",
    "    # Calculate position map and get pose and rotation matrix\n",
    "    pos1 = prn.process(img_in) \n",
    "    vertices1 = prn.get_vertices(pos1)\n",
    "    cam_mat1, pose1, R1 = estimate_pose(vertices1)\n",
    "    pos2 = prn.process(img_ref) \n",
    "    vertices2 = prn.get_vertices(pos2)\n",
    "    cam_mat2, pose2, R2 = estimate_pose(vertices2)\n",
    "\n",
    "    # Rotation 3D vertices\n",
    "    warp_vertices = np.matmul(np.matmul(vertices2,R2), np.linalg.inv(R1)) \n",
    "\n",
    "    # Do translation\n",
    "    center2_warp_pt = np.mean(warp_vertices, axis=0)\n",
    "    center1_pt = np.mean(vertices1, axis=0)\n",
    "    warp_vertices = warp_vertices - (center2_warp_pt - center1_pt)\n",
    "\n",
    "    # Render new synthesis image after doing transformation\n",
    "    # t1 = time.time()\n",
    "    texture_ref = cv2.remap(img_ref/255.0, pos2[:,:,:2].astype(np.float32), None, interpolation=cv2.INTER_NEAREST, borderMode=cv2.BORDER_CONSTANT,borderValue=(0))\n",
    "    # print(\"Texture from pos map: \", time.time()-t1)\n",
    "\n",
    "    [h, w, c] = img_ref.shape\n",
    "    # t1 = time.time()\n",
    "    \n",
    "    color = prn.get_colors_from_texture(texture_ref)\n",
    "    # print(\"Get color of texture: \", time.time()-t1)\n",
    "    \n",
    "    color_mask = np.ones((warp_vertices.shape[0], 1))\n",
    "    t1 = time.time()\n",
    "    new_image = render_texture(warp_vertices.T, color.T, prn.triangles.T, h, w, c = 3)\n",
    "    print(\"Time render: \", time.time()-t1)\n",
    "    facemask = render_texture(warp_vertices.T, color_mask.T, prn.triangles.T, h, w, c = 3)\n",
    "\n",
    "    # Using seamlessCloning to blending images\n",
    "    vis_ind = np.argwhere(facemask>0)\n",
    "    vis_min = np.min(vis_ind, 0)\n",
    "    vis_max = np.max(vis_ind, 0)\n",
    "    center = (int((vis_min[1] + vis_max[1])/2+0.5), int((vis_min[0] + vis_max[0])/2+0.5))\n",
    "    output = cv2.seamlessClone((new_image*255).astype(np.uint8),(img_in).astype(np.uint8), (facemask*255).astype(np.uint8), center, cv2.NORMAL_CLONE)\n",
    "\n",
    "    return output\n"
   ]
  },
  {
   "cell_type": "markdown",
   "metadata": {},
   "source": [
    "# Generate output"
   ]
  },
  {
   "cell_type": "code",
   "execution_count": 7,
   "metadata": {
    "tags": []
   },
   "outputs": [
    {
     "output_type": "stream",
     "name": "stderr",
     "text": "0%|          | 0/149 [00:00<?, ?it/s]Here is input:  (565, 565, 3)\nHere is input:  (565, 565, 3)\n  1%|          | 1/149 [00:21<52:47, 21.40s/it]Finish warping 1-th frame\nHere is input:  (565, 565, 3)\nHere is input:  (565, 565, 3)\n  1%|▏         | 2/149 [00:43<53:07, 21.69s/it]Finish warping 2-th frame\nHere is input:  (565, 565, 3)\nHere is input:  (565, 565, 3)\n  2%|▏         | 3/149 [01:06<53:16, 21.90s/it]Finish warping 3-th frame\nHere is input:  (565, 565, 3)\nHere is input:  (565, 565, 3)\n  3%|▎         | 4/149 [01:28<53:07, 21.98s/it]Finish warping 4-th frame\nHere is input:  (565, 565, 3)\nHere is input:  (565, 565, 3)\n  3%|▎         | 5/149 [01:50<52:48, 22.01s/it]Finish warping 5-th frame\nHere is input:  (565, 565, 3)\nHere is input:  (565, 565, 3)\n  4%|▍         | 6/149 [02:12<52:33, 22.05s/it]Finish warping 6-th frame\nHere is input:  (565, 565, 3)\nHere is input:  (565, 565, 3)\n  5%|▍         | 7/149 [02:34<52:04, 22.00s/it]Finish warping 7-th frame\nHere is input:  (565, 565, 3)\nHere is input:  (565, 565, 3)\n  5%|▌         | 8/149 [02:57<52:30, 22.34s/it]Finish warping 8-th frame\nHere is input:  (565, 565, 3)\nHere is input:  (565, 565, 3)\n  6%|▌         | 9/149 [03:20<52:41, 22.58s/it]Finish warping 9-th frame\nHere is input:  (565, 565, 3)\nHere is input:  (565, 565, 3)\n  7%|▋         | 10/149 [03:43<52:32, 22.68s/it]Finish warping 10-th frame\nHere is input:  (565, 565, 3)\nHere is input:  (565, 565, 3)\n  7%|▋         | 11/149 [04:06<51:59, 22.60s/it]Finish warping 11-th frame\nHere is input:  (565, 565, 3)\nHere is input:  (565, 565, 3)\n  8%|▊         | 12/149 [04:28<51:32, 22.57s/it]Finish warping 12-th frame\nHere is input:  (565, 565, 3)\nHere is input:  (565, 565, 3)\n  9%|▊         | 13/149 [04:50<50:59, 22.50s/it]Finish warping 13-th frame\nHere is input:  (565, 565, 3)\nHere is input:  (565, 565, 3)\n  9%|▉         | 14/149 [05:14<51:16, 22.79s/it]Finish warping 14-th frame\nHere is input:  (565, 565, 3)\nHere is input:  (565, 565, 3)\n 10%|█         | 15/149 [05:36<50:29, 22.61s/it]Finish warping 15-th frame\nHere is input:  (565, 565, 3)\nHere is input:  (565, 565, 3)\n 11%|█         | 16/149 [05:59<50:21, 22.72s/it]Finish warping 16-th frame\nHere is input:  (565, 565, 3)\nHere is input:  (565, 565, 3)\n 11%|█▏        | 17/149 [06:22<50:21, 22.89s/it]Finish warping 17-th frame\nHere is input:  (565, 565, 3)\nHere is input:  (565, 565, 3)\n 12%|█▏        | 18/149 [06:45<49:39, 22.74s/it]Finish warping 18-th frame\nHere is input:  (565, 565, 3)\nHere is input:  (565, 565, 3)\n 13%|█▎        | 19/149 [07:07<49:04, 22.65s/it]Finish warping 19-th frame\nHere is input:  (565, 565, 3)\nHere is input:  (565, 565, 3)\n 13%|█▎        | 20/149 [07:29<48:11, 22.41s/it]Finish warping 20-th frame\nHere is input:  (565, 565, 3)\nHere is input:  (565, 565, 3)\n 14%|█▍        | 21/149 [07:50<47:11, 22.12s/it]Finish warping 21-th frame\nHere is input:  (565, 565, 3)\nHere is input:  (565, 565, 3)\n 15%|█▍        | 22/149 [08:12<46:11, 21.83s/it]Finish warping 22-th frame\nHere is input:  (565, 565, 3)\nHere is input:  (565, 565, 3)\n 15%|█▌        | 23/149 [08:33<45:29, 21.66s/it]Finish warping 23-th frame\nHere is input:  (565, 565, 3)\nHere is input:  (565, 565, 3)\n 16%|█▌        | 24/149 [08:54<44:49, 21.52s/it]Finish warping 24-th frame\nHere is input:  (565, 565, 3)\nHere is input:  (565, 565, 3)\n 17%|█▋        | 25/149 [09:15<44:19, 21.45s/it]Finish warping 25-th frame\nHere is input:  (565, 565, 3)\nHere is input:  (565, 565, 3)\n 17%|█▋        | 26/149 [09:36<43:43, 21.33s/it]Finish warping 26-th frame\nHere is input:  (565, 565, 3)\nHere is input:  (565, 565, 3)\n 18%|█▊        | 27/149 [09:57<43:11, 21.24s/it]Finish warping 27-th frame\nHere is input:  (565, 565, 3)\nHere is input:  (565, 565, 3)\n 19%|█▉        | 28/149 [10:19<42:50, 21.24s/it]Finish warping 28-th frame\nHere is input:  (565, 565, 3)\nHere is input:  (565, 565, 3)\n 19%|█▉        | 29/149 [10:40<42:26, 21.22s/it]Finish warping 29-th frame\nHere is input:  (565, 565, 3)\nHere is input:  (565, 565, 3)\n 20%|██        | 30/149 [11:01<42:03, 21.21s/it]Finish warping 30-th frame\nHere is input:  (565, 565, 3)\nHere is input:  (565, 565, 3)\n 21%|██        | 31/149 [11:23<41:54, 21.31s/it]Finish warping 31-th frame\nHere is input:  (565, 565, 3)\nHere is input:  (565, 565, 3)\n 21%|██▏       | 32/149 [11:44<41:33, 21.31s/it]Finish warping 32-th frame\nHere is input:  (565, 565, 3)\nHere is input:  (565, 565, 3)\n 22%|██▏       | 33/149 [12:05<41:17, 21.36s/it]Finish warping 33-th frame\nHere is input:  (565, 565, 3)\nHere is input:  (565, 565, 3)\n 23%|██▎       | 34/149 [12:27<41:03, 21.43s/it]Finish warping 34-th frame\nHere is input:  (565, 565, 3)\nHere is input:  (565, 565, 3)\n 23%|██▎       | 35/149 [12:48<40:45, 21.45s/it]Finish warping 35-th frame\nHere is input:  (565, 565, 3)\nHere is input:  (565, 565, 3)\n 24%|██▍       | 36/149 [13:10<40:16, 21.38s/it]Finish warping 36-th frame\nHere is input:  (565, 565, 3)\nHere is input:  (565, 565, 3)\n 25%|██▍       | 37/149 [13:32<40:12, 21.54s/it]Finish warping 37-th frame\nHere is input:  (565, 565, 3)\nHere is input:  (565, 565, 3)\n 26%|██▌       | 38/149 [13:53<40:01, 21.63s/it]Finish warping 38-th frame\nHere is input:  (565, 565, 3)\nHere is input:  (565, 565, 3)\n 26%|██▌       | 39/149 [14:15<39:26, 21.52s/it]Finish warping 39-th frame\nHere is input:  (565, 565, 3)\nHere is input:  (565, 565, 3)\n 27%|██▋       | 40/149 [14:36<38:56, 21.44s/it]Finish warping 40-th frame\nHere is input:  (565, 565, 3)\nHere is input:  (565, 565, 3)\n 28%|██▊       | 41/149 [14:57<38:25, 21.35s/it]Finish warping 41-th frame\nHere is input:  (565, 565, 3)\nHere is input:  (565, 565, 3)\n 28%|██▊       | 42/149 [15:18<37:59, 21.30s/it]Finish warping 42-th frame\nHere is input:  (565, 565, 3)\nHere is input:  (565, 565, 3)\n 29%|██▉       | 43/149 [15:40<37:43, 21.36s/it]Finish warping 43-th frame\nHere is input:  (565, 565, 3)\nHere is input:  (565, 565, 3)\n 30%|██▉       | 44/149 [16:01<37:20, 21.34s/it]Finish warping 44-th frame\nHere is input:  (565, 565, 3)\nHere is input:  (565, 565, 3)\n 30%|███       | 45/149 [16:22<36:55, 21.31s/it]Finish warping 45-th frame\nHere is input:  (565, 565, 3)\nHere is input:  (565, 565, 3)\n 31%|███       | 46/149 [16:44<36:40, 21.36s/it]Finish warping 46-th frame\nHere is input:  (565, 565, 3)\nHere is input:  (565, 565, 3)\n 32%|███▏      | 47/149 [17:05<36:21, 21.39s/it]Finish warping 47-th frame\nHere is input:  (565, 565, 3)\nHere is input:  (565, 565, 3)\n 32%|███▏      | 48/149 [17:26<35:57, 21.36s/it]Finish warping 48-th frame\nHere is input:  (565, 565, 3)\nHere is input:  (565, 565, 3)\n 33%|███▎      | 49/149 [17:48<35:31, 21.31s/it]Finish warping 49-th frame\nHere is input:  (565, 565, 3)\nHere is input:  (565, 565, 3)\n 34%|███▎      | 50/149 [18:09<35:11, 21.32s/it]Finish warping 50-th frame\nHere is input:  (565, 565, 3)\nHere is input:  (565, 565, 3)\n 34%|███▍      | 51/149 [18:31<35:02, 21.45s/it]Finish warping 51-th frame\nHere is input:  (565, 565, 3)\nHere is input:  (565, 565, 3)\n 35%|███▍      | 52/149 [18:52<34:29, 21.34s/it]Finish warping 52-th frame\nHere is input:  (565, 565, 3)\nHere is input:  (565, 565, 3)\n 36%|███▌      | 53/149 [19:13<34:03, 21.29s/it]Finish warping 53-th frame\nHere is input:  (565, 565, 3)\nHere is input:  (565, 565, 3)\n 36%|███▌      | 54/149 [19:35<33:48, 21.35s/it]Finish warping 54-th frame\nHere is input:  (565, 565, 3)\nHere is input:  (565, 565, 3)\n 37%|███▋      | 55/149 [19:56<33:43, 21.53s/it]Finish warping 55-th frame\nHere is input:  (565, 565, 3)\nHere is input:  (565, 565, 3)\n 38%|███▊      | 56/149 [20:19<33:41, 21.73s/it]Finish warping 56-th frame\nHere is input:  (565, 565, 3)\nHere is input:  (565, 565, 3)\n 38%|███▊      | 57/149 [20:41<33:31, 21.87s/it]Finish warping 57-th frame\nHere is input:  (565, 565, 3)\nHere is input:  (565, 565, 3)\n 39%|███▉      | 58/149 [21:03<33:07, 21.84s/it]Finish warping 58-th frame\nHere is input:  (565, 565, 3)\nHere is input:  (565, 565, 3)\n 40%|███▉      | 59/149 [21:25<32:52, 21.92s/it]Finish warping 59-th frame\nHere is input:  (565, 565, 3)\nHere is input:  (565, 565, 3)\n 40%|████      | 60/149 [21:47<32:29, 21.90s/it]Finish warping 60-th frame\nHere is input:  (565, 565, 3)\nHere is input:  (565, 565, 3)\n 41%|████      | 61/149 [22:08<32:04, 21.87s/it]Finish warping 61-th frame\nHere is input:  (565, 565, 3)\nHere is input:  (565, 565, 3)\n 42%|████▏     | 62/149 [22:30<31:43, 21.88s/it]Finish warping 62-th frame\nHere is input:  (565, 565, 3)\nHere is input:  (565, 565, 3)\n 42%|████▏     | 63/149 [22:52<31:12, 21.77s/it]Finish warping 63-th frame\nHere is input:  (565, 565, 3)\nHere is input:  (565, 565, 3)\n 43%|████▎     | 64/149 [23:13<30:42, 21.68s/it]Finish warping 64-th frame\nHere is input:  (565, 565, 3)\nHere is input:  (565, 565, 3)\n 44%|████▎     | 65/149 [23:35<30:25, 21.74s/it]Finish warping 65-th frame\nHere is input:  (565, 565, 3)\nHere is input:  (565, 565, 3)\n 44%|████▍     | 66/149 [23:57<29:58, 21.67s/it]Finish warping 66-th frame\nHere is input:  (565, 565, 3)\nHere is input:  (565, 565, 3)\n 45%|████▍     | 67/149 [24:18<29:38, 21.69s/it]Finish warping 67-th frame\nHere is input:  (565, 565, 3)\nHere is input:  (565, 565, 3)\n 46%|████▌     | 68/149 [24:40<29:13, 21.65s/it]Finish warping 68-th frame\nHere is input:  (565, 565, 3)\nHere is input:  (565, 565, 3)\n 46%|████▋     | 69/149 [25:02<28:50, 21.64s/it]Finish warping 69-th frame\nHere is input:  (565, 565, 3)\nHere is input:  (565, 565, 3)\n 47%|████▋     | 70/149 [25:23<28:24, 21.57s/it]Finish warping 70-th frame\nHere is input:  (565, 565, 3)\nHere is input:  (565, 565, 3)\n 48%|████▊     | 71/149 [25:45<28:05, 21.60s/it]Finish warping 71-th frame\nHere is input:  (565, 565, 3)\nHere is input:  (565, 565, 3)\n 48%|████▊     | 72/149 [26:07<27:54, 21.75s/it]Finish warping 72-th frame\nHere is input:  (565, 565, 3)\nHere is input:  (565, 565, 3)\n 49%|████▉     | 73/149 [26:28<27:26, 21.66s/it]Finish warping 73-th frame\nHere is input:  (565, 565, 3)\nHere is input:  (565, 565, 3)\n 50%|████▉     | 74/149 [26:49<26:56, 21.55s/it]Finish warping 74-th frame\nHere is input:  (565, 565, 3)\nHere is input:  (565, 565, 3)\n 50%|█████     | 75/149 [27:11<26:29, 21.48s/it]Finish warping 75-th frame\nHere is input:  (565, 565, 3)\nHere is input:  (565, 565, 3)\n 51%|█████     | 76/149 [27:32<26:10, 21.51s/it]Finish warping 76-th frame\nHere is input:  (565, 565, 3)\nHere is input:  (565, 565, 3)\n 52%|█████▏    | 77/149 [27:54<25:47, 21.49s/it]Finish warping 77-th frame\nHere is input:  (565, 565, 3)\nHere is input:  (565, 565, 3)\n 52%|█████▏    | 78/149 [28:15<25:29, 21.54s/it]Finish warping 78-th frame\nHere is input:  (565, 565, 3)\nHere is input:  (565, 565, 3)\n 53%|█████▎    | 79/149 [28:37<25:07, 21.54s/it]Finish warping 79-th frame\nHere is input:  (565, 565, 3)\nHere is input:  (565, 565, 3)\n 54%|█████▎    | 80/149 [28:58<24:41, 21.47s/it]Finish warping 80-th frame\nHere is input:  (565, 565, 3)\nHere is input:  (565, 565, 3)\n 54%|█████▍    | 81/149 [29:20<24:14, 21.38s/it]Finish warping 81-th frame\nHere is input:  (565, 565, 3)\nHere is input:  (565, 565, 3)\n 55%|█████▌    | 82/149 [29:41<23:46, 21.29s/it]Finish warping 82-th frame\nHere is input:  (565, 565, 3)\nHere is input:  (565, 565, 3)\n 56%|█████▌    | 83/149 [30:02<23:26, 21.31s/it]Finish warping 83-th frame\nHere is input:  (565, 565, 3)\nHere is input:  (565, 565, 3)\n 56%|█████▋    | 84/149 [30:23<23:06, 21.33s/it]Finish warping 84-th frame\nHere is input:  (565, 565, 3)\nHere is input:  (565, 565, 3)\n 57%|█████▋    | 85/149 [30:45<22:44, 21.32s/it]Finish warping 85-th frame\nHere is input:  (565, 565, 3)\nHere is input:  (565, 565, 3)\n 58%|█████▊    | 86/149 [31:06<22:18, 21.24s/it]Finish warping 86-th frame\nHere is input:  (565, 565, 3)\nHere is input:  (565, 565, 3)\n 58%|█████▊    | 87/149 [31:27<22:07, 21.41s/it]Finish warping 87-th frame\nHere is input:  (565, 565, 3)\nHere is input:  (565, 565, 3)\n 59%|█████▉    | 88/149 [31:49<21:47, 21.43s/it]Finish warping 88-th frame\nHere is input:  (565, 565, 3)\nHere is input:  (565, 565, 3)\n 60%|█████▉    | 89/149 [32:11<21:33, 21.56s/it]Finish warping 89-th frame\nHere is input:  (565, 565, 3)\nHere is input:  (565, 565, 3)\n 60%|██████    | 90/149 [32:32<21:09, 21.52s/it]Finish warping 90-th frame\nHere is input:  (565, 565, 3)\nHere is input:  (565, 565, 3)\n 61%|██████    | 91/149 [32:53<20:43, 21.44s/it]Finish warping 91-th frame\nHere is input:  (565, 565, 3)\nHere is input:  (565, 565, 3)\n 62%|██████▏   | 92/149 [33:15<20:18, 21.38s/it]Finish warping 92-th frame\nHere is input:  (565, 565, 3)\nHere is input:  (565, 565, 3)\n 62%|██████▏   | 93/149 [33:36<19:53, 21.32s/it]Finish warping 93-th frame\nHere is input:  (565, 565, 3)\nHere is input:  (565, 565, 3)\n 63%|██████▎   | 94/149 [33:57<19:28, 21.25s/it]Finish warping 94-th frame\nHere is input:  (565, 565, 3)\nHere is input:  (565, 565, 3)\n 64%|██████▍   | 95/149 [34:18<19:05, 21.22s/it]Finish warping 95-th frame\nHere is input:  (565, 565, 3)\nHere is input:  (565, 565, 3)\n 64%|██████▍   | 96/149 [34:39<18:40, 21.15s/it]Finish warping 96-th frame\nHere is input:  (565, 565, 3)\nHere is input:  (565, 565, 3)\n 65%|██████▌   | 97/149 [35:00<18:16, 21.08s/it]Finish warping 97-th frame\nHere is input:  (565, 565, 3)\nHere is input:  (565, 565, 3)\n 66%|██████▌   | 98/149 [35:21<17:51, 21.02s/it]Finish warping 98-th frame\nHere is input:  (565, 565, 3)\nHere is input:  (565, 565, 3)\n 66%|██████▋   | 99/149 [35:42<17:34, 21.09s/it]Finish warping 99-th frame\nHere is input:  (565, 565, 3)\nHere is input:  (565, 565, 3)\n 67%|██████▋   | 100/149 [36:03<17:11, 21.06s/it]Finish warping 100-th frame\nHere is input:  (565, 565, 3)\nHere is input:  (565, 565, 3)\n 68%|██████▊   | 101/149 [36:24<16:53, 21.11s/it]Finish warping 101-th frame\nHere is input:  (565, 565, 3)\nHere is input:  (565, 565, 3)\n 68%|██████▊   | 102/149 [36:45<16:27, 21.01s/it]Finish warping 102-th frame\nHere is input:  (565, 565, 3)\nHere is input:  (565, 565, 3)\n 69%|██████▉   | 103/149 [37:06<16:03, 20.94s/it]Finish warping 103-th frame\nHere is input:  (565, 565, 3)\nHere is input:  (565, 565, 3)\n 70%|██████▉   | 104/149 [37:27<15:41, 20.93s/it]Finish warping 104-th frame\nHere is input:  (565, 565, 3)\nHere is input:  (565, 565, 3)\n 70%|███████   | 105/149 [37:48<15:18, 20.87s/it]Finish warping 105-th frame\nHere is input:  (565, 565, 3)\nHere is input:  (565, 565, 3)\n 71%|███████   | 106/149 [38:08<14:57, 20.87s/it]Finish warping 106-th frame\nHere is input:  (565, 565, 3)\nHere is input:  (565, 565, 3)\n 72%|███████▏  | 107/149 [38:30<14:39, 20.95s/it]Finish warping 107-th frame\nHere is input:  (565, 565, 3)\nHere is input:  (565, 565, 3)\n 72%|███████▏  | 108/149 [38:51<14:23, 21.06s/it]Finish warping 108-th frame\nHere is input:  (565, 565, 3)\nHere is input:  (565, 565, 3)\n 73%|███████▎  | 109/149 [39:12<14:04, 21.12s/it]Finish warping 109-th frame\nHere is input:  (565, 565, 3)\nHere is input:  (565, 565, 3)\n 74%|███████▍  | 110/149 [39:34<13:48, 21.25s/it]Finish warping 110-th frame\nHere is input:  (565, 565, 3)\nHere is input:  (565, 565, 3)\n 74%|███████▍  | 111/149 [39:55<13:30, 21.32s/it]Finish warping 111-th frame\nHere is input:  (565, 565, 3)\nHere is input:  (565, 565, 3)\n 75%|███████▌  | 112/149 [40:17<13:14, 21.49s/it]Finish warping 112-th frame\nHere is input:  (565, 565, 3)\nHere is input:  (565, 565, 3)\n 76%|███████▌  | 113/149 [40:38<12:52, 21.47s/it]Finish warping 113-th frame\nHere is input:  (565, 565, 3)\nHere is input:  (565, 565, 3)\n 77%|███████▋  | 114/149 [41:00<12:34, 21.57s/it]Finish warping 114-th frame\nHere is input:  (565, 565, 3)\nHere is input:  (565, 565, 3)\n 77%|███████▋  | 115/149 [41:22<12:15, 21.63s/it]Finish warping 115-th frame\nHere is input:  (565, 565, 3)\nHere is input:  (565, 565, 3)\n 78%|███████▊  | 116/149 [41:44<11:53, 21.63s/it]Finish warping 116-th frame\nHere is input:  (565, 565, 3)\nHere is input:  (565, 565, 3)\n 79%|███████▊  | 117/149 [42:05<11:30, 21.59s/it]Finish warping 117-th frame\nHere is input:  (565, 565, 3)\nHere is input:  (565, 565, 3)\n 79%|███████▉  | 118/149 [42:27<11:10, 21.64s/it]Finish warping 118-th frame\nHere is input:  (565, 565, 3)\nHere is input:  (565, 565, 3)\n 80%|███████▉  | 119/149 [42:49<10:49, 21.66s/it]Finish warping 119-th frame\nHere is input:  (565, 565, 3)\nHere is input:  (565, 565, 3)\n 81%|████████  | 120/149 [43:10<10:25, 21.57s/it]Finish warping 120-th frame\nHere is input:  (565, 565, 3)\nHere is input:  (565, 565, 3)\n 81%|████████  | 121/149 [43:32<10:06, 21.67s/it]Finish warping 121-th frame\nHere is input:  (565, 565, 3)\nHere is input:  (565, 565, 3)\n 82%|████████▏ | 122/149 [43:54<09:45, 21.67s/it]Finish warping 122-th frame\nHere is input:  (565, 565, 3)\nHere is input:  (565, 565, 3)\n 83%|████████▎ | 123/149 [44:16<09:25, 21.75s/it]Finish warping 123-th frame\nHere is input:  (565, 565, 3)\nHere is input:  (565, 565, 3)\n 83%|████████▎ | 124/149 [44:37<09:05, 21.80s/it]Finish warping 124-th frame\nHere is input:  (565, 565, 3)\nHere is input:  (565, 565, 3)\n 84%|████████▍ | 125/149 [44:59<08:41, 21.75s/it]Finish warping 125-th frame\nHere is input:  (565, 565, 3)\nHere is input:  (565, 565, 3)\n 85%|████████▍ | 126/149 [45:21<08:19, 21.73s/it]Finish warping 126-th frame\nHere is input:  (565, 565, 3)\nHere is input:  (565, 565, 3)\n 85%|████████▌ | 127/149 [45:42<07:55, 21.62s/it]Finish warping 127-th frame\nHere is input:  (565, 565, 3)\nHere is input:  (565, 565, 3)\n 86%|████████▌ | 128/149 [46:03<07:32, 21.54s/it]Finish warping 128-th frame\nHere is input:  (565, 565, 3)\nHere is input:  (565, 565, 3)\n 87%|████████▋ | 129/149 [46:25<07:10, 21.53s/it]Finish warping 129-th frame\nHere is input:  (565, 565, 3)\nHere is input:  (565, 565, 3)\n 87%|████████▋ | 130/149 [46:46<06:48, 21.51s/it]Finish warping 130-th frame\nHere is input:  (565, 565, 3)\nHere is input:  (565, 565, 3)\n 88%|████████▊ | 131/149 [47:08<06:25, 21.44s/it]Finish warping 131-th frame\nHere is input:  (565, 565, 3)\nHere is input:  (565, 565, 3)\n 89%|████████▊ | 132/149 [47:30<06:07, 21.63s/it]Finish warping 132-th frame\nHere is input:  (565, 565, 3)\nHere is input:  (565, 565, 3)\n 89%|████████▉ | 133/149 [47:51<05:45, 21.61s/it]Finish warping 133-th frame\nHere is input:  (565, 565, 3)\nHere is input:  (565, 565, 3)\n 90%|████████▉ | 134/149 [48:13<05:23, 21.55s/it]Finish warping 134-th frame\nHere is input:  (565, 565, 3)\nHere is input:  (565, 565, 3)\n 91%|█████████ | 135/149 [48:34<04:59, 21.39s/it]Finish warping 135-th frame\nHere is input:  (565, 565, 3)\nHere is input:  (565, 565, 3)\n 91%|█████████▏| 136/149 [48:55<04:37, 21.31s/it]Finish warping 136-th frame\nHere is input:  (565, 565, 3)\nHere is input:  (565, 565, 3)\n 92%|█████████▏| 137/149 [49:16<04:14, 21.25s/it]Finish warping 137-th frame\nHere is input:  (565, 565, 3)\nHere is input:  (565, 565, 3)\n 93%|█████████▎| 138/149 [49:37<03:52, 21.17s/it]Finish warping 138-th frame\nHere is input:  (565, 565, 3)\nHere is input:  (565, 565, 3)\n 93%|█████████▎| 139/149 [49:58<03:31, 21.17s/it]Finish warping 139-th frame\nHere is input:  (565, 565, 3)\nHere is input:  (565, 565, 3)\n 94%|█████████▍| 140/149 [50:20<03:12, 21.35s/it]Finish warping 140-th frame\nHere is input:  (565, 565, 3)\nHere is input:  (565, 565, 3)\n 95%|█████████▍| 141/149 [50:42<02:52, 21.60s/it]Finish warping 141-th frame\nHere is input:  (565, 565, 3)\nHere is input:  (565, 565, 3)\n 95%|█████████▌| 142/149 [51:03<02:28, 21.28s/it]Finish warping 142-th frame\nHere is input:  (565, 565, 3)\nHere is input:  (565, 565, 3)\n 96%|█████████▌| 143/149 [51:23<02:06, 21.14s/it]Finish warping 143-th frame\nHere is input:  (565, 565, 3)\nHere is input:  (565, 565, 3)\n 97%|█████████▋| 144/149 [51:44<01:44, 20.96s/it]Finish warping 144-th frame\nHere is input:  (565, 565, 3)\nHere is input:  (565, 565, 3)\n 97%|█████████▋| 145/149 [52:05<01:23, 20.93s/it]Finish warping 145-th frame\nHere is input:  (565, 565, 3)\nHere is input:  (565, 565, 3)\n 98%|█████████▊| 146/149 [52:26<01:02, 20.97s/it]Finish warping 146-th frame\nHere is input:  (565, 565, 3)\nHere is input:  (565, 565, 3)\n 99%|█████████▊| 147/149 [52:47<00:42, 21.02s/it]Finish warping 147-th frame\nHere is input:  (565, 565, 3)\nHere is input:  (565, 565, 3)\n 99%|█████████▉| 148/149 [53:08<00:20, 20.94s/it]Finish warping 148-th frame\nHere is input:  (565, 565, 3)\nHere is input:  (565, 565, 3)\n100%|██████████| 149/149 [53:29<00:00, 21.54s/it]Finish warping 149-th frame\n\n"
    }
   ],
   "source": [
    "from tqdm import tqdm\n",
    "for i in tqdm(range(1, 150)): \n",
    "    img_in = cv2.imread(f\"/home/vuthede/Desktop/3D/input/{i}.png\")\n",
    "    img_ref = cv2.imread(f\"/home/vuthede/Desktop/3D/ref/{i}.png\")\n",
    "\n",
    "    out = warp_face(img_in, img_ref)\n",
    "    cv2.imwrite(f\"/home/vuthede/Desktop/3D/output_swap_3d/{i}.png\", out)\n",
    "    print(f\"Finish warping {i}-th frame\")\n"
   ]
  },
  {
   "cell_type": "code",
   "execution_count": 8,
   "metadata": {
    "tags": []
   },
   "outputs": [
    {
     "output_type": "stream",
     "name": "stdout",
     "text": "(565, 1695, 3)\n(565, 1695, 3)\n(565, 1695, 3)\n(565, 1695, 3)\n(565, 1695, 3)\n(565, 1695, 3)\n(565, 1695, 3)\n(565, 1695, 3)\n(565, 1695, 3)\n(565, 1695, 3)\n(565, 1695, 3)\n(565, 1695, 3)\n(565, 1695, 3)\n(565, 1695, 3)\n(565, 1695, 3)\n(565, 1695, 3)\n(565, 1695, 3)\n(565, 1695, 3)\n(565, 1695, 3)\n(565, 1695, 3)\n(565, 1695, 3)\n(565, 1695, 3)\n(565, 1695, 3)\n(565, 1695, 3)\n(565, 1695, 3)\n(565, 1695, 3)\n(565, 1695, 3)\n(565, 1695, 3)\n(565, 1695, 3)\n(565, 1695, 3)\n(565, 1695, 3)\n(565, 1695, 3)\n(565, 1695, 3)\n(565, 1695, 3)\n(565, 1695, 3)\n(565, 1695, 3)\n(565, 1695, 3)\n(565, 1695, 3)\n(565, 1695, 3)\n(565, 1695, 3)\n(565, 1695, 3)\n(565, 1695, 3)\n(565, 1695, 3)\n(565, 1695, 3)\n(565, 1695, 3)\n(565, 1695, 3)\n(565, 1695, 3)\n(565, 1695, 3)\n(565, 1695, 3)\n(565, 1695, 3)\n(565, 1695, 3)\n(565, 1695, 3)\n(565, 1695, 3)\n(565, 1695, 3)\n(565, 1695, 3)\n(565, 1695, 3)\n(565, 1695, 3)\n(565, 1695, 3)\n(565, 1695, 3)\n(565, 1695, 3)\n(565, 1695, 3)\n(565, 1695, 3)\n(565, 1695, 3)\n(565, 1695, 3)\n(565, 1695, 3)\n(565, 1695, 3)\n(565, 1695, 3)\n(565, 1695, 3)\n(565, 1695, 3)\n(565, 1695, 3)\n(565, 1695, 3)\n(565, 1695, 3)\n(565, 1695, 3)\n(565, 1695, 3)\n(565, 1695, 3)\n(565, 1695, 3)\n(565, 1695, 3)\n(565, 1695, 3)\n(565, 1695, 3)\n(565, 1695, 3)\n(565, 1695, 3)\n(565, 1695, 3)\n(565, 1695, 3)\n(565, 1695, 3)\n(565, 1695, 3)\n(565, 1695, 3)\n(565, 1695, 3)\n(565, 1695, 3)\n(565, 1695, 3)\n(565, 1695, 3)\n(565, 1695, 3)\n(565, 1695, 3)\n(565, 1695, 3)\n(565, 1695, 3)\n(565, 1695, 3)\n(565, 1695, 3)\n(565, 1695, 3)\n(565, 1695, 3)\n(565, 1695, 3)\n(565, 1695, 3)\n(565, 1695, 3)\n(565, 1695, 3)\n(565, 1695, 3)\n(565, 1695, 3)\n(565, 1695, 3)\n(565, 1695, 3)\n(565, 1695, 3)\n(565, 1695, 3)\n(565, 1695, 3)\n(565, 1695, 3)\n(565, 1695, 3)\n(565, 1695, 3)\n(565, 1695, 3)\n(565, 1695, 3)\n(565, 1695, 3)\n(565, 1695, 3)\n(565, 1695, 3)\n(565, 1695, 3)\n(565, 1695, 3)\n(565, 1695, 3)\n(565, 1695, 3)\n(565, 1695, 3)\n(565, 1695, 3)\n(565, 1695, 3)\n(565, 1695, 3)\n(565, 1695, 3)\n(565, 1695, 3)\n(565, 1695, 3)\n(565, 1695, 3)\n(565, 1695, 3)\n(565, 1695, 3)\n(565, 1695, 3)\n(565, 1695, 3)\n(565, 1695, 3)\n(565, 1695, 3)\n(565, 1695, 3)\n(565, 1695, 3)\n(565, 1695, 3)\n(565, 1695, 3)\n(565, 1695, 3)\n(565, 1695, 3)\n(565, 1695, 3)\n(565, 1695, 3)\n(565, 1695, 3)\n(565, 1695, 3)\n(565, 1695, 3)\n(565, 1695, 3)\n(565, 1695, 3)\n(565, 1695, 3)\n"
    }
   ],
   "source": [
    "def merge_frames():\n",
    "    syn_dir = \"/home/vuthede/Desktop/3D/input/\"\n",
    "    full_hd_dir = \"/home/vuthede/Desktop/3D/ref/\"\n",
    "    warping_dir = \"/home/vuthede/Desktop/3D/output_swap_3d/\"\n",
    "    out = cv2.VideoWriter('/home/vuthede/Desktop/3D/out3d.mp4',cv2.VideoWriter_fourcc('M','J','P','G'), 10, (565*3, 565))\n",
    "    for i in range(1,150):\n",
    "        im1 = cv2.imread(syn_dir+f\"{i}.png\")\n",
    "        im2 = cv2.imread(full_hd_dir+f\"{i}.png\")\n",
    "        im3 = cv2.imread(warping_dir+f\"{i}.png\")\n",
    "\n",
    "        concat = np.hstack([im1, im2, im3])\n",
    "        out.write(concat)\n",
    "\n",
    "        print(concat.shape)\n",
    "        cv2.imshow(\"Concat\", concat)\n",
    "        k = cv2.waitKey(0)\n",
    "\n",
    "        if k ==27:\n",
    "            break\n",
    "\n",
    "    out.release()\n",
    "\n",
    "merge_frames()"
   ]
  },
  {
   "cell_type": "code",
   "execution_count": null,
   "metadata": {},
   "outputs": [],
   "source": []
  },
  {
   "cell_type": "markdown",
   "metadata": {},
   "source": [
    "# Demo one image"
   ]
  },
  {
   "cell_type": "code",
   "execution_count": 14,
   "metadata": {},
   "outputs": [],
   "source": [
    "import time\n",
    "def warp_face2(img_in, img_ref):\n",
    "    #img_in is HD image\n",
    "    # img_ref is synthesis image\n",
    "    # Calculate position map and get pose and rotation matrix\n",
    "    pos1 = prn.process(img_in) \n",
    "    vertices1 = prn.get_vertices(pos1)\n",
    "    cam_mat1, pose1, R1 = estimate_pose(vertices1)\n",
    "    pos2 = prn.process(img_ref) \n",
    "    vertices2 = prn.get_vertices(pos2)\n",
    "    cam_mat2, pose2, R2 = estimate_pose(vertices2)\n",
    "\n",
    "    # Rotation 3D vertices\n",
    "    warp_vertices = np.matmul(np.matmul(vertices2,R2), np.linalg.inv(R1)) \n",
    "\n",
    "    # Do translation\n",
    "    center2_warp_pt = np.mean(warp_vertices, axis=0)\n",
    "    center1_pt = np.mean(vertices1, axis=0)\n",
    "    warp_vertices = warp_vertices - (center2_warp_pt - center1_pt)\n",
    "\n",
    "    # Render new synthesis image after doing transformation\n",
    "    # t1 = time.time()\n",
    "    texture_ref = cv2.remap(img_ref/255.0, pos2[:,:,:2].astype(np.float32), None, interpolation=cv2.INTER_NEAREST, borderMode=cv2.BORDER_CONSTANT,borderValue=(0))\n",
    "\n",
    "\n",
    "\n",
    "    # # print(\"Texture from pos map: \", time.time()-t1)\n",
    "\n",
    "    [h, w, c] = img_ref.shape\n",
    "    # # t1 = time.time()\n",
    "    \n",
    "    color = prn.get_colors_from_texture(texture_ref)\n",
    "    # warp_color = np.matmul(np.matmul(color,R2), np.linalg.inv(R1)) \n",
    "    # warp_color = warp_color - (center2_warp_pt - center1_pt)\n",
    "\n",
    "    # # print(\"Get color of texture: \", time.time()-t1)\n",
    "    \n",
    "    # t1 = time.time()\n",
    "    new_image = render_texture(warp_vertices.T, color.T, prn.triangles.T, h, w, c = 3)\n",
    "\n",
    "    pos3 = prn.process(new_image*255) \n",
    "    vertices3 = prn.get_vertices(pos3)\n",
    "    texture_ref3 = cv2.remap(new_image/255.0, pos3[:,:,:2].astype(np.float32), None, interpolation=cv2.INTER_NEAREST, borderMode=cv2.BORDER_CONSTANT,borderValue=(0))\n",
    "    color3 = prn.get_colors_from_texture(texture_ref3)\n",
    "    new_image3 = render_texture(vertices3.T, color3.T, prn.triangles.T, h, w, c = 3)\n",
    "\n",
    "\n",
    "    color_mask = np.ones((warp_vertices.shape[0], 1))\n",
    "\n",
    "    # print(\"Time render: \", time.time()-t1)\n",
    "    facemask = render_texture(vertices3.T, color_mask.T, prn.triangles.T, h, w, c = 3)\n",
    "\n",
    "    # # Using seamlessCloning to blending images\n",
    "    vis_ind = np.argwhere(facemask>0)\n",
    "    vis_min = np.min(vis_ind, 0)\n",
    "    vis_max = np.max(vis_ind, 0)\n",
    "    center = (int((vis_min[1] + vis_max[1])/2+0.5), int((vis_min[0] + vis_max[0])/2+0.5))\n",
    "    output = cv2.seamlessClone((new_image3*255).astype(np.uint8),(img_in).astype(np.uint8), (facemask*255).astype(np.uint8), center, cv2.NORMAL_CLONE)\n",
    "\n",
    "    return output\n"
   ]
  },
  {
   "cell_type": "code",
   "execution_count": 15,
   "metadata": {
    "tags": []
   },
   "outputs": [
    {
     "output_type": "error",
     "ename": "RuntimeError",
     "evalue": "Unsupported image type, must be 8bit gray or RGB image.",
     "traceback": [
      "\u001b[0;31m---------------------------------------------------------------------------\u001b[0m",
      "\u001b[0;31mRuntimeError\u001b[0m                              Traceback (most recent call last)",
      "\u001b[0;32m<ipython-input-15-edac124ce9c4>\u001b[0m in \u001b[0;36m<module>\u001b[0;34m\u001b[0m\n\u001b[1;32m      2\u001b[0m \u001b[0mimg_ref\u001b[0m \u001b[0;34m=\u001b[0m \u001b[0mcv2\u001b[0m\u001b[0;34m.\u001b[0m\u001b[0mimread\u001b[0m\u001b[0;34m(\u001b[0m\u001b[0;34m\"/home/vuthede/Desktop/3D/76_ref.png\"\u001b[0m\u001b[0;34m)\u001b[0m\u001b[0;34m\u001b[0m\u001b[0m\n\u001b[1;32m      3\u001b[0m \u001b[0;34m\u001b[0m\u001b[0m\n\u001b[0;32m----> 4\u001b[0;31m \u001b[0moutput\u001b[0m \u001b[0;34m=\u001b[0m \u001b[0mwarp_face2\u001b[0m\u001b[0;34m(\u001b[0m\u001b[0mimg_in\u001b[0m\u001b[0;34m,\u001b[0m \u001b[0mimg_ref\u001b[0m\u001b[0;34m)\u001b[0m\u001b[0;34m\u001b[0m\u001b[0m\n\u001b[0m\u001b[1;32m      5\u001b[0m \u001b[0;34m\u001b[0m\u001b[0m\n\u001b[1;32m      6\u001b[0m \u001b[0mfig\u001b[0m\u001b[0;34m,\u001b[0m \u001b[0max\u001b[0m \u001b[0;34m=\u001b[0m \u001b[0mplt\u001b[0m\u001b[0;34m.\u001b[0m\u001b[0msubplots\u001b[0m\u001b[0;34m(\u001b[0m\u001b[0;36m1\u001b[0m\u001b[0;34m,\u001b[0m\u001b[0;36m3\u001b[0m\u001b[0;34m,\u001b[0m\u001b[0mfigsize\u001b[0m\u001b[0;34m=\u001b[0m\u001b[0;34m(\u001b[0m\u001b[0;36m20\u001b[0m\u001b[0;34m,\u001b[0m\u001b[0;36m5\u001b[0m\u001b[0;34m)\u001b[0m\u001b[0;34m)\u001b[0m\u001b[0;34m\u001b[0m\u001b[0m\n",
      "\u001b[0;32m<ipython-input-14-dd71b295523d>\u001b[0m in \u001b[0;36mwarp_face2\u001b[0;34m(img_in, img_ref)\u001b[0m\n\u001b[1;32m     39\u001b[0m     \u001b[0mnew_image\u001b[0m \u001b[0;34m=\u001b[0m \u001b[0mrender_texture\u001b[0m\u001b[0;34m(\u001b[0m\u001b[0mwarp_vertices\u001b[0m\u001b[0;34m.\u001b[0m\u001b[0mT\u001b[0m\u001b[0;34m,\u001b[0m \u001b[0mcolor\u001b[0m\u001b[0;34m.\u001b[0m\u001b[0mT\u001b[0m\u001b[0;34m,\u001b[0m \u001b[0mprn\u001b[0m\u001b[0;34m.\u001b[0m\u001b[0mtriangles\u001b[0m\u001b[0;34m.\u001b[0m\u001b[0mT\u001b[0m\u001b[0;34m,\u001b[0m \u001b[0mh\u001b[0m\u001b[0;34m,\u001b[0m \u001b[0mw\u001b[0m\u001b[0;34m,\u001b[0m \u001b[0mc\u001b[0m \u001b[0;34m=\u001b[0m \u001b[0;36m3\u001b[0m\u001b[0;34m)\u001b[0m\u001b[0;34m\u001b[0m\u001b[0m\n\u001b[1;32m     40\u001b[0m \u001b[0;34m\u001b[0m\u001b[0m\n\u001b[0;32m---> 41\u001b[0;31m     \u001b[0mpos3\u001b[0m \u001b[0;34m=\u001b[0m \u001b[0mprn\u001b[0m\u001b[0;34m.\u001b[0m\u001b[0mprocess\u001b[0m\u001b[0;34m(\u001b[0m\u001b[0mnew_image\u001b[0m\u001b[0;34m)\u001b[0m\u001b[0;34m\u001b[0m\u001b[0m\n\u001b[0m\u001b[1;32m     42\u001b[0m     \u001b[0mvertices3\u001b[0m \u001b[0;34m=\u001b[0m \u001b[0mprn\u001b[0m\u001b[0;34m.\u001b[0m\u001b[0mget_vertices\u001b[0m\u001b[0;34m(\u001b[0m\u001b[0mpos3\u001b[0m\u001b[0;34m)\u001b[0m\u001b[0;34m\u001b[0m\u001b[0m\n\u001b[1;32m     43\u001b[0m     \u001b[0mtexture_ref3\u001b[0m \u001b[0;34m=\u001b[0m \u001b[0mcv2\u001b[0m\u001b[0;34m.\u001b[0m\u001b[0mremap\u001b[0m\u001b[0;34m(\u001b[0m\u001b[0mnew_image\u001b[0m\u001b[0;34m/\u001b[0m\u001b[0;36m255.0\u001b[0m\u001b[0;34m,\u001b[0m \u001b[0mpos3\u001b[0m\u001b[0;34m[\u001b[0m\u001b[0;34m:\u001b[0m\u001b[0;34m,\u001b[0m\u001b[0;34m:\u001b[0m\u001b[0;34m,\u001b[0m\u001b[0;34m:\u001b[0m\u001b[0;36m2\u001b[0m\u001b[0;34m]\u001b[0m\u001b[0;34m.\u001b[0m\u001b[0mastype\u001b[0m\u001b[0;34m(\u001b[0m\u001b[0mnp\u001b[0m\u001b[0;34m.\u001b[0m\u001b[0mfloat32\u001b[0m\u001b[0;34m)\u001b[0m\u001b[0;34m,\u001b[0m \u001b[0;32mNone\u001b[0m\u001b[0;34m,\u001b[0m \u001b[0minterpolation\u001b[0m\u001b[0;34m=\u001b[0m\u001b[0mcv2\u001b[0m\u001b[0;34m.\u001b[0m\u001b[0mINTER_NEAREST\u001b[0m\u001b[0;34m,\u001b[0m \u001b[0mborderMode\u001b[0m\u001b[0;34m=\u001b[0m\u001b[0mcv2\u001b[0m\u001b[0;34m.\u001b[0m\u001b[0mBORDER_CONSTANT\u001b[0m\u001b[0;34m,\u001b[0m\u001b[0mborderValue\u001b[0m\u001b[0;34m=\u001b[0m\u001b[0;34m(\u001b[0m\u001b[0;36m0\u001b[0m\u001b[0;34m)\u001b[0m\u001b[0;34m)\u001b[0m\u001b[0;34m\u001b[0m\u001b[0m\n",
      "\u001b[0;32m~/AI/PRNet/api.py\u001b[0m in \u001b[0;36mprocess\u001b[0;34m(self, input, image_info)\u001b[0m\n\u001b[1;32m     98\u001b[0m             \u001b[0msize\u001b[0m \u001b[0;34m=\u001b[0m \u001b[0mint\u001b[0m\u001b[0;34m(\u001b[0m\u001b[0mold_size\u001b[0m\u001b[0;34m*\u001b[0m\u001b[0;36m1.6\u001b[0m\u001b[0;34m)\u001b[0m\u001b[0;34m\u001b[0m\u001b[0m\n\u001b[1;32m     99\u001b[0m         \u001b[0;32melse\u001b[0m\u001b[0;34m:\u001b[0m\u001b[0;34m\u001b[0m\u001b[0m\n\u001b[0;32m--> 100\u001b[0;31m             \u001b[0mdetected_faces\u001b[0m \u001b[0;34m=\u001b[0m \u001b[0mself\u001b[0m\u001b[0;34m.\u001b[0m\u001b[0mdlib_detect\u001b[0m\u001b[0;34m(\u001b[0m\u001b[0mimage\u001b[0m\u001b[0;34m)\u001b[0m\u001b[0;34m\u001b[0m\u001b[0m\n\u001b[0m\u001b[1;32m    101\u001b[0m             \u001b[0;32mif\u001b[0m \u001b[0mlen\u001b[0m\u001b[0;34m(\u001b[0m\u001b[0mdetected_faces\u001b[0m\u001b[0;34m)\u001b[0m \u001b[0;34m==\u001b[0m \u001b[0;36m0\u001b[0m\u001b[0;34m:\u001b[0m\u001b[0;34m\u001b[0m\u001b[0m\n\u001b[1;32m    102\u001b[0m                 \u001b[0mprint\u001b[0m\u001b[0;34m(\u001b[0m\u001b[0;34m'warning: no detected face'\u001b[0m\u001b[0;34m)\u001b[0m\u001b[0;34m\u001b[0m\u001b[0m\n",
      "\u001b[0;32m~/AI/PRNet/api.py\u001b[0m in \u001b[0;36mdlib_detect\u001b[0;34m(self, image)\u001b[0m\n\u001b[1;32m     52\u001b[0m \u001b[0;34m\u001b[0m\u001b[0m\n\u001b[1;32m     53\u001b[0m     \u001b[0;32mdef\u001b[0m \u001b[0mdlib_detect\u001b[0m\u001b[0;34m(\u001b[0m\u001b[0mself\u001b[0m\u001b[0;34m,\u001b[0m \u001b[0mimage\u001b[0m\u001b[0;34m)\u001b[0m\u001b[0;34m:\u001b[0m\u001b[0;34m\u001b[0m\u001b[0m\n\u001b[0;32m---> 54\u001b[0;31m         \u001b[0;32mreturn\u001b[0m \u001b[0mself\u001b[0m\u001b[0;34m.\u001b[0m\u001b[0mface_detector\u001b[0m\u001b[0;34m(\u001b[0m\u001b[0mimage\u001b[0m\u001b[0;34m,\u001b[0m \u001b[0;36m1\u001b[0m\u001b[0;34m)\u001b[0m\u001b[0;34m\u001b[0m\u001b[0m\n\u001b[0m\u001b[1;32m     55\u001b[0m \u001b[0;34m\u001b[0m\u001b[0m\n\u001b[1;32m     56\u001b[0m     \u001b[0;32mdef\u001b[0m \u001b[0mnet_forward\u001b[0m\u001b[0;34m(\u001b[0m\u001b[0mself\u001b[0m\u001b[0;34m,\u001b[0m \u001b[0mimage\u001b[0m\u001b[0;34m)\u001b[0m\u001b[0;34m:\u001b[0m\u001b[0;34m\u001b[0m\u001b[0m\n",
      "\u001b[0;31mRuntimeError\u001b[0m: Unsupported image type, must be 8bit gray or RGB image."
     ]
    }
   ],
   "source": [
    "img_in = cv2.imread(\"/home/vuthede/Desktop/3D/76_in.png\")\n",
    "img_ref = cv2.imread(\"/home/vuthede/Desktop/3D/76_ref.png\") \n",
    "\n",
    "output = warp_face2(img_in, img_ref)\n",
    "\n",
    "fig, ax = plt.subplots(1,3,figsize=(20,5))\n",
    "ax[1].imshow(img_in[:,:,::-1])\n",
    "ax[1].set_title(\"HD\")\n",
    "ax[0].imshow(img_ref[:,:,::-1])\n",
    "ax[0].set_title(\"Ref\")\n",
    "ax[2].imshow(output[:,:,::-1])\n",
    "ax[2].set_title(\"Output\")"
   ]
  },
  {
   "cell_type": "code",
   "execution_count": null,
   "metadata": {},
   "outputs": [],
   "source": []
  }
 ],
 "metadata": {
  "language_info": {
   "codemirror_mode": {
    "name": "ipython",
    "version": 3
   },
   "file_extension": ".py",
   "mimetype": "text/x-python",
   "name": "python",
   "nbconvert_exporter": "python",
   "pygments_lexer": "ipython3",
   "version": "3.7.0-final"
  },
  "orig_nbformat": 2,
  "kernelspec": {
   "name": "python37064bitrnncondaad2e32c4bb1b4af49b878152bbee9716",
   "display_name": "Python 3.7.0 64-bit ('rnn': conda)"
  }
 },
 "nbformat": 4,
 "nbformat_minor": 2
}