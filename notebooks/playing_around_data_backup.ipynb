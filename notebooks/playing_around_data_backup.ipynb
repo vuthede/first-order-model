{
 "cells": [
  {
   "cell_type": "code",
   "execution_count": 1,
   "metadata": {
    "tags": []
   },
   "outputs": [
    {
     "output_type": "stream",
     "name": "stdout",
     "text": "WARNING:tensorflow:\nThe TensorFlow contrib module will not be included in TensorFlow 2.0.\nFor more information, please see:\n  * https://github.com/tensorflow/community/blob/master/rfcs/20180907-contrib-sunset.md\n  * https://github.com/tensorflow/addons\n  * https://github.com/tensorflow/io (for I/O related ops)\nIf you depend on functionality not listed there, please file an issue.\n\nWARNING:tensorflow:From ../../PRNet/predictor.py:89: The name tf.placeholder is deprecated. Please use tf.compat.v1.placeholder instead.\n\nWARNING:tensorflow:From ../../PRNet/predictor.py:31: The name tf.variable_scope is deprecated. Please use tf.compat.v1.variable_scope instead.\n\nWARNING:tensorflow:From /home/vuthede/anaconda3/envs/rnn/lib/python3.7/site-packages/tensorflow_core/contrib/layers/python/layers/layers.py:1057: Layer.apply (from tensorflow.python.keras.engine.base_layer) is deprecated and will be removed in a future version.\nInstructions for updating:\nPlease use `layer.__call__` method instead.\nWARNING:tensorflow:From ../../PRNet/predictor.py:91: The name tf.Session is deprecated. Please use tf.compat.v1.Session instead.\n\nWARNING:tensorflow:From ../../PRNet/predictor.py:91: The name tf.ConfigProto is deprecated. Please use tf.compat.v1.ConfigProto instead.\n\nWARNING:tensorflow:From ../../PRNet/predictor.py:91: The name tf.GPUOptions is deprecated. Please use tf.compat.v1.GPUOptions instead.\n\nWARNING:tensorflow:From ../../PRNet/predictor.py:94: The name tf.train.Saver is deprecated. Please use tf.compat.v1.train.Saver instead.\n\nWARNING:tensorflow:From ../../PRNet/predictor.py:75: The name tf.global_variables is deprecated. Please use tf.compat.v1.global_variables instead.\n\nINFO:tensorflow:Restoring parameters from ../../PRNet/Data/net-data/256_256_resfcn256_weight\n"
    }
   ],
   "source": [
    "import cv2\n",
    "import matplotlib.pyplot as plt\n",
    "import sys\n",
    "sys.path.insert(0, \"../../PRNet\")\n",
    "from api import PRN\n",
    "import os\n",
    "os.environ['CUDA_VISIBLE_DEVICES'] = '' # cpu\n",
    "prn = PRN(is_dlib = True, prefix=\"../../PRNet\")\n",
    "from utils.render import render_texture\n",
    "from utils.rotate_vertices import frontalize\n",
    "from utils.estimate_pose import estimate_pose\n",
    "import numpy as np\n",
    "import dlib\n",
    "sys.path.insert(0, \"../../deepfeatinterp\")\n",
    "import alignface\n",
    "\n",
    "import alignface\n",
    "\n",
    "import time\n",
    "def warp_face(img_in, img_ref):\n",
    "    #img_in is HD image\n",
    "    # img_ref is synthesis image\n",
    "    # Calculate position map and get pose and rotation matrix\n",
    "    pos1 = prn.process(img_in) \n",
    "    vertices1 = prn.get_vertices(pos1)\n",
    "    cam_mat1, pose1, R1 = estimate_pose(vertices1)\n",
    "    pos2 = prn.process(img_ref) \n",
    "    vertices2 = prn.get_vertices(pos2)\n",
    "    cam_mat2, pose2, R2 = estimate_pose(vertices2)\n",
    "\n",
    "    # Rotation 3D vertices\n",
    "    warp_vertices = np.matmul(np.matmul(vertices2,R2), np.linalg.inv(R1)) \n",
    "\n",
    "    # Do translation\n",
    "    center2_warp_pt = np.mean(warp_vertices, axis=0)\n",
    "    center1_pt = np.mean(vertices1, axis=0)\n",
    "    warp_vertices = warp_vertices - (center2_warp_pt - center1_pt)\n",
    "\n",
    "    # Render new synthesis image after doing transformation\n",
    "    # t1 = time.time()\n",
    "    texture_ref = cv2.remap(img_ref/255.0, pos2[:,:,:2].astype(np.float32), None, interpolation=cv2.INTER_NEAREST, borderMode=cv2.BORDER_CONSTANT,borderValue=(0))\n",
    "    # print(\"Texture from pos map: \", time.time()-t1)\n",
    "\n",
    "    [h, w, c] = img_ref.shape\n",
    "    # t1 = time.time()\n",
    "    \n",
    "    color = prn.get_colors_from_texture(texture_ref)\n",
    "    # print(\"Get color of texture: \", time.time()-t1)\n",
    "    \n",
    "    color_mask = np.ones((warp_vertices.shape[0], 1))\n",
    "    t1 = time.time()\n",
    "    new_image = render_texture(warp_vertices.T, color.T, prn.triangles.T, h, w, c = 3)\n",
    "    print(\"Time render: \", time.time()-t1)\n",
    "    facemask = render_texture(warp_vertices.T, color_mask.T, prn.triangles.T, h, w, c = 3)\n",
    "\n",
    "    # Using seamlessCloning to blending images\n",
    "    vis_ind = np.argwhere(facemask>0)\n",
    "    vis_min = np.min(vis_ind, 0)\n",
    "    vis_max = np.max(vis_ind, 0)\n",
    "    center = (int((vis_min[1] + vis_max[1])/2+0.5), int((vis_min[0] + vis_max[0])/2+0.5))\n",
    "    output = cv2.seamlessClone((new_image*255).astype(np.uint8),(img_in).astype(np.uint8), (facemask*255).astype(np.uint8), center, cv2.NORMAL_CLONE)\n",
    "\n",
    "    return output\n",
    "\n",
    "model_path = \"/home/vuthede/Downloads/shape_predictor_81_face_landmarks.dat\"\n",
    "detector = dlib.get_frontal_face_detector()\n",
    "predictor = dlib.shape_predictor(model_path)\n",
    "face_d,face_p=alignface.load_face_detector(predictor_path=\"/home/vuthede/AI/deepfeatinterp/models/shape_predictor_68_face_landmarks.dat\")\n",
    "\n",
    "\n",
    "def get_landmark(im1):\n",
    "    det0 = detector(im1, 0)[0]\n",
    "    shape = predictor(im1, det0)\n",
    "    landmarks = np.matrix([[p.x, p.y] for p in shape.parts()])\n",
    "    landmarks = np.array(landmarks)\n",
    "    return landmarks\n",
    "\n",
    "def draw_landmark(im, l, color =(0,255,0)):\n",
    "    im_ = im.copy()\n",
    "    for i in l:\n",
    "        cv2.circle(im_, (i[0],i[1]), 3,color, -1)\n",
    "\n",
    "    return im_\n",
    "\n",
    "def warp_face_2D(img_in, img_ref):\n",
    "    cv2.imwrite(\"tmp.png\", img_ref)\n",
    "    cv2.imwrite(\"tmp2.png\", img_in)\n",
    "\n",
    "    lm1 = get_landmark(img_ref)\n",
    "    lm2 = get_landmark(img_in)\n",
    "    # template,original=alignface.detect_landmarks(\"tmp.png\",face_d,face_p)\n",
    "    # template2,original2=alignface.detect_landmarks(\"tmp2.png\",face_d,face_p)\n",
    "\n",
    "    M,loss=alignface.fit_face_landmarks(lm1[:,::-1],lm2[:,::-1], landmarks=list(range(81)), scale_landmarks=[0,16],location_landmark=30,image_dims=img_in.shape[:2])\n",
    "\n",
    "    warp_image = alignface.warp_to_template(img_ref,M,border_value=(0.5,0.5,0.5),image_dims=img_in.shape)\n",
    "\n",
    "    # cv2.imshow(\"warp image raw:\", warp_image)\n",
    "\n",
    "     # Find convex hull\n",
    "    hull1 = []\n",
    "    hull2 = []\n",
    "\n",
    "   \n",
    "\n",
    "    # template = np.array(template[:,::-1]).astype(int)\n",
    "    # template2 = np.array(template2[:,::-1]).astype(int)\n",
    "\n",
    "    show = draw_landmark(img_ref, lm1)\n",
    "    # cv2.imshow(\"Lmk:\", show)\n",
    "\n",
    "    # print(template)\n",
    "    # print(template.shape)\n",
    "\n",
    "    hullIndex = cv2.convexHull(lm1, returnPoints = False)          \n",
    "    for i in range(0, len(hullIndex)):\n",
    "        hull1.append(lm1[int(hullIndex[i])])\n",
    "        hull2.append(lm2[int(hullIndex[i])])\n",
    "    \n",
    "    hull1 = np.array(hull1)\n",
    "    hull2 = np.array(hull2)\n",
    "\n",
    "    mouth_mask = np.zeros(img_ref.shape, img_ref.dtype)\n",
    "    cv2.fillPoly(mouth_mask, [hull2], (255, 255, 255))\n",
    "    # cv2.imshow(\"mask:\", mouth_mask)\n",
    "\n",
    "    r = cv2.boundingRect(np.float32(hull2))    \n",
    "    center = ((r[0]+int(r[2]/2), r[1]+int(r[3]/2)))\n",
    "    clone = cv2.seamlessClone(warp_image, img_in, mouth_mask, center, cv2.NORMAL_CLONE)\n",
    "\n",
    "    return clone\n",
    "\n"
   ]
  },
  {
   "cell_type": "markdown",
   "metadata": {},
   "source": [
    "# Test demo"
   ]
  },
  {
   "cell_type": "code",
   "execution_count": 3,
   "metadata": {
    "tags": []
   },
   "outputs": [],
   "source": [
    "cap_hd = cv2.VideoCapture(\"../cropobamafullhd10s.mp4\")\n",
    "cap_syn = cv2.VideoCapture(\"../resultobamafullhd10s.mp4\")\n",
    "\n",
    "i = 0\n",
    "while True:\n",
    "    i +=1\n",
    "\n",
    "    if i%15:\n",
    "        ret1, hd = cap_hd.read()\n",
    "        ret2, syn = cap_syn.read()\n",
    "\n",
    "        if not ret1 or not ret2:\n",
    "            print(\"Quit\")\n",
    "            # out.release()\n",
    "            break\n",
    "\n",
    "        # warp, transform = warp_face_2D(hd, syn)\n",
    "        warp  = warp_face_2D(hd, syn)\n",
    "\n",
    "\n",
    "        concat = np.hstack([hd, syn, warp])\n",
    "        # concat = np.hstack([hd, syn,transform, warp])\n",
    "\n",
    "\n",
    "        cv2.imshow(\"hd\", hd)\n",
    "        cv2.imshow(\"syn\", syn)\n",
    "        cv2.imshow(\"warp\", warp)\n",
    "        # cv2.imshow(\"transform\", transform)\n",
    "        cv2.imshow(\"concat\", concat)\n",
    "        # out.write(concat)\n",
    "\n",
    "\n",
    "\n",
    "\n",
    "        k = cv2.waitKey(0)\n",
    "        if k==27:\n",
    "            # out.release()\n",
    "            break\n",
    "\n",
    "# out.release()\n",
    "cv2.destroyAllWindows()\n",
    "    "
   ]
  },
  {
   "cell_type": "code",
   "execution_count": 6,
   "metadata": {
    "tags": []
   },
   "outputs": [
    {
     "output_type": "stream",
     "name": "stdout",
     "text": "57\n"
    }
   ],
   "source": [
    "import random\n",
    "quality_ranges = [(15, 75)]\n",
    "for qr in quality_ranges:\n",
    "    quality = int(random.random() * (qr[1] - qr[0]) + qr[0])\n",
    "    "
   ]
  },
  {
   "cell_type": "code",
   "execution_count": 2,
   "metadata": {},
   "outputs": [],
   "source": []
  },
  {
   "cell_type": "code",
   "execution_count": 6,
   "metadata": {
    "tags": []
   },
   "outputs": [],
   "source": [
    "cap_hd = cv2.VideoCapture(\"../cropobamafullhd10s.mp4\")\n",
    "cap_syn = cv2.VideoCapture(\"../resultobamafullhd10s.mp4\")\n",
    "out = cv2.VideoWriter('./data_playing_2d.mp4',cv2.VideoWriter_fourcc('M','J','P','G'), 10, (256*4, 256))\n",
    "\n",
    "i = 0\n",
    "while True:\n",
    "    i +=1\n",
    "\n",
    "    if i%15:\n",
    "        ret1, hd = cap_hd.read()\n",
    "        ret2, syn = cap_syn.read()\n",
    "\n",
    "        if not ret1 or not ret2:\n",
    "            print(\"Quit\")\n",
    "            out.release()\n",
    "            break\n",
    "\n",
    "        warp, transform = warp_face_2D(hd, syn)\n",
    "\n",
    "        concat = np.hstack([hd, syn,transform, warp])\n",
    "\n",
    "        cv2.imshow(\"hd\", hd)\n",
    "        cv2.imshow(\"syn\", syn)\n",
    "        cv2.imshow(\"warp\", warp)\n",
    "        cv2.imshow(\"transform\", transform)\n",
    "        cv2.imshow(\"concat\", concat)\n",
    "        out.write(concat)\n",
    "\n",
    "\n",
    "\n",
    "\n",
    "        k = cv2.waitKey(0)\n",
    "        if k==27:\n",
    "            out.release()\n",
    "            break\n",
    "\n",
    "out.release()\n",
    "cv2.destroyAllWindows()\n",
    "    "
   ]
  },
  {
   "cell_type": "code",
   "execution_count": 2,
   "metadata": {},
   "outputs": [
    {
     "output_type": "error",
     "ename": "error",
     "evalue": "OpenCV(4.2.0) /io/opencv/modules/imgcodecs/src/loadsave.cpp:715: error: (-215:Assertion failed) !_img.empty() in function 'imwrite'\n",
     "traceback": [
      "\u001b[0;31m---------------------------------------------------------------------------\u001b[0m",
      "\u001b[0;31merror\u001b[0m                                     Traceback (most recent call last)",
      "\u001b[0;32m<ipython-input-2-628647e32001>\u001b[0m in \u001b[0;36m<module>\u001b[0;34m\u001b[0m\n\u001b[1;32m     49\u001b[0m prepare_data_for_face_res(highresvideo=\"batches_highres/1.mp4\", lowressyn=\"synthesis_guided_by_512x512/1.mp4\",\n\u001b[1;32m     50\u001b[0m                           \u001b[0mdata_output\u001b[0m\u001b[0;34m=\u001b[0m\u001b[0;34m\"train_data\"\u001b[0m\u001b[0;34m,\u001b[0m \u001b[0mprefix\u001b[0m\u001b[0;34m=\u001b[0m\u001b[0;34m'batch1'\u001b[0m\u001b[0;34m,\u001b[0m\u001b[0;34m\u001b[0m\u001b[0m\n\u001b[0;32m---> 51\u001b[0;31m                           downsample=2, warp2d=True, warp3d=False)\n\u001b[0m\u001b[1;32m     52\u001b[0m \u001b[0;34m\u001b[0m\u001b[0m\n\u001b[1;32m     53\u001b[0m \u001b[0;34m\u001b[0m\u001b[0m\n",
      "\u001b[0;32m<ipython-input-2-628647e32001>\u001b[0m in \u001b[0;36mprepare_data_for_face_res\u001b[0;34m(highresvideo, lowressyn, data_output, prefix, downsample, warp2d, warp3d)\u001b[0m\n\u001b[1;32m     28\u001b[0m \u001b[0;34m\u001b[0m\u001b[0m\n\u001b[1;32m     29\u001b[0m         \u001b[0;32mif\u001b[0m \u001b[0mi\u001b[0m\u001b[0;34m%\u001b[0m\u001b[0mdownsample\u001b[0m\u001b[0;34m==\u001b[0m\u001b[0;36m0\u001b[0m\u001b[0;34m:\u001b[0m\u001b[0;34m\u001b[0m\u001b[0m\n\u001b[0;32m---> 30\u001b[0;31m             \u001b[0mcv2\u001b[0m\u001b[0;34m.\u001b[0m\u001b[0mimwrite\u001b[0m\u001b[0;34m(\u001b[0m\u001b[0;34mf'{data_output}/{highres_out}/{prefix}_{i}.png'\u001b[0m\u001b[0;34m,\u001b[0m \u001b[0mhr\u001b[0m\u001b[0;34m)\u001b[0m\u001b[0;34m\u001b[0m\u001b[0m\n\u001b[0m\u001b[1;32m     31\u001b[0m \u001b[0;34m\u001b[0m\u001b[0m\n\u001b[1;32m     32\u001b[0m \u001b[0;34m\u001b[0m\u001b[0m\n",
      "\u001b[0;31merror\u001b[0m: OpenCV(4.2.0) /io/opencv/modules/imgcodecs/src/loadsave.cpp:715: error: (-215:Assertion failed) !_img.empty() in function 'imwrite'\n"
     ]
    }
   ],
   "source": [
    "def prepare_data_for_face_res(highresvideo, lowressyn, data_output, prefix='batch1', downsample=2, warp2d=True, warp3d=False):\n",
    "    \"\"\"\n",
    "    /highres = 512x512\n",
    "    /lowres  = 256x256 -->128x128\n",
    "    /dataoutput = /--highres\n",
    "                  /--lowres_warp2d\n",
    "                  /--lowres_warp3d\n",
    "    \"\"\"\n",
    "    \n",
    "    highres_out = \"highres\"\n",
    "    lowres_warp2d_out = \"lowres_warp2d\"\n",
    "    lowres_warp3d_out = \"lowres_warp3d\"\n",
    "\n",
    "    cap_high = cv2.VideoCapture(highresvideo)\n",
    "    cap_low = cv2.VideoCapture(lowressyn)\n",
    "    \n",
    "    if not os.path.isdir(data_output):\n",
    "        os.makedirs(data_output + \"/\" + highres_out)\n",
    "        os.makedirs(data_output + \"/\" + lowres_warp2d_out)\n",
    "        os.makedirs(data_output + \"/\" + lowres_warp3d_out)\n",
    "\n",
    "   \n",
    "\n",
    "    i = 0\n",
    "    while True:\n",
    "        ret1, hr = cap_high.read()\n",
    "        ret2, lr = cap_low.read()\n",
    "\n",
    "        if i%downsample==0:\n",
    "            cv2.imwrite(f'{data_output}/{highres_out}/{prefix}_{i}.png', hr)\n",
    "\n",
    "\n",
    "            assert hr.shape[:2]==(512,512) and lr.shape[:2]==(256,256) \n",
    "            hr_tmp = cv2.resize(hr, (256, 256))\n",
    "\n",
    "            if warp2d:\n",
    "                lr_warp2d = warp_face_2D(hr_tmp, lr)\n",
    "                lr_warp2d = cv2.resize(lr_warp2d, (128, 128))\n",
    "\n",
    "                cv2.imwrite(f'{data_output}/{lowres_warp2d_out}/{prefix}_{i}.png', lr_warp2d)\n",
    "            if warp3d:\n",
    "                lr_warp3d = warp_face(hr_tmp, lr)\n",
    "                lr_warp3d = cv2.resize(lr_warp3d, (128, 128))\n",
    "                cv2.imwrite(f'{data_output}/{lowres_warp3d_out}/{prefix}_{i}.png', lr_warp3d)\n",
    "\n",
    "        i += 1\n",
    "\n",
    "\n",
    "prepare_data_for_face_res(highresvideo=\"batches_highres/1.mp4\", lowressyn=\"synthesis_guided_by_512x512/1.mp4\",\n",
    "                          data_output=\"train_data\", prefix='batch1',\n",
    "                          downsample=2, warp2d=True, warp3d=False)\n",
    "\n",
    "\n",
    "\n"
   ]
  },
  {
   "cell_type": "markdown",
   "metadata": {},
   "source": [
    "# Test data"
   ]
  },
  {
   "cell_type": "code",
   "execution_count": 5,
   "metadata": {
    "tags": []
   },
   "outputs": [],
   "source": [
    "import glob\n",
    "import cv2\n",
    "\n",
    "highres = glob.glob(\"./train_data/highres/*.png\")\n",
    "for h in highres:\n",
    "    l = h.replace(\"highres\", \"lowres_warp2d\")\n",
    "    h_im = cv2.imread(h)\n",
    "    cv2.imshow(\"High\", h_im)\n",
    "    l_im = cv2.imread(l)\n",
    "    l_im = cv2.resize(l_im, (512,512))\n",
    "    cv2.imshow(\"Low\",l_im)\n",
    "\n",
    "    k = cv2.waitKey(0)\n",
    "\n",
    "    if k ==27:\n",
    "        break\n",
    "\n",
    "cv2.destroyAllWindows()"
   ]
  },
  {
   "cell_type": "code",
   "execution_count": 3,
   "metadata": {},
   "outputs": [],
   "source": [
    "import numpy as np\n",
    "import glob\n",
    "\n",
    "def get_loss_lmks(data_path):\n",
    "    highres = glob.glob(data_path + \"/highres/*.png\")\n",
    "    losses = {}\n",
    "    for h in highres:\n",
    "        l = h.replace(\"highres\", \"lowres_warp2d\")\n",
    "        h_im = cv2.imread(h)\n",
    "        l_im = cv2.imread(l)\n",
    "        l_im = cv2.resize(l_im, (512,512))\n",
    "\n",
    "        h_lmk = get_landmark(h_im)\n",
    "        l_lmk = get_landmark(l_im)\n",
    "        losses[f'{os.path.basename(h)}'] = np.linalg.norm(h_lmk-l_lmk)\n",
    "    \n",
    "    return losses\n",
    "\n",
    "\n",
    "losses = get_loss_lmks(\"./train_data\")\n",
    "\n",
    "\n"
   ]
  },
  {
   "cell_type": "code",
   "execution_count": 10,
   "metadata": {},
   "outputs": [
    {
     "output_type": "execute_result",
     "data": {
      "text/plain": "(array([ 10.,  29., 119., 144., 158., 341., 209., 206., 220.,  99.,  63.,\n         56.,  21.,  21.,  10.,   9.,   7.,   7.,   7.,   7.,   3.,   6.,\n          3.,   3.,   2.,   8.,   3.,   0.,   1.,   0.,   2.,   0.,   5.,\n          0.,   1.,   2.,   0.,   1.,   2.,   2.,   1.,   0.,   1.,   0.,\n          1.,   0.,   0.,   2.,   2.,   0.,   1.,   0.,   0.,   0.,   1.,\n          1.,   0.,   0.,   0.,   0.,   0.,   0.,   1.,   0.,   0.,   0.,\n          0.,   0.,   0.,   0.,   0.,   0.,   0.,   0.,   0.,   0.,   0.,\n          0.,   0.,   0.,   0.,   0.,   0.,   0.,   0.,   0.,   0.,   1.,\n          0.,   0.,   0.,   0.,   0.,   0.,   0.,   0.,   0.,   0.,   0.,\n          1.]),\n array([  9.  ,  11.34,  13.68,  16.02,  18.36,  20.7 ,  23.04,  25.38,\n         27.72,  30.06,  32.4 ,  34.74,  37.08,  39.42,  41.76,  44.1 ,\n         46.44,  48.78,  51.12,  53.46,  55.8 ,  58.14,  60.48,  62.82,\n         65.16,  67.5 ,  69.84,  72.18,  74.52,  76.86,  79.2 ,  81.54,\n         83.88,  86.22,  88.56,  90.9 ,  93.24,  95.58,  97.92, 100.26,\n        102.6 , 104.94, 107.28, 109.62, 111.96, 114.3 , 116.64, 118.98,\n        121.32, 123.66, 126.  , 128.34, 130.68, 133.02, 135.36, 137.7 ,\n        140.04, 142.38, 144.72, 147.06, 149.4 , 151.74, 154.08, 156.42,\n        158.76, 161.1 , 163.44, 165.78, 168.12, 170.46, 172.8 , 175.14,\n        177.48, 179.82, 182.16, 184.5 , 186.84, 189.18, 191.52, 193.86,\n        196.2 , 198.54, 200.88, 203.22, 205.56, 207.9 , 210.24, 212.58,\n        214.92, 217.26, 219.6 , 221.94, 224.28, 226.62, 228.96, 231.3 ,\n        233.64, 235.98, 238.32, 240.66, 243.  ]),\n <a list of 100 Patch objects>)"
     },
     "metadata": {},
     "execution_count": 10
    },
    {
     "output_type": "display_data",
     "data": {
      "text/plain": "<Figure size 432x288 with 1 Axes>",
      "image/svg+xml": "<?xml version=\"1.0\" encoding=\"utf-8\" standalone=\"no\"?>\n<!DOCTYPE svg PUBLIC \"-//W3C//DTD SVG 1.1//EN\"\n  \"http://www.w3.org/Graphics/SVG/1.1/DTD/svg11.dtd\">\n<!-- Created with matplotlib (https://matplotlib.org/) -->\n<svg height=\"248.518125pt\" version=\"1.1\" viewBox=\"0 0 378.717963 248.518125\" width=\"378.717963pt\" xmlns=\"http://www.w3.org/2000/svg\" xmlns:xlink=\"http://www.w3.org/1999/xlink\">\n <defs>\n  <style type=\"text/css\">\n*{stroke-linecap:butt;stroke-linejoin:round;}\n  </style>\n </defs>\n <g id=\"figure_1\">\n  <g id=\"patch_1\">\n   <path d=\"M 0 248.518125 \nL 378.717963 248.518125 \nL 378.717963 0 \nL 0 0 \nz\n\" style=\"fill:none;\"/>\n  </g>\n  <g id=\"axes_1\">\n   <g id=\"patch_2\">\n    <path d=\"M 33.2875 224.64 \nL 368.0875 224.64 \nL 368.0875 7.2 \nL 33.2875 7.2 \nz\n\" style=\"fill:#ffffff;\"/>\n   </g>\n   <g id=\"patch_3\">\n    <path clip-path=\"url(#pe6c4970d0c)\" d=\"M 48.505682 224.64 \nL 51.549318 224.64 \nL 51.549318 218.567105 \nL 48.505682 218.567105 \nz\n\" style=\"fill:#1f77b4;\"/>\n   </g>\n   <g id=\"patch_4\">\n    <path clip-path=\"url(#pe6c4970d0c)\" d=\"M 51.549318 224.64 \nL 54.592955 224.64 \nL 54.592955 207.028605 \nL 51.549318 207.028605 \nz\n\" style=\"fill:#1f77b4;\"/>\n   </g>\n   <g id=\"patch_5\">\n    <path clip-path=\"url(#pe6c4970d0c)\" d=\"M 54.592955 224.64 \nL 57.636591 224.64 \nL 57.636591 152.372551 \nL 54.592955 152.372551 \nz\n\" style=\"fill:#1f77b4;\"/>\n   </g>\n   <g id=\"patch_6\">\n    <path clip-path=\"url(#pe6c4970d0c)\" d=\"M 57.636591 224.64 \nL 60.680227 224.64 \nL 60.680227 137.190314 \nL 57.636591 137.190314 \nz\n\" style=\"fill:#1f77b4;\"/>\n   </g>\n   <g id=\"patch_7\">\n    <path clip-path=\"url(#pe6c4970d0c)\" d=\"M 60.680227 224.64 \nL 63.723864 224.64 \nL 63.723864 128.688261 \nL 60.680227 128.688261 \nz\n\" style=\"fill:#1f77b4;\"/>\n   </g>\n   <g id=\"patch_8\">\n    <path clip-path=\"url(#pe6c4970d0c)\" d=\"M 63.723864 224.64 \nL 66.7675 224.64 \nL 66.7675 17.554286 \nL 63.723864 17.554286 \nz\n\" style=\"fill:#1f77b4;\"/>\n   </g>\n   <g id=\"patch_9\">\n    <path clip-path=\"url(#pe6c4970d0c)\" d=\"M 66.7675 224.64 \nL 69.811136 224.64 \nL 69.811136 97.716498 \nL 66.7675 97.716498 \nz\n\" style=\"fill:#1f77b4;\"/>\n   </g>\n   <g id=\"patch_10\">\n    <path clip-path=\"url(#pe6c4970d0c)\" d=\"M 69.811136 224.64 \nL 72.854773 224.64 \nL 72.854773 99.538366 \nL 69.811136 99.538366 \nz\n\" style=\"fill:#1f77b4;\"/>\n   </g>\n   <g id=\"patch_11\">\n    <path clip-path=\"url(#pe6c4970d0c)\" d=\"M 72.854773 224.64 \nL 75.898409 224.64 \nL 75.898409 91.036313 \nL 72.854773 91.036313 \nz\n\" style=\"fill:#1f77b4;\"/>\n   </g>\n   <g id=\"patch_12\">\n    <path clip-path=\"url(#pe6c4970d0c)\" d=\"M 75.898409 224.64 \nL 78.942045 224.64 \nL 78.942045 164.518341 \nL 75.898409 164.518341 \nz\n\" style=\"fill:#1f77b4;\"/>\n   </g>\n   <g id=\"patch_13\">\n    <path clip-path=\"url(#pe6c4970d0c)\" d=\"M 78.942045 224.64 \nL 81.985682 224.64 \nL 81.985682 186.380762 \nL 78.942045 186.380762 \nz\n\" style=\"fill:#1f77b4;\"/>\n   </g>\n   <g id=\"patch_14\">\n    <path clip-path=\"url(#pe6c4970d0c)\" d=\"M 81.985682 224.64 \nL 85.029318 224.64 \nL 85.029318 190.631789 \nL 81.985682 190.631789 \nz\n\" style=\"fill:#1f77b4;\"/>\n   </g>\n   <g id=\"patch_15\">\n    <path clip-path=\"url(#pe6c4970d0c)\" d=\"M 85.029318 224.64 \nL 88.072955 224.64 \nL 88.072955 211.886921 \nL 85.029318 211.886921 \nz\n\" style=\"fill:#1f77b4;\"/>\n   </g>\n   <g id=\"patch_16\">\n    <path clip-path=\"url(#pe6c4970d0c)\" d=\"M 88.072955 224.64 \nL 91.116591 224.64 \nL 91.116591 211.886921 \nL 88.072955 211.886921 \nz\n\" style=\"fill:#1f77b4;\"/>\n   </g>\n   <g id=\"patch_17\">\n    <path clip-path=\"url(#pe6c4970d0c)\" d=\"M 91.116591 224.64 \nL 94.160227 224.64 \nL 94.160227 218.567105 \nL 91.116591 218.567105 \nz\n\" style=\"fill:#1f77b4;\"/>\n   </g>\n   <g id=\"patch_18\">\n    <path clip-path=\"url(#pe6c4970d0c)\" d=\"M 94.160227 224.64 \nL 97.203864 224.64 \nL 97.203864 219.174395 \nL 94.160227 219.174395 \nz\n\" style=\"fill:#1f77b4;\"/>\n   </g>\n   <g id=\"patch_19\">\n    <path clip-path=\"url(#pe6c4970d0c)\" d=\"M 97.203864 224.64 \nL 100.2475 224.64 \nL 100.2475 220.388974 \nL 97.203864 220.388974 \nz\n\" style=\"fill:#1f77b4;\"/>\n   </g>\n   <g id=\"patch_20\">\n    <path clip-path=\"url(#pe6c4970d0c)\" d=\"M 100.2475 224.64 \nL 103.291136 224.64 \nL 103.291136 220.388974 \nL 100.2475 220.388974 \nz\n\" style=\"fill:#1f77b4;\"/>\n   </g>\n   <g id=\"patch_21\">\n    <path clip-path=\"url(#pe6c4970d0c)\" d=\"M 103.291136 224.64 \nL 106.334773 224.64 \nL 106.334773 220.388974 \nL 103.291136 220.388974 \nz\n\" style=\"fill:#1f77b4;\"/>\n   </g>\n   <g id=\"patch_22\">\n    <path clip-path=\"url(#pe6c4970d0c)\" d=\"M 106.334773 224.64 \nL 109.378409 224.64 \nL 109.378409 220.388974 \nL 106.334773 220.388974 \nz\n\" style=\"fill:#1f77b4;\"/>\n   </g>\n   <g id=\"patch_23\">\n    <path clip-path=\"url(#pe6c4970d0c)\" d=\"M 109.378409 224.64 \nL 112.422045 224.64 \nL 112.422045 222.818132 \nL 109.378409 222.818132 \nz\n\" style=\"fill:#1f77b4;\"/>\n   </g>\n   <g id=\"patch_24\">\n    <path clip-path=\"url(#pe6c4970d0c)\" d=\"M 112.422045 224.64 \nL 115.465682 224.64 \nL 115.465682 220.996263 \nL 112.422045 220.996263 \nz\n\" style=\"fill:#1f77b4;\"/>\n   </g>\n   <g id=\"patch_25\">\n    <path clip-path=\"url(#pe6c4970d0c)\" d=\"M 115.465682 224.64 \nL 118.509318 224.64 \nL 118.509318 222.818132 \nL 115.465682 222.818132 \nz\n\" style=\"fill:#1f77b4;\"/>\n   </g>\n   <g id=\"patch_26\">\n    <path clip-path=\"url(#pe6c4970d0c)\" d=\"M 118.509318 224.64 \nL 121.552955 224.64 \nL 121.552955 222.818132 \nL 118.509318 222.818132 \nz\n\" style=\"fill:#1f77b4;\"/>\n   </g>\n   <g id=\"patch_27\">\n    <path clip-path=\"url(#pe6c4970d0c)\" d=\"M 121.552955 224.64 \nL 124.596591 224.64 \nL 124.596591 223.425421 \nL 121.552955 223.425421 \nz\n\" style=\"fill:#1f77b4;\"/>\n   </g>\n   <g id=\"patch_28\">\n    <path clip-path=\"url(#pe6c4970d0c)\" d=\"M 124.596591 224.64 \nL 127.640227 224.64 \nL 127.640227 219.781684 \nL 124.596591 219.781684 \nz\n\" style=\"fill:#1f77b4;\"/>\n   </g>\n   <g id=\"patch_29\">\n    <path clip-path=\"url(#pe6c4970d0c)\" d=\"M 127.640227 224.64 \nL 130.683864 224.64 \nL 130.683864 222.818132 \nL 127.640227 222.818132 \nz\n\" style=\"fill:#1f77b4;\"/>\n   </g>\n   <g id=\"patch_30\">\n    <path clip-path=\"url(#pe6c4970d0c)\" d=\"M 130.683864 224.64 \nL 133.7275 224.64 \nL 133.7275 224.64 \nL 130.683864 224.64 \nz\n\" style=\"fill:#1f77b4;\"/>\n   </g>\n   <g id=\"patch_31\">\n    <path clip-path=\"url(#pe6c4970d0c)\" d=\"M 133.7275 224.64 \nL 136.771136 224.64 \nL 136.771136 224.032711 \nL 133.7275 224.032711 \nz\n\" style=\"fill:#1f77b4;\"/>\n   </g>\n   <g id=\"patch_32\">\n    <path clip-path=\"url(#pe6c4970d0c)\" d=\"M 136.771136 224.64 \nL 139.814773 224.64 \nL 139.814773 224.64 \nL 136.771136 224.64 \nz\n\" style=\"fill:#1f77b4;\"/>\n   </g>\n   <g id=\"patch_33\">\n    <path clip-path=\"url(#pe6c4970d0c)\" d=\"M 139.814773 224.64 \nL 142.858409 224.64 \nL 142.858409 223.425421 \nL 139.814773 223.425421 \nz\n\" style=\"fill:#1f77b4;\"/>\n   </g>\n   <g id=\"patch_34\">\n    <path clip-path=\"url(#pe6c4970d0c)\" d=\"M 142.858409 224.64 \nL 145.902045 224.64 \nL 145.902045 224.64 \nL 142.858409 224.64 \nz\n\" style=\"fill:#1f77b4;\"/>\n   </g>\n   <g id=\"patch_35\">\n    <path clip-path=\"url(#pe6c4970d0c)\" d=\"M 145.902045 224.64 \nL 148.945682 224.64 \nL 148.945682 221.603553 \nL 145.902045 221.603553 \nz\n\" style=\"fill:#1f77b4;\"/>\n   </g>\n   <g id=\"patch_36\">\n    <path clip-path=\"url(#pe6c4970d0c)\" d=\"M 148.945682 224.64 \nL 151.989318 224.64 \nL 151.989318 224.64 \nL 148.945682 224.64 \nz\n\" style=\"fill:#1f77b4;\"/>\n   </g>\n   <g id=\"patch_37\">\n    <path clip-path=\"url(#pe6c4970d0c)\" d=\"M 151.989318 224.64 \nL 155.032955 224.64 \nL 155.032955 224.032711 \nL 151.989318 224.032711 \nz\n\" style=\"fill:#1f77b4;\"/>\n   </g>\n   <g id=\"patch_38\">\n    <path clip-path=\"url(#pe6c4970d0c)\" d=\"M 155.032955 224.64 \nL 158.076591 224.64 \nL 158.076591 223.425421 \nL 155.032955 223.425421 \nz\n\" style=\"fill:#1f77b4;\"/>\n   </g>\n   <g id=\"patch_39\">\n    <path clip-path=\"url(#pe6c4970d0c)\" d=\"M 158.076591 224.64 \nL 161.120227 224.64 \nL 161.120227 224.64 \nL 158.076591 224.64 \nz\n\" style=\"fill:#1f77b4;\"/>\n   </g>\n   <g id=\"patch_40\">\n    <path clip-path=\"url(#pe6c4970d0c)\" d=\"M 161.120227 224.64 \nL 164.163864 224.64 \nL 164.163864 224.032711 \nL 161.120227 224.032711 \nz\n\" style=\"fill:#1f77b4;\"/>\n   </g>\n   <g id=\"patch_41\">\n    <path clip-path=\"url(#pe6c4970d0c)\" d=\"M 164.163864 224.64 \nL 167.2075 224.64 \nL 167.2075 223.425421 \nL 164.163864 223.425421 \nz\n\" style=\"fill:#1f77b4;\"/>\n   </g>\n   <g id=\"patch_42\">\n    <path clip-path=\"url(#pe6c4970d0c)\" d=\"M 167.2075 224.64 \nL 170.251136 224.64 \nL 170.251136 223.425421 \nL 167.2075 223.425421 \nz\n\" style=\"fill:#1f77b4;\"/>\n   </g>\n   <g id=\"patch_43\">\n    <path clip-path=\"url(#pe6c4970d0c)\" d=\"M 170.251136 224.64 \nL 173.294773 224.64 \nL 173.294773 224.032711 \nL 170.251136 224.032711 \nz\n\" style=\"fill:#1f77b4;\"/>\n   </g>\n   <g id=\"patch_44\">\n    <path clip-path=\"url(#pe6c4970d0c)\" d=\"M 173.294773 224.64 \nL 176.338409 224.64 \nL 176.338409 224.64 \nL 173.294773 224.64 \nz\n\" style=\"fill:#1f77b4;\"/>\n   </g>\n   <g id=\"patch_45\">\n    <path clip-path=\"url(#pe6c4970d0c)\" d=\"M 176.338409 224.64 \nL 179.382045 224.64 \nL 179.382045 224.032711 \nL 176.338409 224.032711 \nz\n\" style=\"fill:#1f77b4;\"/>\n   </g>\n   <g id=\"patch_46\">\n    <path clip-path=\"url(#pe6c4970d0c)\" d=\"M 179.382045 224.64 \nL 182.425682 224.64 \nL 182.425682 224.64 \nL 179.382045 224.64 \nz\n\" style=\"fill:#1f77b4;\"/>\n   </g>\n   <g id=\"patch_47\">\n    <path clip-path=\"url(#pe6c4970d0c)\" d=\"M 182.425682 224.64 \nL 185.469318 224.64 \nL 185.469318 224.032711 \nL 182.425682 224.032711 \nz\n\" style=\"fill:#1f77b4;\"/>\n   </g>\n   <g id=\"patch_48\">\n    <path clip-path=\"url(#pe6c4970d0c)\" d=\"M 185.469318 224.64 \nL 188.512955 224.64 \nL 188.512955 224.64 \nL 185.469318 224.64 \nz\n\" style=\"fill:#1f77b4;\"/>\n   </g>\n   <g id=\"patch_49\">\n    <path clip-path=\"url(#pe6c4970d0c)\" d=\"M 188.512955 224.64 \nL 191.556591 224.64 \nL 191.556591 224.64 \nL 188.512955 224.64 \nz\n\" style=\"fill:#1f77b4;\"/>\n   </g>\n   <g id=\"patch_50\">\n    <path clip-path=\"url(#pe6c4970d0c)\" d=\"M 191.556591 224.64 \nL 194.600227 224.64 \nL 194.600227 223.425421 \nL 191.556591 223.425421 \nz\n\" style=\"fill:#1f77b4;\"/>\n   </g>\n   <g id=\"patch_51\">\n    <path clip-path=\"url(#pe6c4970d0c)\" d=\"M 194.600227 224.64 \nL 197.643864 224.64 \nL 197.643864 223.425421 \nL 194.600227 223.425421 \nz\n\" style=\"fill:#1f77b4;\"/>\n   </g>\n   <g id=\"patch_52\">\n    <path clip-path=\"url(#pe6c4970d0c)\" d=\"M 197.643864 224.64 \nL 200.6875 224.64 \nL 200.6875 224.64 \nL 197.643864 224.64 \nz\n\" style=\"fill:#1f77b4;\"/>\n   </g>\n   <g id=\"patch_53\">\n    <path clip-path=\"url(#pe6c4970d0c)\" d=\"M 200.6875 224.64 \nL 203.731136 224.64 \nL 203.731136 224.032711 \nL 200.6875 224.032711 \nz\n\" style=\"fill:#1f77b4;\"/>\n   </g>\n   <g id=\"patch_54\">\n    <path clip-path=\"url(#pe6c4970d0c)\" d=\"M 203.731136 224.64 \nL 206.774773 224.64 \nL 206.774773 224.64 \nL 203.731136 224.64 \nz\n\" style=\"fill:#1f77b4;\"/>\n   </g>\n   <g id=\"patch_55\">\n    <path clip-path=\"url(#pe6c4970d0c)\" d=\"M 206.774773 224.64 \nL 209.818409 224.64 \nL 209.818409 224.64 \nL 206.774773 224.64 \nz\n\" style=\"fill:#1f77b4;\"/>\n   </g>\n   <g id=\"patch_56\">\n    <path clip-path=\"url(#pe6c4970d0c)\" d=\"M 209.818409 224.64 \nL 212.862045 224.64 \nL 212.862045 224.64 \nL 209.818409 224.64 \nz\n\" style=\"fill:#1f77b4;\"/>\n   </g>\n   <g id=\"patch_57\">\n    <path clip-path=\"url(#pe6c4970d0c)\" d=\"M 212.862045 224.64 \nL 215.905682 224.64 \nL 215.905682 224.032711 \nL 212.862045 224.032711 \nz\n\" style=\"fill:#1f77b4;\"/>\n   </g>\n   <g id=\"patch_58\">\n    <path clip-path=\"url(#pe6c4970d0c)\" d=\"M 215.905682 224.64 \nL 218.949318 224.64 \nL 218.949318 224.032711 \nL 215.905682 224.032711 \nz\n\" style=\"fill:#1f77b4;\"/>\n   </g>\n   <g id=\"patch_59\">\n    <path clip-path=\"url(#pe6c4970d0c)\" d=\"M 218.949318 224.64 \nL 221.992955 224.64 \nL 221.992955 224.64 \nL 218.949318 224.64 \nz\n\" style=\"fill:#1f77b4;\"/>\n   </g>\n   <g id=\"patch_60\">\n    <path clip-path=\"url(#pe6c4970d0c)\" d=\"M 221.992955 224.64 \nL 225.036591 224.64 \nL 225.036591 224.64 \nL 221.992955 224.64 \nz\n\" style=\"fill:#1f77b4;\"/>\n   </g>\n   <g id=\"patch_61\">\n    <path clip-path=\"url(#pe6c4970d0c)\" d=\"M 225.036591 224.64 \nL 228.080227 224.64 \nL 228.080227 224.64 \nL 225.036591 224.64 \nz\n\" style=\"fill:#1f77b4;\"/>\n   </g>\n   <g id=\"patch_62\">\n    <path clip-path=\"url(#pe6c4970d0c)\" d=\"M 228.080227 224.64 \nL 231.123864 224.64 \nL 231.123864 224.64 \nL 228.080227 224.64 \nz\n\" style=\"fill:#1f77b4;\"/>\n   </g>\n   <g id=\"patch_63\">\n    <path clip-path=\"url(#pe6c4970d0c)\" d=\"M 231.123864 224.64 \nL 234.1675 224.64 \nL 234.1675 224.64 \nL 231.123864 224.64 \nz\n\" style=\"fill:#1f77b4;\"/>\n   </g>\n   <g id=\"patch_64\">\n    <path clip-path=\"url(#pe6c4970d0c)\" d=\"M 234.1675 224.64 \nL 237.211136 224.64 \nL 237.211136 224.64 \nL 234.1675 224.64 \nz\n\" style=\"fill:#1f77b4;\"/>\n   </g>\n   <g id=\"patch_65\">\n    <path clip-path=\"url(#pe6c4970d0c)\" d=\"M 237.211136 224.64 \nL 240.254773 224.64 \nL 240.254773 224.032711 \nL 237.211136 224.032711 \nz\n\" style=\"fill:#1f77b4;\"/>\n   </g>\n   <g id=\"patch_66\">\n    <path clip-path=\"url(#pe6c4970d0c)\" d=\"M 240.254773 224.64 \nL 243.298409 224.64 \nL 243.298409 224.64 \nL 240.254773 224.64 \nz\n\" style=\"fill:#1f77b4;\"/>\n   </g>\n   <g id=\"patch_67\">\n    <path clip-path=\"url(#pe6c4970d0c)\" d=\"M 243.298409 224.64 \nL 246.342045 224.64 \nL 246.342045 224.64 \nL 243.298409 224.64 \nz\n\" style=\"fill:#1f77b4;\"/>\n   </g>\n   <g id=\"patch_68\">\n    <path clip-path=\"url(#pe6c4970d0c)\" d=\"M 246.342045 224.64 \nL 249.385682 224.64 \nL 249.385682 224.64 \nL 246.342045 224.64 \nz\n\" style=\"fill:#1f77b4;\"/>\n   </g>\n   <g id=\"patch_69\">\n    <path clip-path=\"url(#pe6c4970d0c)\" d=\"M 249.385682 224.64 \nL 252.429318 224.64 \nL 252.429318 224.64 \nL 249.385682 224.64 \nz\n\" style=\"fill:#1f77b4;\"/>\n   </g>\n   <g id=\"patch_70\">\n    <path clip-path=\"url(#pe6c4970d0c)\" d=\"M 252.429318 224.64 \nL 255.472955 224.64 \nL 255.472955 224.64 \nL 252.429318 224.64 \nz\n\" style=\"fill:#1f77b4;\"/>\n   </g>\n   <g id=\"patch_71\">\n    <path clip-path=\"url(#pe6c4970d0c)\" d=\"M 255.472955 224.64 \nL 258.516591 224.64 \nL 258.516591 224.64 \nL 255.472955 224.64 \nz\n\" style=\"fill:#1f77b4;\"/>\n   </g>\n   <g id=\"patch_72\">\n    <path clip-path=\"url(#pe6c4970d0c)\" d=\"M 258.516591 224.64 \nL 261.560227 224.64 \nL 261.560227 224.64 \nL 258.516591 224.64 \nz\n\" style=\"fill:#1f77b4;\"/>\n   </g>\n   <g id=\"patch_73\">\n    <path clip-path=\"url(#pe6c4970d0c)\" d=\"M 261.560227 224.64 \nL 264.603864 224.64 \nL 264.603864 224.64 \nL 261.560227 224.64 \nz\n\" style=\"fill:#1f77b4;\"/>\n   </g>\n   <g id=\"patch_74\">\n    <path clip-path=\"url(#pe6c4970d0c)\" d=\"M 264.603864 224.64 \nL 267.6475 224.64 \nL 267.6475 224.64 \nL 264.603864 224.64 \nz\n\" style=\"fill:#1f77b4;\"/>\n   </g>\n   <g id=\"patch_75\">\n    <path clip-path=\"url(#pe6c4970d0c)\" d=\"M 267.6475 224.64 \nL 270.691136 224.64 \nL 270.691136 224.64 \nL 267.6475 224.64 \nz\n\" style=\"fill:#1f77b4;\"/>\n   </g>\n   <g id=\"patch_76\">\n    <path clip-path=\"url(#pe6c4970d0c)\" d=\"M 270.691136 224.64 \nL 273.734773 224.64 \nL 273.734773 224.64 \nL 270.691136 224.64 \nz\n\" style=\"fill:#1f77b4;\"/>\n   </g>\n   <g id=\"patch_77\">\n    <path clip-path=\"url(#pe6c4970d0c)\" d=\"M 273.734773 224.64 \nL 276.778409 224.64 \nL 276.778409 224.64 \nL 273.734773 224.64 \nz\n\" style=\"fill:#1f77b4;\"/>\n   </g>\n   <g id=\"patch_78\">\n    <path clip-path=\"url(#pe6c4970d0c)\" d=\"M 276.778409 224.64 \nL 279.822045 224.64 \nL 279.822045 224.64 \nL 276.778409 224.64 \nz\n\" style=\"fill:#1f77b4;\"/>\n   </g>\n   <g id=\"patch_79\">\n    <path clip-path=\"url(#pe6c4970d0c)\" d=\"M 279.822045 224.64 \nL 282.865682 224.64 \nL 282.865682 224.64 \nL 279.822045 224.64 \nz\n\" style=\"fill:#1f77b4;\"/>\n   </g>\n   <g id=\"patch_80\">\n    <path clip-path=\"url(#pe6c4970d0c)\" d=\"M 282.865682 224.64 \nL 285.909318 224.64 \nL 285.909318 224.64 \nL 282.865682 224.64 \nz\n\" style=\"fill:#1f77b4;\"/>\n   </g>\n   <g id=\"patch_81\">\n    <path clip-path=\"url(#pe6c4970d0c)\" d=\"M 285.909318 224.64 \nL 288.952955 224.64 \nL 288.952955 224.64 \nL 285.909318 224.64 \nz\n\" style=\"fill:#1f77b4;\"/>\n   </g>\n   <g id=\"patch_82\">\n    <path clip-path=\"url(#pe6c4970d0c)\" d=\"M 288.952955 224.64 \nL 291.996591 224.64 \nL 291.996591 224.64 \nL 288.952955 224.64 \nz\n\" style=\"fill:#1f77b4;\"/>\n   </g>\n   <g id=\"patch_83\">\n    <path clip-path=\"url(#pe6c4970d0c)\" d=\"M 291.996591 224.64 \nL 295.040227 224.64 \nL 295.040227 224.64 \nL 291.996591 224.64 \nz\n\" style=\"fill:#1f77b4;\"/>\n   </g>\n   <g id=\"patch_84\">\n    <path clip-path=\"url(#pe6c4970d0c)\" d=\"M 295.040227 224.64 \nL 298.083864 224.64 \nL 298.083864 224.64 \nL 295.040227 224.64 \nz\n\" style=\"fill:#1f77b4;\"/>\n   </g>\n   <g id=\"patch_85\">\n    <path clip-path=\"url(#pe6c4970d0c)\" d=\"M 298.083864 224.64 \nL 301.1275 224.64 \nL 301.1275 224.64 \nL 298.083864 224.64 \nz\n\" style=\"fill:#1f77b4;\"/>\n   </g>\n   <g id=\"patch_86\">\n    <path clip-path=\"url(#pe6c4970d0c)\" d=\"M 301.1275 224.64 \nL 304.171136 224.64 \nL 304.171136 224.64 \nL 301.1275 224.64 \nz\n\" style=\"fill:#1f77b4;\"/>\n   </g>\n   <g id=\"patch_87\">\n    <path clip-path=\"url(#pe6c4970d0c)\" d=\"M 304.171136 224.64 \nL 307.214773 224.64 \nL 307.214773 224.64 \nL 304.171136 224.64 \nz\n\" style=\"fill:#1f77b4;\"/>\n   </g>\n   <g id=\"patch_88\">\n    <path clip-path=\"url(#pe6c4970d0c)\" d=\"M 307.214773 224.64 \nL 310.258409 224.64 \nL 310.258409 224.64 \nL 307.214773 224.64 \nz\n\" style=\"fill:#1f77b4;\"/>\n   </g>\n   <g id=\"patch_89\">\n    <path clip-path=\"url(#pe6c4970d0c)\" d=\"M 310.258409 224.64 \nL 313.302045 224.64 \nL 313.302045 224.64 \nL 310.258409 224.64 \nz\n\" style=\"fill:#1f77b4;\"/>\n   </g>\n   <g id=\"patch_90\">\n    <path clip-path=\"url(#pe6c4970d0c)\" d=\"M 313.302045 224.64 \nL 316.345682 224.64 \nL 316.345682 224.032711 \nL 313.302045 224.032711 \nz\n\" style=\"fill:#1f77b4;\"/>\n   </g>\n   <g id=\"patch_91\">\n    <path clip-path=\"url(#pe6c4970d0c)\" d=\"M 316.345682 224.64 \nL 319.389318 224.64 \nL 319.389318 224.64 \nL 316.345682 224.64 \nz\n\" style=\"fill:#1f77b4;\"/>\n   </g>\n   <g id=\"patch_92\">\n    <path clip-path=\"url(#pe6c4970d0c)\" d=\"M 319.389318 224.64 \nL 322.432955 224.64 \nL 322.432955 224.64 \nL 319.389318 224.64 \nz\n\" style=\"fill:#1f77b4;\"/>\n   </g>\n   <g id=\"patch_93\">\n    <path clip-path=\"url(#pe6c4970d0c)\" d=\"M 322.432955 224.64 \nL 325.476591 224.64 \nL 325.476591 224.64 \nL 322.432955 224.64 \nz\n\" style=\"fill:#1f77b4;\"/>\n   </g>\n   <g id=\"patch_94\">\n    <path clip-path=\"url(#pe6c4970d0c)\" d=\"M 325.476591 224.64 \nL 328.520227 224.64 \nL 328.520227 224.64 \nL 325.476591 224.64 \nz\n\" style=\"fill:#1f77b4;\"/>\n   </g>\n   <g id=\"patch_95\">\n    <path clip-path=\"url(#pe6c4970d0c)\" d=\"M 328.520227 224.64 \nL 331.563864 224.64 \nL 331.563864 224.64 \nL 328.520227 224.64 \nz\n\" style=\"fill:#1f77b4;\"/>\n   </g>\n   <g id=\"patch_96\">\n    <path clip-path=\"url(#pe6c4970d0c)\" d=\"M 331.563864 224.64 \nL 334.6075 224.64 \nL 334.6075 224.64 \nL 331.563864 224.64 \nz\n\" style=\"fill:#1f77b4;\"/>\n   </g>\n   <g id=\"patch_97\">\n    <path clip-path=\"url(#pe6c4970d0c)\" d=\"M 334.6075 224.64 \nL 337.651136 224.64 \nL 337.651136 224.64 \nL 334.6075 224.64 \nz\n\" style=\"fill:#1f77b4;\"/>\n   </g>\n   <g id=\"patch_98\">\n    <path clip-path=\"url(#pe6c4970d0c)\" d=\"M 337.651136 224.64 \nL 340.694773 224.64 \nL 340.694773 224.64 \nL 337.651136 224.64 \nz\n\" style=\"fill:#1f77b4;\"/>\n   </g>\n   <g id=\"patch_99\">\n    <path clip-path=\"url(#pe6c4970d0c)\" d=\"M 340.694773 224.64 \nL 343.738409 224.64 \nL 343.738409 224.64 \nL 340.694773 224.64 \nz\n\" style=\"fill:#1f77b4;\"/>\n   </g>\n   <g id=\"patch_100\">\n    <path clip-path=\"url(#pe6c4970d0c)\" d=\"M 343.738409 224.64 \nL 346.782045 224.64 \nL 346.782045 224.64 \nL 343.738409 224.64 \nz\n\" style=\"fill:#1f77b4;\"/>\n   </g>\n   <g id=\"patch_101\">\n    <path clip-path=\"url(#pe6c4970d0c)\" d=\"M 346.782045 224.64 \nL 349.825682 224.64 \nL 349.825682 224.64 \nL 346.782045 224.64 \nz\n\" style=\"fill:#1f77b4;\"/>\n   </g>\n   <g id=\"patch_102\">\n    <path clip-path=\"url(#pe6c4970d0c)\" d=\"M 349.825682 224.64 \nL 352.869318 224.64 \nL 352.869318 224.032711 \nL 349.825682 224.032711 \nz\n\" style=\"fill:#1f77b4;\"/>\n   </g>\n   <g id=\"matplotlib.axis_1\">\n    <g id=\"xtick_1\">\n     <g id=\"line2d_1\">\n      <defs>\n       <path d=\"M 0 0 \nL 0 3.5 \n\" id=\"m61420660b0\" style=\"stroke:#000000;stroke-width:0.8;\"/>\n      </defs>\n      <g>\n       <use style=\"stroke:#000000;stroke-width:0.8;\" x=\"36.799388\" xlink:href=\"#m61420660b0\" y=\"224.64\"/>\n      </g>\n     </g>\n     <g id=\"text_1\">\n      <!-- 0 -->\n      <defs>\n       <path d=\"M 31.78125 66.40625 \nQ 24.171875 66.40625 20.328125 58.90625 \nQ 16.5 51.421875 16.5 36.375 \nQ 16.5 21.390625 20.328125 13.890625 \nQ 24.171875 6.390625 31.78125 6.390625 \nQ 39.453125 6.390625 43.28125 13.890625 \nQ 47.125 21.390625 47.125 36.375 \nQ 47.125 51.421875 43.28125 58.90625 \nQ 39.453125 66.40625 31.78125 66.40625 \nz\nM 31.78125 74.21875 \nQ 44.046875 74.21875 50.515625 64.515625 \nQ 56.984375 54.828125 56.984375 36.375 \nQ 56.984375 17.96875 50.515625 8.265625 \nQ 44.046875 -1.421875 31.78125 -1.421875 \nQ 19.53125 -1.421875 13.0625 8.265625 \nQ 6.59375 17.96875 6.59375 36.375 \nQ 6.59375 54.828125 13.0625 64.515625 \nQ 19.53125 74.21875 31.78125 74.21875 \nz\n\" id=\"DejaVuSans-48\"/>\n      </defs>\n      <g transform=\"translate(33.618138 239.238438)scale(0.1 -0.1)\">\n       <use xlink:href=\"#DejaVuSans-48\"/>\n      </g>\n     </g>\n    </g>\n    <g id=\"xtick_2\">\n     <g id=\"line2d_2\">\n      <g>\n       <use style=\"stroke:#000000;stroke-width:0.8;\" x=\"101.834353\" xlink:href=\"#m61420660b0\" y=\"224.64\"/>\n      </g>\n     </g>\n     <g id=\"text_2\">\n      <!-- 50 -->\n      <defs>\n       <path d=\"M 10.796875 72.90625 \nL 49.515625 72.90625 \nL 49.515625 64.59375 \nL 19.828125 64.59375 \nL 19.828125 46.734375 \nQ 21.96875 47.46875 24.109375 47.828125 \nQ 26.265625 48.1875 28.421875 48.1875 \nQ 40.625 48.1875 47.75 41.5 \nQ 54.890625 34.8125 54.890625 23.390625 \nQ 54.890625 11.625 47.5625 5.09375 \nQ 40.234375 -1.421875 26.90625 -1.421875 \nQ 22.3125 -1.421875 17.546875 -0.640625 \nQ 12.796875 0.140625 7.71875 1.703125 \nL 7.71875 11.625 \nQ 12.109375 9.234375 16.796875 8.0625 \nQ 21.484375 6.890625 26.703125 6.890625 \nQ 35.15625 6.890625 40.078125 11.328125 \nQ 45.015625 15.765625 45.015625 23.390625 \nQ 45.015625 31 40.078125 35.4375 \nQ 35.15625 39.890625 26.703125 39.890625 \nQ 22.75 39.890625 18.8125 39.015625 \nQ 14.890625 38.140625 10.796875 36.28125 \nz\n\" id=\"DejaVuSans-53\"/>\n      </defs>\n      <g transform=\"translate(95.471853 239.238438)scale(0.1 -0.1)\">\n       <use xlink:href=\"#DejaVuSans-53\"/>\n       <use x=\"63.623047\" xlink:href=\"#DejaVuSans-48\"/>\n      </g>\n     </g>\n    </g>\n    <g id=\"xtick_3\">\n     <g id=\"line2d_3\">\n      <g>\n       <use style=\"stroke:#000000;stroke-width:0.8;\" x=\"166.869318\" xlink:href=\"#m61420660b0\" y=\"224.64\"/>\n      </g>\n     </g>\n     <g id=\"text_3\">\n      <!-- 100 -->\n      <defs>\n       <path d=\"M 12.40625 8.296875 \nL 28.515625 8.296875 \nL 28.515625 63.921875 \nL 10.984375 60.40625 \nL 10.984375 69.390625 \nL 28.421875 72.90625 \nL 38.28125 72.90625 \nL 38.28125 8.296875 \nL 54.390625 8.296875 \nL 54.390625 0 \nL 12.40625 0 \nz\n\" id=\"DejaVuSans-49\"/>\n      </defs>\n      <g transform=\"translate(157.325568 239.238438)scale(0.1 -0.1)\">\n       <use xlink:href=\"#DejaVuSans-49\"/>\n       <use x=\"63.623047\" xlink:href=\"#DejaVuSans-48\"/>\n       <use x=\"127.246094\" xlink:href=\"#DejaVuSans-48\"/>\n      </g>\n     </g>\n    </g>\n    <g id=\"xtick_4\">\n     <g id=\"line2d_4\">\n      <g>\n       <use style=\"stroke:#000000;stroke-width:0.8;\" x=\"231.904283\" xlink:href=\"#m61420660b0\" y=\"224.64\"/>\n      </g>\n     </g>\n     <g id=\"text_4\">\n      <!-- 150 -->\n      <g transform=\"translate(222.360533 239.238438)scale(0.1 -0.1)\">\n       <use xlink:href=\"#DejaVuSans-49\"/>\n       <use x=\"63.623047\" xlink:href=\"#DejaVuSans-53\"/>\n       <use x=\"127.246094\" xlink:href=\"#DejaVuSans-48\"/>\n      </g>\n     </g>\n    </g>\n    <g id=\"xtick_5\">\n     <g id=\"line2d_5\">\n      <g>\n       <use style=\"stroke:#000000;stroke-width:0.8;\" x=\"296.939248\" xlink:href=\"#m61420660b0\" y=\"224.64\"/>\n      </g>\n     </g>\n     <g id=\"text_5\">\n      <!-- 200 -->\n      <defs>\n       <path d=\"M 19.1875 8.296875 \nL 53.609375 8.296875 \nL 53.609375 0 \nL 7.328125 0 \nL 7.328125 8.296875 \nQ 12.9375 14.109375 22.625 23.890625 \nQ 32.328125 33.6875 34.8125 36.53125 \nQ 39.546875 41.84375 41.421875 45.53125 \nQ 43.3125 49.21875 43.3125 52.78125 \nQ 43.3125 58.59375 39.234375 62.25 \nQ 35.15625 65.921875 28.609375 65.921875 \nQ 23.96875 65.921875 18.8125 64.3125 \nQ 13.671875 62.703125 7.8125 59.421875 \nL 7.8125 69.390625 \nQ 13.765625 71.78125 18.9375 73 \nQ 24.125 74.21875 28.421875 74.21875 \nQ 39.75 74.21875 46.484375 68.546875 \nQ 53.21875 62.890625 53.21875 53.421875 \nQ 53.21875 48.921875 51.53125 44.890625 \nQ 49.859375 40.875 45.40625 35.40625 \nQ 44.1875 33.984375 37.640625 27.21875 \nQ 31.109375 20.453125 19.1875 8.296875 \nz\n\" id=\"DejaVuSans-50\"/>\n      </defs>\n      <g transform=\"translate(287.395498 239.238438)scale(0.1 -0.1)\">\n       <use xlink:href=\"#DejaVuSans-50\"/>\n       <use x=\"63.623047\" xlink:href=\"#DejaVuSans-48\"/>\n       <use x=\"127.246094\" xlink:href=\"#DejaVuSans-48\"/>\n      </g>\n     </g>\n    </g>\n    <g id=\"xtick_6\">\n     <g id=\"line2d_6\">\n      <g>\n       <use style=\"stroke:#000000;stroke-width:0.8;\" x=\"361.974213\" xlink:href=\"#m61420660b0\" y=\"224.64\"/>\n      </g>\n     </g>\n     <g id=\"text_6\">\n      <!-- 250 -->\n      <g transform=\"translate(352.430463 239.238438)scale(0.1 -0.1)\">\n       <use xlink:href=\"#DejaVuSans-50\"/>\n       <use x=\"63.623047\" xlink:href=\"#DejaVuSans-53\"/>\n       <use x=\"127.246094\" xlink:href=\"#DejaVuSans-48\"/>\n      </g>\n     </g>\n    </g>\n   </g>\n   <g id=\"matplotlib.axis_2\">\n    <g id=\"ytick_1\">\n     <g id=\"line2d_7\">\n      <defs>\n       <path d=\"M 0 0 \nL -3.5 0 \n\" id=\"m968a1a4747\" style=\"stroke:#000000;stroke-width:0.8;\"/>\n      </defs>\n      <g>\n       <use style=\"stroke:#000000;stroke-width:0.8;\" x=\"33.2875\" xlink:href=\"#m968a1a4747\" y=\"224.64\"/>\n      </g>\n     </g>\n     <g id=\"text_7\">\n      <!-- 0 -->\n      <g transform=\"translate(19.925 228.439219)scale(0.1 -0.1)\">\n       <use xlink:href=\"#DejaVuSans-48\"/>\n      </g>\n     </g>\n    </g>\n    <g id=\"ytick_2\">\n     <g id=\"line2d_8\">\n      <g>\n       <use style=\"stroke:#000000;stroke-width:0.8;\" x=\"33.2875\" xlink:href=\"#m968a1a4747\" y=\"194.275526\"/>\n      </g>\n     </g>\n     <g id=\"text_8\">\n      <!-- 50 -->\n      <g transform=\"translate(13.5625 198.074745)scale(0.1 -0.1)\">\n       <use xlink:href=\"#DejaVuSans-53\"/>\n       <use x=\"63.623047\" xlink:href=\"#DejaVuSans-48\"/>\n      </g>\n     </g>\n    </g>\n    <g id=\"ytick_3\">\n     <g id=\"line2d_9\">\n      <g>\n       <use style=\"stroke:#000000;stroke-width:0.8;\" x=\"33.2875\" xlink:href=\"#m968a1a4747\" y=\"163.911052\"/>\n      </g>\n     </g>\n     <g id=\"text_9\">\n      <!-- 100 -->\n      <g transform=\"translate(7.2 167.71027)scale(0.1 -0.1)\">\n       <use xlink:href=\"#DejaVuSans-49\"/>\n       <use x=\"63.623047\" xlink:href=\"#DejaVuSans-48\"/>\n       <use x=\"127.246094\" xlink:href=\"#DejaVuSans-48\"/>\n      </g>\n     </g>\n    </g>\n    <g id=\"ytick_4\">\n     <g id=\"line2d_10\">\n      <g>\n       <use style=\"stroke:#000000;stroke-width:0.8;\" x=\"33.2875\" xlink:href=\"#m968a1a4747\" y=\"133.546577\"/>\n      </g>\n     </g>\n     <g id=\"text_10\">\n      <!-- 150 -->\n      <g transform=\"translate(7.2 137.345796)scale(0.1 -0.1)\">\n       <use xlink:href=\"#DejaVuSans-49\"/>\n       <use x=\"63.623047\" xlink:href=\"#DejaVuSans-53\"/>\n       <use x=\"127.246094\" xlink:href=\"#DejaVuSans-48\"/>\n      </g>\n     </g>\n    </g>\n    <g id=\"ytick_5\">\n     <g id=\"line2d_11\">\n      <g>\n       <use style=\"stroke:#000000;stroke-width:0.8;\" x=\"33.2875\" xlink:href=\"#m968a1a4747\" y=\"103.182103\"/>\n      </g>\n     </g>\n     <g id=\"text_11\">\n      <!-- 200 -->\n      <g transform=\"translate(7.2 106.981322)scale(0.1 -0.1)\">\n       <use xlink:href=\"#DejaVuSans-50\"/>\n       <use x=\"63.623047\" xlink:href=\"#DejaVuSans-48\"/>\n       <use x=\"127.246094\" xlink:href=\"#DejaVuSans-48\"/>\n      </g>\n     </g>\n    </g>\n    <g id=\"ytick_6\">\n     <g id=\"line2d_12\">\n      <g>\n       <use style=\"stroke:#000000;stroke-width:0.8;\" x=\"33.2875\" xlink:href=\"#m968a1a4747\" y=\"72.817629\"/>\n      </g>\n     </g>\n     <g id=\"text_12\">\n      <!-- 250 -->\n      <g transform=\"translate(7.2 76.616848)scale(0.1 -0.1)\">\n       <use xlink:href=\"#DejaVuSans-50\"/>\n       <use x=\"63.623047\" xlink:href=\"#DejaVuSans-53\"/>\n       <use x=\"127.246094\" xlink:href=\"#DejaVuSans-48\"/>\n      </g>\n     </g>\n    </g>\n    <g id=\"ytick_7\">\n     <g id=\"line2d_13\">\n      <g>\n       <use style=\"stroke:#000000;stroke-width:0.8;\" x=\"33.2875\" xlink:href=\"#m968a1a4747\" y=\"42.453155\"/>\n      </g>\n     </g>\n     <g id=\"text_13\">\n      <!-- 300 -->\n      <defs>\n       <path d=\"M 40.578125 39.3125 \nQ 47.65625 37.796875 51.625 33 \nQ 55.609375 28.21875 55.609375 21.1875 \nQ 55.609375 10.40625 48.1875 4.484375 \nQ 40.765625 -1.421875 27.09375 -1.421875 \nQ 22.515625 -1.421875 17.65625 -0.515625 \nQ 12.796875 0.390625 7.625 2.203125 \nL 7.625 11.71875 \nQ 11.71875 9.328125 16.59375 8.109375 \nQ 21.484375 6.890625 26.8125 6.890625 \nQ 36.078125 6.890625 40.9375 10.546875 \nQ 45.796875 14.203125 45.796875 21.1875 \nQ 45.796875 27.640625 41.28125 31.265625 \nQ 36.765625 34.90625 28.71875 34.90625 \nL 20.21875 34.90625 \nL 20.21875 43.015625 \nL 29.109375 43.015625 \nQ 36.375 43.015625 40.234375 45.921875 \nQ 44.09375 48.828125 44.09375 54.296875 \nQ 44.09375 59.90625 40.109375 62.90625 \nQ 36.140625 65.921875 28.71875 65.921875 \nQ 24.65625 65.921875 20.015625 65.03125 \nQ 15.375 64.15625 9.8125 62.3125 \nL 9.8125 71.09375 \nQ 15.4375 72.65625 20.34375 73.4375 \nQ 25.25 74.21875 29.59375 74.21875 \nQ 40.828125 74.21875 47.359375 69.109375 \nQ 53.90625 64.015625 53.90625 55.328125 \nQ 53.90625 49.265625 50.4375 45.09375 \nQ 46.96875 40.921875 40.578125 39.3125 \nz\n\" id=\"DejaVuSans-51\"/>\n      </defs>\n      <g transform=\"translate(7.2 46.252373)scale(0.1 -0.1)\">\n       <use xlink:href=\"#DejaVuSans-51\"/>\n       <use x=\"63.623047\" xlink:href=\"#DejaVuSans-48\"/>\n       <use x=\"127.246094\" xlink:href=\"#DejaVuSans-48\"/>\n      </g>\n     </g>\n    </g>\n    <g id=\"ytick_8\">\n     <g id=\"line2d_14\">\n      <g>\n       <use style=\"stroke:#000000;stroke-width:0.8;\" x=\"33.2875\" xlink:href=\"#m968a1a4747\" y=\"12.08868\"/>\n      </g>\n     </g>\n     <g id=\"text_14\">\n      <!-- 350 -->\n      <g transform=\"translate(7.2 15.887899)scale(0.1 -0.1)\">\n       <use xlink:href=\"#DejaVuSans-51\"/>\n       <use x=\"63.623047\" xlink:href=\"#DejaVuSans-53\"/>\n       <use x=\"127.246094\" xlink:href=\"#DejaVuSans-48\"/>\n      </g>\n     </g>\n    </g>\n   </g>\n   <g id=\"patch_103\">\n    <path d=\"M 33.2875 224.64 \nL 33.2875 7.2 \n\" style=\"fill:none;stroke:#000000;stroke-linecap:square;stroke-linejoin:miter;stroke-width:0.8;\"/>\n   </g>\n   <g id=\"patch_104\">\n    <path d=\"M 368.0875 224.64 \nL 368.0875 7.2 \n\" style=\"fill:none;stroke:#000000;stroke-linecap:square;stroke-linejoin:miter;stroke-width:0.8;\"/>\n   </g>\n   <g id=\"patch_105\">\n    <path d=\"M 33.2875 224.64 \nL 368.0875 224.64 \n\" style=\"fill:none;stroke:#000000;stroke-linecap:square;stroke-linejoin:miter;stroke-width:0.8;\"/>\n   </g>\n   <g id=\"patch_106\">\n    <path d=\"M 33.2875 7.2 \nL 368.0875 7.2 \n\" style=\"fill:none;stroke:#000000;stroke-linecap:square;stroke-linejoin:miter;stroke-width:0.8;\"/>\n   </g>\n  </g>\n </g>\n <defs>\n  <clipPath id=\"pe6c4970d0c\">\n   <rect height=\"217.44\" width=\"334.8\" x=\"33.2875\" y=\"7.2\"/>\n  </clipPath>\n </defs>\n</svg>\n",
      "image/png": "[encoded data removed]"
     },
     "metadata": {
      "needs_background": "light"
     }
    }
   ],
   "source": [
    "err = np.array(list(losses.values())).astype(int)\n",
    "plt.hist(err, bins=100)"
   ]
  },
  {
   "cell_type": "code",
   "execution_count": null,
   "metadata": {},
   "outputs": [],
   "source": []
  },
  {
   "cell_type": "markdown",
   "metadata": {},
   "source": [
    "# Divide batches"
   ]
  },
  {
   "cell_type": "code",
   "execution_count": 5,
   "metadata": {
    "tags": []
   },
   "outputs": [
    {
     "output_type": "stream",
     "name": "stdout",
     "text": "Finish one period\nFinish one period\nFinish one period\n"
    }
   ],
   "source": [
    "import cv2\n",
    "def concat_video_data(video, output_video):\n",
    "    out = cv2.VideoWriter(f'./{output_video}',cv2.VideoWriter_fourcc('M','J','P','G'), 30, (512, 512))    \n",
    "\n",
    "    period = [[0,43*30], [5*60*30,9*60*30], [10*60*30, 13*60*30]]\n",
    "    cap = cv2.VideoCapture(video)\n",
    "    x1 = 685\n",
    "    y1 = 85 \n",
    "    x2 = 1250\n",
    "    y2 = 650\n",
    "\n",
    "    for p in period:\n",
    "        cap.set(1, p[0])\n",
    "        num_frames = p[1]-p[0]\n",
    "        for i in range(num_frames):\n",
    "            ret, img = cap.read()\n",
    "            img = img[y1:y2, x1:x2]\n",
    "            img = cv2.resize(img, (512,512))\n",
    "            out.write(img)\n",
    "        print(\"Finish one period\")\n",
    "    \n",
    "    out.release()\n",
    "    cv2.destroyAllWindows()\n",
    "\n",
    "concat_video_data(\"../obama_fullhd.mp4\", output_video=\"concat_obama_512x512.mp4\")\n",
    "\n"
   ]
  },
  {
   "cell_type": "code",
   "execution_count": 7,
   "metadata": {},
   "outputs": [
    {
     "output_type": "execute_result",
     "data": {
      "text/plain": "True"
     },
     "metadata": {},
     "execution_count": 7
    }
   ],
   "source": [
    "cap = cv2.VideoCapture(\"concat_obama_512x512.mp4\")\n",
    "ret, img = cap.read()\n",
    "ret"
   ]
  },
  {
   "cell_type": "code",
   "execution_count": 11,
   "metadata": {
    "tags": []
   },
   "outputs": [
    {
     "output_type": "stream",
     "name": "stdout",
     "text": "New batch\nNew batch\nNew batch\nNew batch\n"
    }
   ],
   "source": [
    "import os\n",
    "import cv2\n",
    "\n",
    "def cut_batch_data(video, output_dir, down_to_256=False):\n",
    "    if not os.path.isdir(output_dir):\n",
    "        os.makedirs(output_dir)\n",
    "        \n",
    "    cap = cv2.VideoCapture(video)\n",
    "    batch = 0\n",
    "    i = 0\n",
    "    while True:\n",
    "        ret, img = cap.read()\n",
    "        # print(img.shape)\n",
    "\n",
    "        if not ret:\n",
    "            out.release()\n",
    "            break\n",
    "            \n",
    "        if i%(60*30*2)==0:\n",
    "            batch +=1\n",
    "            if down_to_256:\n",
    "                out = cv2.VideoWriter(f'./{output_dir}/{batch}.mp4',cv2.VideoWriter_fourcc('M','J','P','G'), 30, (256, 256))    \n",
    "            else:\n",
    "                out = cv2.VideoWriter(f'./{output_dir}/{batch}.mp4',cv2.VideoWriter_fourcc('M','J','P','G'), 30, (512, 512))    \n",
    "\n",
    "            print(\"New batch\")\n",
    "\n",
    "        out.write(img)\n",
    "        i+=1\n",
    "\n",
    "    out.release()\n",
    "\n",
    "\n",
    "cut_batch_data(\"./concat_obama_512x512.mp4\",output_dir=\"batches_highres\")\n",
    "\n"
   ]
  },
  {
   "cell_type": "code",
   "execution_count": 12,
   "metadata": {},
   "outputs": [
    {
     "output_type": "execute_result",
     "data": {
      "text/plain": "True"
     },
     "metadata": {},
     "execution_count": 12
    }
   ],
   "source": [
    "cap = cv2.VideoCapture(\"./batches_highres/4.mp4\")\n",
    "ret, img = cap.read()\n",
    "ret"
   ]
  },
  {
   "cell_type": "code",
   "execution_count": null,
   "metadata": {},
   "outputs": [],
   "source": []
  }
 ],
 "metadata": {
  "language_info": {
   "codemirror_mode": {
    "name": "ipython",
    "version": 3
   },
   "file_extension": ".py",
   "mimetype": "text/x-python",
   "name": "python",
   "nbconvert_exporter": "python",
   "pygments_lexer": "ipython3",
   "version": 3
  },
  "orig_nbformat": 2,
  "kernelspec": {
   "name": "python_defaultSpec_1595299454302",
   "display_name": "Python 3.7.0 64-bit ('rnn': conda)"
  }
 },
 "nbformat": 4,
 "nbformat_minor": 2
}