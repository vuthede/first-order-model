{
 "cells": [
  {
   "cell_type": "code",
   "execution_count": 1,
   "metadata": {
    "tags": []
   },
   "outputs": [
    {
     "output_type": "stream",
     "name": "stdout",
     "text": "WARNING:tensorflow:\nThe TensorFlow contrib module will not be included in TensorFlow 2.0.\nFor more information, please see:\n  * https://github.com/tensorflow/community/blob/master/rfcs/20180907-contrib-sunset.md\n  * https://github.com/tensorflow/addons\n  * https://github.com/tensorflow/io (for I/O related ops)\nIf you depend on functionality not listed there, please file an issue.\n\nWARNING:tensorflow:From ../../PRNet/predictor.py:89: The name tf.placeholder is deprecated. Please use tf.compat.v1.placeholder instead.\n\nWARNING:tensorflow:From ../../PRNet/predictor.py:31: The name tf.variable_scope is deprecated. Please use tf.compat.v1.variable_scope instead.\n\nWARNING:tensorflow:From /home/vuthede/anaconda3/envs/rnn/lib/python3.7/site-packages/tensorflow_core/contrib/layers/python/layers/layers.py:1057: Layer.apply (from tensorflow.python.keras.engine.base_layer) is deprecated and will be removed in a future version.\nInstructions for updating:\nPlease use `layer.__call__` method instead.\nWARNING:tensorflow:From ../../PRNet/predictor.py:91: The name tf.Session is deprecated. Please use tf.compat.v1.Session instead.\n\nWARNING:tensorflow:From ../../PRNet/predictor.py:91: The name tf.ConfigProto is deprecated. Please use tf.compat.v1.ConfigProto instead.\n\nWARNING:tensorflow:From ../../PRNet/predictor.py:91: The name tf.GPUOptions is deprecated. Please use tf.compat.v1.GPUOptions instead.\n\nWARNING:tensorflow:From ../../PRNet/predictor.py:94: The name tf.train.Saver is deprecated. Please use tf.compat.v1.train.Saver instead.\n\nWARNING:tensorflow:From ../../PRNet/predictor.py:75: The name tf.global_variables is deprecated. Please use tf.compat.v1.global_variables instead.\n\nINFO:tensorflow:Restoring parameters from ../../PRNet/Data/net-data/256_256_resfcn256_weight\n"
    }
   ],
   "source": [
    "import cv2\n",
    "import matplotlib.pyplot as plt\n",
    "import sys\n",
    "sys.path.insert(0, \"../../PRNet\")\n",
    "from api import PRN\n",
    "import os\n",
    "os.environ['CUDA_VISIBLE_DEVICES'] = '' # cpu\n",
    "prn = PRN(is_dlib = True, prefix=\"../../PRNet\")\n",
    "from utils.render import render_texture\n",
    "from utils.rotate_vertices import frontalize\n",
    "from utils.estimate_pose import estimate_pose\n",
    "import numpy as np\n",
    "import dlib\n",
    "sys.path.insert(0, \"../../deepfeatinterp\")\n",
    "import alignface\n",
    "\n",
    "import alignface\n",
    "\n",
    "import time\n",
    "def warp_face(img_in, img_ref):\n",
    "    #img_in is HD image\n",
    "    # img_ref is synthesis image\n",
    "    # Calculate position map and get pose and rotation matrix\n",
    "    pos1 = prn.process(img_in) \n",
    "    vertices1 = prn.get_vertices(pos1)\n",
    "    cam_mat1, pose1, R1 = estimate_pose(vertices1)\n",
    "    pos2 = prn.process(img_ref) \n",
    "    vertices2 = prn.get_vertices(pos2)\n",
    "    cam_mat2, pose2, R2 = estimate_pose(vertices2)\n",
    "\n",
    "    # Rotation 3D vertices\n",
    "    warp_vertices = np.matmul(np.matmul(vertices2,R2), np.linalg.inv(R1)) \n",
    "\n",
    "    # Do translation\n",
    "    center2_warp_pt = np.mean(warp_vertices, axis=0)\n",
    "    center1_pt = np.mean(vertices1, axis=0)\n",
    "    warp_vertices = warp_vertices - (center2_warp_pt - center1_pt)\n",
    "\n",
    "    # Render new synthesis image after doing transformation\n",
    "    # t1 = time.time()\n",
    "    texture_ref = cv2.remap(img_ref/255.0, pos2[:,:,:2].astype(np.float32), None, interpolation=cv2.INTER_NEAREST, borderMode=cv2.BORDER_CONSTANT,borderValue=(0))\n",
    "    # print(\"Texture from pos map: \", time.time()-t1)\n",
    "\n",
    "    [h, w, c] = img_ref.shape\n",
    "    # t1 = time.time()\n",
    "    \n",
    "    color = prn.get_colors_from_texture(texture_ref)\n",
    "    # print(\"Get color of texture: \", time.time()-t1)\n",
    "    \n",
    "    color_mask = np.ones((warp_vertices.shape[0], 1))\n",
    "    t1 = time.time()\n",
    "    new_image = render_texture(warp_vertices.T, color.T, prn.triangles.T, h, w, c = 3)\n",
    "    print(\"Time render: \", time.time()-t1)\n",
    "    facemask = render_texture(warp_vertices.T, color_mask.T, prn.triangles.T, h, w, c = 3)\n",
    "\n",
    "    # Using seamlessCloning to blending images\n",
    "    vis_ind = np.argwhere(facemask>0)\n",
    "    vis_min = np.min(vis_ind, 0)\n",
    "    vis_max = np.max(vis_ind, 0)\n",
    "    center = (int((vis_min[1] + vis_max[1])/2+0.5), int((vis_min[0] + vis_max[0])/2+0.5))\n",
    "    output = cv2.seamlessClone((new_image*255).astype(np.uint8),(img_in).astype(np.uint8), (facemask*255).astype(np.uint8), center, cv2.NORMAL_CLONE)\n",
    "\n",
    "    return output\n",
    "\n",
    "model_path = \"/home/vuthede/Downloads/shape_predictor_81_face_landmarks.dat\"\n",
    "detector = dlib.get_frontal_face_detector()\n",
    "predictor = dlib.shape_predictor(model_path)\n",
    "face_d,face_p=alignface.load_face_detector(predictor_path=\"/home/vuthede/AI/deepfeatinterp/models/shape_predictor_68_face_landmarks.dat\")\n",
    "\n",
    "\n",
    "def get_landmark(im1):\n",
    "    det0 = detector(im1, 0)[0]\n",
    "    shape = predictor(im1, det0)\n",
    "    landmarks = np.matrix([[p.x, p.y] for p in shape.parts()])\n",
    "    landmarks = np.array(landmarks)\n",
    "    return landmarks\n",
    "\n",
    "def draw_landmark(im, l, color =(0,255,0)):\n",
    "    im_ = im.copy()\n",
    "    for i in l:\n",
    "        cv2.circle(im_, (i[0],i[1]), 3,color, -1)\n",
    "\n",
    "    return im_\n",
    "\n",
    "def warp_face_2D(img_in, img_ref):\n",
    "    cv2.imwrite(\"tmp.png\", img_ref)\n",
    "    cv2.imwrite(\"tmp2.png\", img_in)\n",
    "\n",
    "    lm1 = get_landmark(img_ref)\n",
    "    lm2 = get_landmark(img_in)\n",
    "    # template,original=alignface.detect_landmarks(\"tmp.png\",face_d,face_p)\n",
    "    # template2,original2=alignface.detect_landmarks(\"tmp2.png\",face_d,face_p)\n",
    "\n",
    "    M,loss=alignface.fit_face_landmarks(lm1[:,::-1],lm2[:,::-1], landmarks=list(range(81)), scale_landmarks=[0,16],location_landmark=30,image_dims=img_in.shape[:2])\n",
    "\n",
    "    warp_image = alignface.warp_to_template(img_ref,M,border_value=(0.5,0.5,0.5),image_dims=img_in.shape)\n",
    "\n",
    "    # cv2.imshow(\"warp image raw:\", warp_image)\n",
    "\n",
    "     # Find convex hull\n",
    "    hull1 = []\n",
    "    hull2 = []\n",
    "\n",
    "   \n",
    "\n",
    "    # template = np.array(template[:,::-1]).astype(int)\n",
    "    # template2 = np.array(template2[:,::-1]).astype(int)\n",
    "\n",
    "    show = draw_landmark(img_ref, lm1)\n",
    "    # cv2.imshow(\"Lmk:\", show)\n",
    "\n",
    "    # print(template)\n",
    "    # print(template.shape)\n",
    "\n",
    "    hullIndex = cv2.convexHull(lm1, returnPoints = False)          \n",
    "    for i in range(0, len(hullIndex)):\n",
    "        hull1.append(lm1[int(hullIndex[i])])\n",
    "        hull2.append(lm2[int(hullIndex[i])])\n",
    "    \n",
    "    hull1 = np.array(hull1)\n",
    "    hull2 = np.array(hull2)\n",
    "\n",
    "    mouth_mask = np.zeros(img_ref.shape, img_ref.dtype)\n",
    "    cv2.fillPoly(mouth_mask, [hull2], (255, 255, 255))\n",
    "    # cv2.imshow(\"mask:\", mouth_mask)\n",
    "\n",
    "    r = cv2.boundingRect(np.float32(hull2))    \n",
    "    center = ((r[0]+int(r[2]/2), r[1]+int(r[3]/2)))\n",
    "    clone = cv2.seamlessClone(warp_image, img_in, mouth_mask, center, cv2.NORMAL_CLONE)\n",
    "\n",
    "    return clone\n",
    "\n"
   ]
  },
  {
   "cell_type": "markdown",
   "metadata": {},
   "source": [
    "# Test demo"
   ]
  },
  {
   "cell_type": "code",
   "execution_count": 3,
   "metadata": {
    "tags": []
   },
   "outputs": [],
   "source": [
    "cap_hd = cv2.VideoCapture(\"../cropobamafullhd10s.mp4\")\n",
    "cap_syn = cv2.VideoCapture(\"../resultobamafullhd10s.mp4\")\n",
    "\n",
    "i = 0\n",
    "while True:\n",
    "    i +=1\n",
    "\n",
    "    if i%15:\n",
    "        ret1, hd = cap_hd.read()\n",
    "        ret2, syn = cap_syn.read()\n",
    "\n",
    "        if not ret1 or not ret2:\n",
    "            print(\"Quit\")\n",
    "            # out.release()\n",
    "            break\n",
    "\n",
    "        # warp, transform = warp_face_2D(hd, syn)\n",
    "        warp  = warp_face_2D(hd, syn)\n",
    "\n",
    "\n",
    "        concat = np.hstack([hd, syn, warp])\n",
    "        # concat = np.hstack([hd, syn,transform, warp])\n",
    "\n",
    "\n",
    "        cv2.imshow(\"hd\", hd)\n",
    "        cv2.imshow(\"syn\", syn)\n",
    "        cv2.imshow(\"warp\", warp)\n",
    "        # cv2.imshow(\"transform\", transform)\n",
    "        cv2.imshow(\"concat\", concat)\n",
    "        # out.write(concat)\n",
    "\n",
    "\n",
    "\n",
    "\n",
    "        k = cv2.waitKey(0)\n",
    "        if k==27:\n",
    "            # out.release()\n",
    "            break\n",
    "\n",
    "# out.release()\n",
    "cv2.destroyAllWindows()\n",
    "    "
   ]
  },
  {
   "cell_type": "code",
   "execution_count": 6,
   "metadata": {
    "tags": []
   },
   "outputs": [],
   "source": [
    "cap_hd = cv2.VideoCapture(\"../cropobamafullhd10s.mp4\")\n",
    "cap_syn = cv2.VideoCapture(\"../resultobamafullhd10s.mp4\")\n",
    "out = cv2.VideoWriter('./data_playing_2d.mp4',cv2.VideoWriter_fourcc('M','J','P','G'), 10, (256*4, 256))\n",
    "\n",
    "i = 0\n",
    "while True:\n",
    "    i +=1\n",
    "\n",
    "    if i%15:\n",
    "        ret1, hd = cap_hd.read()\n",
    "        ret2, syn = cap_syn.read()\n",
    "\n",
    "        if not ret1 or not ret2:\n",
    "            print(\"Quit\")\n",
    "            out.release()\n",
    "            break\n",
    "\n",
    "        warp, transform = warp_face_2D(hd, syn)\n",
    "\n",
    "        concat = np.hstack([hd, syn,transform, warp])\n",
    "\n",
    "        cv2.imshow(\"hd\", hd)\n",
    "        cv2.imshow(\"syn\", syn)\n",
    "        cv2.imshow(\"warp\", warp)\n",
    "        cv2.imshow(\"transform\", transform)\n",
    "        cv2.imshow(\"concat\", concat)\n",
    "        out.write(concat)\n",
    "\n",
    "\n",
    "\n",
    "\n",
    "        k = cv2.waitKey(0)\n",
    "        if k==27:\n",
    "            out.release()\n",
    "            break\n",
    "\n",
    "out.release()\n",
    "cv2.destroyAllWindows()\n",
    "    "
   ]
  },
  {
   "cell_type": "code",
   "execution_count": 13,
   "metadata": {
    "tags": []
   },
   "outputs": [
    {
     "output_type": "stream",
     "name": "stdout",
     "text": "37.793541376391964\n37.81562901873352\n37.71712275920539\n37.93422764123028\n37.6663115197738\n37.7985727629858\n37.9491402098312\n37.65891918034619\n38.17291895395047\n38.00615093637537\n37.93855877743596\n37.7963633682116\n38.057144735184494\n37.970973121136154\n38.27989722327685\n38.383362860664604\n37.6745784622257\n37.49761762135811\n37.75754077093013\n38.16493232939579\n38.5343776538036\n38.31831514494279\n38.325038307395054\n38.41336045664664\n38.35124821116197\n38.0720039748913\n37.96063418980255\n37.77751726354377\n37.61668243326778\n37.626910824855536\n37.55027354909133\n37.40265313597081\n37.67569175752962\n37.625031808394404\n37.976428156628444\n37.93277591895691\n37.40912156678607\n37.69309252361839\n38.18354615267733\n38.08458216683756\n37.91985740801688\n37.56236443622937\n37.689177865283696\n37.74069605153915\n37.898508601186194\n38.06195138708685\n37.908158531560886\n37.840190320311635\n38.01674523869505\n37.555319461325574\n37.37065635485334\n37.62216028355287\n37.65852190721235\n37.62464696106768\n37.53333403192508\n37.71252532582066\n37.43248773262519\n37.769607613317035\n37.73500169533146\n37.830411272928835\n38.087271773853004\n38.32518557056613\n37.977977182418115\n37.82833963245149\n38.13902808088207\n38.03879557491505\n38.170623301051215\n37.73786256954159\n37.457587503718024\n37.51043043851052\n37.452016120234845\n37.54281983358509\n37.67199943852573\n37.67239695266442\n37.70189941920996\n37.872277219279056\n37.96918343256104\n38.17150841636955\n38.26824753876266\n38.39161700142247\n38.38510155180359\n38.451524710637045\n38.18780935998558\n37.71781465208534\n37.74889049253848\n37.624880912721785\n37.64478782641782\n37.610266936283516\n37.49717755977814\n37.70138213718176\n37.86580873805945\n38.01753551435589\n38.07980117426169\n38.189051135520586\n38.12529966821405\n37.98355579884064\n37.775468659853935\n37.872682047084226\n37.7623444102502\n38.00335234966627\n38.00852178487947\n37.94800540226126\n38.05412428703518\n37.926254698933555\n38.05232116110796\n38.307654230081106\n38.5320984384353\n38.42326528735989\n38.35353325928872\n38.63490528725989\n38.696634011371\n38.73680419873805\n38.57550968515494\n38.47120276468547\n38.10496703335772\n38.154881919569945\n38.259652045594834\n38.2682013697871\n38.02523275222795\n38.14434393493768\n38.08403963764449\n37.65673809357735\n37.4762512602783\n38.02686183053403\n38.25902292826427\n38.04191087990419\n38.09321821093179\n38.13993666295367\n38.75872437550788\n38.81833688901587\n38.26818085039996\n37.570191052110324\n37.48551120258774\n37.49317180481197\n37.51015518054264\n37.56782169714161\n37.760430734592106\n37.78732678745874\n37.74956672659906\n37.543793723278235\n37.53138586331425\n37.50444332790106\n38.518142096515476\n37.901969083873645\n37.85349220746116\n37.82001255673693\n37.86748927354462\n37.996836279692\n38.28899393383765\n38.370380414111885\n38.5014810187405\n38.8453230365037\n38.75270324395445\n38.74517169162535\n38.88273735516556\n38.34263546750595\n38.22924321581377\n38.1941562729262\n38.23988359392533\n38.2357901875255\n38.28029673511004\n38.30201072372311\n38.32523754699522\n38.385759157497745\n38.346717702180435\n38.25281684509369\n38.28590921554304\n38.2674291096952\n38.22980588685883\n38.23069580163025\n38.22571123936872\n38.2846897875169\n38.15333012157735\n37.50718446235108\n37.366498798135936\n37.39751321188136\n37.77302381582416\n38.284640582686016\n38.67611102036189\n38.41937901841186\n38.314089573499864\n38.09675908234481\n37.26157589368463\n37.05531744989974\n37.291161438511516\n37.23805594623509\n37.415444613545134\n37.308550338012694\n37.25824048705651\n37.37624820064554\n37.64051687253429\n37.19727656990575\n37.156411442885656\n37.26320996201173\n37.43036948456337\n37.23896877653431\n37.373323585922314\n37.45247902708397\n37.2008917726195\n37.4513270472502\n37.43711517925837\n37.34617705215069\n37.51707447195496\n37.7271685267451\n37.25082781013025\n37.238448934380784\n37.2216662356095\n37.18063284156867\n37.16854198231799\n37.193412927890876\n37.267784914707605\n37.53263674792855\n36.98070299116098\n36.81952633390678\n37.025111907341355\n37.31139551732842\n37.49846636929034\n37.248545265121955\n37.34315054092753\n36.98571125154466\n37.28071002061549\n37.04791967141213\n36.890279109414415\n37.03936259598992\n36.79162006166335\n36.9882846186995\n37.127058800052936\n37.173056330883924\n37.335010445633614\n37.30812445293294\n37.3640491262061\n37.34673991720463\n37.328992964503875\n37.29894381288989\n37.3771004817972\n37.42625393715411\n37.394563059739774\n37.215341603200244\n37.28245078354795\n37.44715338511561\n37.28658772357906\n37.35561155964602\n37.181829711196954\n37.19088636797861\n37.19131603302019\n37.42935914429161\n37.22940617864442\n37.18293323586115\n37.20668647059074\n37.370476496280965\n37.6209771427183\n37.60198987449105\n37.40516159949445\n37.43391176091573\n37.63604314500146\n37.72432725846223\n37.71074075386961\n37.42336021683145\n37.47379112788424\n37.3528420715881\n37.96174308915754\n37.76670036645422\n37.660739076519356\n37.78486251189565\n38.17142257235014\n37.80588712350459\n37.56115630180725\n37.60495523561111\n37.821555632238685\n37.93679929349621\n37.52168594544699\n37.57958219110127\n37.61734722184923\n37.62507113060345\n37.656562822166904\n37.89660410344854\n37.84567425518127\n37.44170326791376\n37.45623842950712\n37.64157015536144\n37.98844143691752\n37.87801389189217\n37.73554921552864\n37.73720480003958\n37.86309340284036\n37.83505325254985\n37.82288010122131\n37.79772876425477\n37.781506287227565\n37.66645393713786\n37.72439917274159\n37.531923218445925\n37.64877879857408\n37.60774147729834\n37.204000944840246\n37.4373453630078\n37.39631789532784\n37.75898272430311\n37.7628106572372\n37.6140674410445\n37.56037899123507\n37.4717527573525\n37.161789627955564\n37.19372623654502\n37.49336873842673\n37.566105777390426\n37.48093177959772\n37.43412672252166\n37.330708178983414\n37.61255370162583\n37.3564334634157\n37.3275850202909\n37.27235245575848\n37.39507489124061\n37.76397979252701\n37.61587010655942\n37.76998062140202\n37.84276061784479\n37.47008717696892\n37.54832887574445\n37.6755177086262\n37.86475626626965\n37.82421783907699\n37.766330178886676\n37.75906129790698\n37.70409530184373\n37.35745147217936\n37.533053949951864\n37.716601652876655\n37.725160128952886\n37.72137426976965\n37.66203869041981\n37.72964760256362\n37.74916360356734\n37.725082166303956\n37.819229659451324\n37.80429530647675\n37.801682139219835\n37.852133511299485\n37.972004269751686\n37.97405345263326\n37.95215262108903\n37.9204897683213\n37.87327218502862\n37.663610940027155\n37.421138078614646\n37.234048508828046\n37.38386942653536\n37.547533095636204\n37.79279491078345\n37.9795832941804\n37.73608369408319\n37.732342717145215\n37.59332695609509\n37.482733762446344\n37.620929018447995\n37.61183819242339\n37.59135120741078\n37.57981956484729\n37.84804548345252\n37.510770346334766\n37.24473077827469\n37.37949621322933\n37.37178527654965\n37.240409460166994\n37.21212552810686\n37.228371085980754\n37.46024006057282\n38.120442262983204\n38.02342380065957\n37.788177953045356\n37.53744012374754\n37.3567171695175\n37.52600059139588\n37.626474675064834\n37.572047456469235\n37.64250821145322\n37.34892753184902\n37.21563100130629\n37.18644898321362\n37.255777518872094\n37.40792959722237\n37.56855570476644\n37.29074180626224\n37.205767457249685\n37.39584415038848\n37.621987875598826\n37.75245543641325\n38.10577846975144\n38.19642011142489\n38.08852505130662\n38.01363287606124\n38.05263193537473\n38.00316895151865\n38.121796630706285\n38.19906882598863\n38.18621946556159\n38.179857882769575\n38.12313874192367\n38.12399713890096\n38.138123007845664\n38.1311161843662\n38.05674894503068\n38.006987053514536\n38.06007763780765\n38.05492519314111\n37.96896635725284\n38.13523699630897\n37.703018740243024\n37.62282296358614\n37.97192281234892\n37.934892186383415\n37.25269738802817\n37.060424202890815\n37.76481674973872\n37.80929301959119\n37.18879513786739\n37.30411029957488\n37.19851278837487\n37.332694724866855\n37.8212486188485\n37.63751235042375\n37.81379490857149\n37.59990169131767\n37.03388886283095\n37.46968167092581\n"
    },
    {
     "output_type": "error",
     "ename": "KeyboardInterrupt",
     "evalue": "",
     "traceback": [
      "\u001b[0;31m---------------------------------------------------------------------------\u001b[0m",
      "\u001b[0;31mKeyboardInterrupt\u001b[0m                         Traceback (most recent call last)",
      "\u001b[0;32m<ipython-input-13-884e3893b068>\u001b[0m in \u001b[0;36m<module>\u001b[0;34m\u001b[0m\n\u001b[1;32m    123\u001b[0m prepare_data_for_face_res(highresvideo=\"batches_highres/2.mp4\", lowressyn=\"synthesis_guided_by_512x512/2.mp4\",\n\u001b[1;32m    124\u001b[0m                           \u001b[0mdata_output\u001b[0m\u001b[0;34m=\u001b[0m\u001b[0;34m\"train_data_with_filter\"\u001b[0m\u001b[0;34m,\u001b[0m \u001b[0mprefix\u001b[0m\u001b[0;34m=\u001b[0m\u001b[0;34m'batch2'\u001b[0m\u001b[0;34m,\u001b[0m\u001b[0;34m\u001b[0m\u001b[0m\n\u001b[0;32m--> 125\u001b[0;31m                           downsample=2, warp2d=True, warp3d=False)\n\u001b[0m\u001b[1;32m    126\u001b[0m \u001b[0;34m\u001b[0m\u001b[0m\n\u001b[1;32m    127\u001b[0m \u001b[0;34m\u001b[0m\u001b[0m\n",
      "\u001b[0;32m<ipython-input-13-884e3893b068>\u001b[0m in \u001b[0;36mprepare_data_for_face_res\u001b[0;34m(highresvideo, lowressyn, data_output, prefix, downsample, warp2d, warp3d)\u001b[0m\n\u001b[1;32m    102\u001b[0m                 \u001b[0mlr_warp2d\u001b[0m \u001b[0;34m=\u001b[0m \u001b[0mcv2\u001b[0m\u001b[0;34m.\u001b[0m\u001b[0mresize\u001b[0m\u001b[0;34m(\u001b[0m\u001b[0mlr_warp2d\u001b[0m\u001b[0;34m,\u001b[0m \u001b[0;34m(\u001b[0m\u001b[0;36m128\u001b[0m\u001b[0;34m,\u001b[0m \u001b[0;36m128\u001b[0m\u001b[0;34m)\u001b[0m\u001b[0;34m)\u001b[0m\u001b[0;34m\u001b[0m\u001b[0m\n\u001b[1;32m    103\u001b[0m \u001b[0;34m\u001b[0m\u001b[0m\n\u001b[0;32m--> 104\u001b[0;31m                 \u001b[0;32mif\u001b[0m \u001b[0;32mnot\u001b[0m \u001b[0mcheck_valid_data\u001b[0m\u001b[0;34m(\u001b[0m\u001b[0mhr\u001b[0m\u001b[0;34m,\u001b[0m \u001b[0mlr_warp2d\u001b[0m\u001b[0;34m)\u001b[0m\u001b[0;34m:\u001b[0m\u001b[0;34m\u001b[0m\u001b[0m\n\u001b[0m\u001b[1;32m    105\u001b[0m                     \u001b[0;32mcontinue\u001b[0m\u001b[0;34m\u001b[0m\u001b[0m\n\u001b[1;32m    106\u001b[0m \u001b[0;34m\u001b[0m\u001b[0m\n",
      "\u001b[0;32m<ipython-input-13-884e3893b068>\u001b[0m in \u001b[0;36mcheck_valid_data\u001b[0;34m(h_im, l_im)\u001b[0m\n\u001b[1;32m     18\u001b[0m     \u001b[0mchoose\u001b[0m \u001b[0;34m=\u001b[0m \u001b[0;34m[\u001b[0m\u001b[0;36m51\u001b[0m\u001b[0;34m,\u001b[0m\u001b[0;36m48\u001b[0m\u001b[0;34m,\u001b[0m\u001b[0;36m54\u001b[0m\u001b[0;34m,\u001b[0m\u001b[0;36m57\u001b[0m\u001b[0;34m]\u001b[0m\u001b[0;34m\u001b[0m\u001b[0m\n\u001b[1;32m     19\u001b[0m \u001b[0;34m\u001b[0m\u001b[0m\n\u001b[0;32m---> 20\u001b[0;31m     \u001b[0mh_lmk\u001b[0m \u001b[0;34m=\u001b[0m \u001b[0mget_landmark\u001b[0m\u001b[0;34m(\u001b[0m\u001b[0mh_im\u001b[0m\u001b[0;34m)\u001b[0m\u001b[0;34m[\u001b[0m\u001b[0mchoose\u001b[0m\u001b[0;34m]\u001b[0m\u001b[0;34m\u001b[0m\u001b[0m\n\u001b[0m\u001b[1;32m     21\u001b[0m     \u001b[0mx1\u001b[0m\u001b[0;34m,\u001b[0m\u001b[0my1\u001b[0m \u001b[0;34m=\u001b[0m \u001b[0mnp\u001b[0m\u001b[0;34m.\u001b[0m\u001b[0mmin\u001b[0m\u001b[0;34m(\u001b[0m\u001b[0mh_lmk\u001b[0m\u001b[0;34m,\u001b[0m \u001b[0maxis\u001b[0m\u001b[0;34m=\u001b[0m\u001b[0;36m0\u001b[0m\u001b[0;34m)\u001b[0m\u001b[0;34m\u001b[0m\u001b[0m\n\u001b[1;32m     22\u001b[0m     \u001b[0mx2\u001b[0m\u001b[0;34m,\u001b[0m\u001b[0my2\u001b[0m \u001b[0;34m=\u001b[0m \u001b[0mnp\u001b[0m\u001b[0;34m.\u001b[0m\u001b[0mmax\u001b[0m\u001b[0;34m(\u001b[0m\u001b[0mh_lmk\u001b[0m\u001b[0;34m,\u001b[0m \u001b[0maxis\u001b[0m\u001b[0;34m=\u001b[0m\u001b[0;36m0\u001b[0m\u001b[0;34m)\u001b[0m\u001b[0;34m\u001b[0m\u001b[0m\n",
      "\u001b[0;32m<ipython-input-1-b4a4cb012f5e>\u001b[0m in \u001b[0;36mget_landmark\u001b[0;34m(im1)\u001b[0m\n\u001b[1;32m     70\u001b[0m \u001b[0;34m\u001b[0m\u001b[0m\n\u001b[1;32m     71\u001b[0m \u001b[0;32mdef\u001b[0m \u001b[0mget_landmark\u001b[0m\u001b[0;34m(\u001b[0m\u001b[0mim1\u001b[0m\u001b[0;34m)\u001b[0m\u001b[0;34m:\u001b[0m\u001b[0;34m\u001b[0m\u001b[0m\n\u001b[0;32m---> 72\u001b[0;31m     \u001b[0mdet0\u001b[0m \u001b[0;34m=\u001b[0m \u001b[0mdetector\u001b[0m\u001b[0;34m(\u001b[0m\u001b[0mim1\u001b[0m\u001b[0;34m,\u001b[0m \u001b[0;36m0\u001b[0m\u001b[0;34m)\u001b[0m\u001b[0;34m[\u001b[0m\u001b[0;36m0\u001b[0m\u001b[0;34m]\u001b[0m\u001b[0;34m\u001b[0m\u001b[0m\n\u001b[0m\u001b[1;32m     73\u001b[0m     \u001b[0mshape\u001b[0m \u001b[0;34m=\u001b[0m \u001b[0mpredictor\u001b[0m\u001b[0;34m(\u001b[0m\u001b[0mim1\u001b[0m\u001b[0;34m,\u001b[0m \u001b[0mdet0\u001b[0m\u001b[0;34m)\u001b[0m\u001b[0;34m\u001b[0m\u001b[0m\n\u001b[1;32m     74\u001b[0m     \u001b[0mlandmarks\u001b[0m \u001b[0;34m=\u001b[0m \u001b[0mnp\u001b[0m\u001b[0;34m.\u001b[0m\u001b[0mmatrix\u001b[0m\u001b[0;34m(\u001b[0m\u001b[0;34m[\u001b[0m\u001b[0;34m[\u001b[0m\u001b[0mp\u001b[0m\u001b[0;34m.\u001b[0m\u001b[0mx\u001b[0m\u001b[0;34m,\u001b[0m \u001b[0mp\u001b[0m\u001b[0;34m.\u001b[0m\u001b[0my\u001b[0m\u001b[0;34m]\u001b[0m \u001b[0;32mfor\u001b[0m \u001b[0mp\u001b[0m \u001b[0;32min\u001b[0m \u001b[0mshape\u001b[0m\u001b[0;34m.\u001b[0m\u001b[0mparts\u001b[0m\u001b[0;34m(\u001b[0m\u001b[0;34m)\u001b[0m\u001b[0;34m]\u001b[0m\u001b[0;34m)\u001b[0m\u001b[0;34m\u001b[0m\u001b[0m\n",
      "\u001b[0;31mKeyboardInterrupt\u001b[0m: "
     ]
    }
   ],
   "source": [
    "from math import log10, sqrt \n",
    "def PSNR(original, compressed): \n",
    "    mse = np.mean((original - compressed) ** 2) \n",
    "    if(mse == 0):  # MSE is zero means no noise is present in the signal . \n",
    "                  # Therefore PSNR have no importance. \n",
    "        return 100\n",
    "    max_pixel = 255.0\n",
    "    psnr = 20 * log10(max_pixel / sqrt(mse)) \n",
    "    return psnr \n",
    "\n",
    "def check_valid_data(h_im, l_im):\n",
    "    h_im = cv2.resize(h_im, (128,128), cv2.INTER_CUBIC)\n",
    "    h_im = cv2.resize(h_im, (512,512), cv2.INTER_CUBIC)\n",
    "    l_im = cv2.imread(l)\n",
    "    l_im = cv2.resize(l_im, (512,512))\n",
    "\n",
    "    # MOuth\n",
    "    choose = [51,48,54,57]\n",
    "\n",
    "    h_lmk = get_landmark(h_im)[choose]\n",
    "    x1,y1 = np.min(h_lmk, axis=0)\n",
    "    x2,y2 = np.max(h_lmk, axis=0)\n",
    "    padx = int(0.2*(x2-x1))\n",
    "    pady = int(0.2*(y2-y1))\n",
    " \n",
    "    x1 -= padx\n",
    "    x2 += padx\n",
    "    y1 -= pady\n",
    "    y2 += pady\n",
    "\n",
    "    h_im_selected = np.zeros(h_im.shape)\n",
    "    l_im_selected = np.zeros(l_im.shape)\n",
    "    h_im_selected[y1:y2, x1:x2] = h_im[y1:y2, x1:x2]\n",
    "    l_im_selected[y1:y2, x1:x2] = l_im[y1:y2, x1:x2]\n",
    "\n",
    "\n",
    "    # Eye\n",
    "    choose = [28, 17, 26]\n",
    "    h_lmk = get_landmark(h_im)\n",
    "    other_lmk = list([h_lmk[71]//2 + h_lmk[27]//2])\n",
    "    h_lmk = np.array(list(h_lmk[choose]) + other_lmk)\n",
    "    x1,y1 = np.min(h_lmk, axis=0)\n",
    "    x2,y2 = np.max(h_lmk, axis=0)\n",
    "    padx = int(0.2*(x2-x1))\n",
    "    pady = int(0.2*(y2-y1))\n",
    " \n",
    "    x1 -= padx\n",
    "    x2 += padx\n",
    "    y2 += pady\n",
    "\n",
    "    h_im_selected[y1:y2, x1:x2] = h_im[y1:y2, x1:x2]\n",
    "    l_im_selected[y1:y2, x1:x2] = l_im[y1:y2, x1:x2]\n",
    "\n",
    "    h_im_selected = h_im_selected.astype(np.uint8)\n",
    "    l_im_selected = l_im_selected.astype(np.uint8)\n",
    "\n",
    "\n",
    "    psnr_loss = PSNR(h_im_selected, l_im_selected)\n",
    "    print(psnr_loss)\n",
    "    if psnr_loss > 40.5:\n",
    "        print(\"Data pair invalid\")   \n",
    "        return False\n",
    "    \n",
    "    # print(\"Data pair valid\")\n",
    "    return True\n",
    "\n",
    "def prepare_data_for_face_res(highresvideo, lowressyn, data_output, prefix='batch1', downsample=2, warp2d=True, warp3d=False):\n",
    "    \"\"\"\n",
    "    /highres = 512x512\n",
    "    /lowres  = 256x256 -->128x128\n",
    "    /dataoutput = /--highres\n",
    "                  /--lowres_warp2d\n",
    "                  /--lowres_warp3d\n",
    "    \"\"\"\n",
    "    \n",
    "    highres_out = \"highres\"\n",
    "    lowres_warp2d_out = \"lowres_warp2d\"\n",
    "    lowres_warp3d_out = \"lowres_warp3d\"\n",
    "\n",
    "    cap_high = cv2.VideoCapture(highresvideo)\n",
    "    cap_low = cv2.VideoCapture(lowressyn)\n",
    "    \n",
    "    if not os.path.isdir(data_output):\n",
    "        os.makedirs(data_output + \"/\" + highres_out)\n",
    "        os.makedirs(data_output + \"/\" + lowres_warp2d_out)\n",
    "        os.makedirs(data_output + \"/\" + lowres_warp3d_out)\n",
    "\n",
    "   \n",
    "\n",
    "    i = 0\n",
    "    while True:\n",
    "        ret1, hr = cap_high.read()\n",
    "        ret2, lr = cap_low.read()\n",
    "\n",
    "        if i%downsample==0:\n",
    "\n",
    "            assert hr.shape[:2]==(512,512) and lr.shape[:2]==(256,256) \n",
    "            hr_tmp = cv2.resize(hr, (256, 256))\n",
    "\n",
    "            if warp2d:\n",
    "                lr_warp2d = warp_face_2D(hr_tmp, lr)\n",
    "                lr_warp2d = cv2.resize(lr_warp2d, (128, 128))\n",
    "\n",
    "                if not check_valid_data(hr, lr_warp2d):\n",
    "                    continue\n",
    "\n",
    "                cv2.imwrite(f'{data_output}/{lowres_warp2d_out}/{prefix}_{i}.png', lr_warp2d)\n",
    "            if warp3d:\n",
    "                lr_warp3d = warp_face(hr_tmp, lr)\n",
    "                lr_warp3d = cv2.resize(lr_warp3d, (128, 128))\n",
    "\n",
    "                if not check_valid_data(hr, lr_warp3d):\n",
    "                    continue\n",
    "\n",
    "                cv2.imwrite(f'{data_output}/{lowres_warp3d_out}/{prefix}_{i}.png', lr_warp3d)\n",
    "\n",
    "            cv2.imwrite(f'{data_output}/{highres_out}/{prefix}_{i}.png', hr)\n",
    "\n",
    "\n",
    "        i += 1\n",
    "\n",
    "\n",
    "prepare_data_for_face_res(highresvideo=\"batches_highres/2.mp4\", lowressyn=\"synthesis_guided_by_512x512/2.mp4\",\n",
    "                          data_output=\"train_data_with_filter\", prefix='batch2',\n",
    "                          downsample=2, warp2d=True, warp3d=False)\n",
    "\n",
    "\n",
    "\n"
   ]
  },
  {
   "cell_type": "markdown",
   "metadata": {},
   "source": [
    "# Test data"
   ]
  },
  {
   "cell_type": "code",
   "execution_count": 5,
   "metadata": {
    "tags": []
   },
   "outputs": [],
   "source": [
    "import glob\n",
    "import cv2\n",
    "\n",
    "highres = glob.glob(\"./train_data/highres/*.png\")\n",
    "for h in highres:\n",
    "    l = h.replace(\"highres\", \"lowres_warp2d\")\n",
    "    h_im = cv2.imread(h)\n",
    "    cv2.imshow(\"High\", h_im)\n",
    "    l_im = cv2.imread(l)\n",
    "    l_im = cv2.resize(l_im, (512,512))\n",
    "    cv2.imshow(\"Low\",l_im)\n",
    "\n",
    "    k = cv2.waitKey(0)\n",
    "\n",
    "    if k ==27:\n",
    "        break\n",
    "\n",
    "cv2.destroyAllWindows()"
   ]
  },
  {
   "cell_type": "code",
   "execution_count": 2,
   "metadata": {},
   "outputs": [],
   "source": [
    "import numpy as np\n",
    "import glob\n",
    "\n",
    "def get_loss_lmks(data_path):\n",
    "    highres = glob.glob(data_path + \"/highres/*.png\")\n",
    "    losses = {}\n",
    "    for h in highres:\n",
    "        l = h.replace(\"highres\", \"lowres_warp2d\")\n",
    "        h_im = cv2.imread(h)\n",
    "        l_im = cv2.imread(l)\n",
    "        l_im = cv2.resize(l_im, (512,512))\n",
    "\n",
    "        h_lmk = get_landmark(h_im)\n",
    "        l_lmk = get_landmark(l_im)\n",
    "        losses[f'{os.path.basename(h)}'] = np.linalg.norm(h_lmk-l_lmk)\n",
    "    \n",
    "    return losses\n",
    "\n",
    "\n",
    "losses = get_loss_lmks(\"./train_data\")\n",
    "\n",
    "\n"
   ]
  },
  {
   "cell_type": "code",
   "execution_count": 4,
   "metadata": {},
   "outputs": [],
   "source": [
    "import pickle\n",
    "\n",
    "pickle.dump(losses, open(\"losses.pickle\", 'wb'))"
   ]
  },
  {
   "cell_type": "code",
   "execution_count": 2,
   "metadata": {},
   "outputs": [],
   "source": [
    "import pickle\n",
    "\n",
    "losses = pickle.load(open(\"losses.pickle\", 'rb'))"
   ]
  },
  {
   "cell_type": "code",
   "execution_count": 5,
   "metadata": {},
   "outputs": [],
   "source": [
    "# losses"
   ]
  },
  {
   "cell_type": "code",
   "execution_count": 3,
   "metadata": {},
   "outputs": [
    {
     "output_type": "execute_result",
     "data": {
      "text/plain": "(array([ 10.,  29., 119., 144., 158., 341., 209., 206., 220.,  99.,  63.,\n         56.,  21.,  21.,  10.,   9.,   7.,   7.,   7.,   7.,   3.,   6.,\n          3.,   3.,   2.,   8.,   3.,   0.,   1.,   0.,   2.,   0.,   5.,\n          0.,   1.,   2.,   0.,   1.,   2.,   2.,   1.,   0.,   1.,   0.,\n          1.,   0.,   0.,   2.,   2.,   0.,   1.,   0.,   0.,   0.,   1.,\n          1.,   0.,   0.,   0.,   0.,   0.,   0.,   1.,   0.,   0.,   0.,\n          0.,   0.,   0.,   0.,   0.,   0.,   0.,   0.,   0.,   0.,   0.,\n          0.,   0.,   0.,   0.,   0.,   0.,   0.,   0.,   0.,   0.,   1.,\n          0.,   0.,   0.,   0.,   0.,   0.,   0.,   0.,   0.,   0.,   0.,\n          1.]),\n array([  9.  ,  11.34,  13.68,  16.02,  18.36,  20.7 ,  23.04,  25.38,\n         27.72,  30.06,  32.4 ,  34.74,  37.08,  39.42,  41.76,  44.1 ,\n         46.44,  48.78,  51.12,  53.46,  55.8 ,  58.14,  60.48,  62.82,\n         65.16,  67.5 ,  69.84,  72.18,  74.52,  76.86,  79.2 ,  81.54,\n         83.88,  86.22,  88.56,  90.9 ,  93.24,  95.58,  97.92, 100.26,\n        102.6 , 104.94, 107.28, 109.62, 111.96, 114.3 , 116.64, 118.98,\n        121.32, 123.66, 126.  , 128.34, 130.68, 133.02, 135.36, 137.7 ,\n        140.04, 142.38, 144.72, 147.06, 149.4 , 151.74, 154.08, 156.42,\n        158.76, 161.1 , 163.44, 165.78, 168.12, 170.46, 172.8 , 175.14,\n        177.48, 179.82, 182.16, 184.5 , 186.84, 189.18, 191.52, 193.86,\n        196.2 , 198.54, 200.88, 203.22, 205.56, 207.9 , 210.24, 212.58,\n        214.92, 217.26, 219.6 , 221.94, 224.28, 226.62, 228.96, 231.3 ,\n        233.64, 235.98, 238.32, 240.66, 243.  ]),\n <a list of 100 Patch objects>)"
     },
     "metadata": {},
     "execution_count": 3
    },
    {
     "output_type": "display_data",
     "data": {
      "text/plain": "<Figure size 432x288 with 1 Axes>",
      "image/svg+xml": "<?xml version=\"1.0\" encoding=\"utf-8\" standalone=\"no\"?>\n<!DOCTYPE svg PUBLIC \"-//W3C//DTD SVG 1.1//EN\"\n  \"http://www.w3.org/Graphics/SVG/1.1/DTD/svg11.dtd\">\n<!-- Created with matplotlib (https://matplotlib.org/) -->\n<svg height=\"248.518125pt\" version=\"1.1\" viewBox=\"0 0 378.717963 248.518125\" width=\"378.717963pt\" xmlns=\"http://www.w3.org/2000/svg\" xmlns:xlink=\"http://www.w3.org/1999/xlink\">\n <defs>\n  <style type=\"text/css\">\n*{stroke-linecap:butt;stroke-linejoin:round;}\n  </style>\n </defs>\n <g id=\"figure_1\">\n  <g id=\"patch_1\">\n   <path d=\"M 0 248.518125 \nL 378.717963 248.518125 \nL 378.717963 0 \nL 0 0 \nz\n\" style=\"fill:none;\"/>\n  </g>\n  <g id=\"axes_1\">\n   <g id=\"patch_2\">\n    <path d=\"M 33.2875 224.64 \nL 368.0875 224.64 \nL 368.0875 7.2 \nL 33.2875 7.2 \nz\n\" style=\"fill:#ffffff;\"/>\n   </g>\n   <g id=\"patch_3\">\n    <path clip-path=\"url(#pe99cc3832f)\" d=\"M 48.505682 224.64 \nL 51.549318 224.64 \nL 51.549318 218.567105 \nL 48.505682 218.567105 \nz\n\" style=\"fill:#1f77b4;\"/>\n   </g>\n   <g id=\"patch_4\">\n    <path clip-path=\"url(#pe99cc3832f)\" d=\"M 51.549318 224.64 \nL 54.592955 224.64 \nL 54.592955 207.028605 \nL 51.549318 207.028605 \nz\n\" style=\"fill:#1f77b4;\"/>\n   </g>\n   <g id=\"patch_5\">\n    <path clip-path=\"url(#pe99cc3832f)\" d=\"M 54.592955 224.64 \nL 57.636591 224.64 \nL 57.636591 152.372551 \nL 54.592955 152.372551 \nz\n\" style=\"fill:#1f77b4;\"/>\n   </g>\n   <g id=\"patch_6\">\n    <path clip-path=\"url(#pe99cc3832f)\" d=\"M 57.636591 224.64 \nL 60.680227 224.64 \nL 60.680227 137.190314 \nL 57.636591 137.190314 \nz\n\" style=\"fill:#1f77b4;\"/>\n   </g>\n   <g id=\"patch_7\">\n    <path clip-path=\"url(#pe99cc3832f)\" d=\"M 60.680227 224.64 \nL 63.723864 224.64 \nL 63.723864 128.688261 \nL 60.680227 128.688261 \nz\n\" style=\"fill:#1f77b4;\"/>\n   </g>\n   <g id=\"patch_8\">\n    <path clip-path=\"url(#pe99cc3832f)\" d=\"M 63.723864 224.64 \nL 66.7675 224.64 \nL 66.7675 17.554286 \nL 63.723864 17.554286 \nz\n\" style=\"fill:#1f77b4;\"/>\n   </g>\n   <g id=\"patch_9\">\n    <path clip-path=\"url(#pe99cc3832f)\" d=\"M 66.7675 224.64 \nL 69.811136 224.64 \nL 69.811136 97.716498 \nL 66.7675 97.716498 \nz\n\" style=\"fill:#1f77b4;\"/>\n   </g>\n   <g id=\"patch_10\">\n    <path clip-path=\"url(#pe99cc3832f)\" d=\"M 69.811136 224.64 \nL 72.854773 224.64 \nL 72.854773 99.538366 \nL 69.811136 99.538366 \nz\n\" style=\"fill:#1f77b4;\"/>\n   </g>\n   <g id=\"patch_11\">\n    <path clip-path=\"url(#pe99cc3832f)\" d=\"M 72.854773 224.64 \nL 75.898409 224.64 \nL 75.898409 91.036313 \nL 72.854773 91.036313 \nz\n\" style=\"fill:#1f77b4;\"/>\n   </g>\n   <g id=\"patch_12\">\n    <path clip-path=\"url(#pe99cc3832f)\" d=\"M 75.898409 224.64 \nL 78.942045 224.64 \nL 78.942045 164.518341 \nL 75.898409 164.518341 \nz\n\" style=\"fill:#1f77b4;\"/>\n   </g>\n   <g id=\"patch_13\">\n    <path clip-path=\"url(#pe99cc3832f)\" d=\"M 78.942045 224.64 \nL 81.985682 224.64 \nL 81.985682 186.380762 \nL 78.942045 186.380762 \nz\n\" style=\"fill:#1f77b4;\"/>\n   </g>\n   <g id=\"patch_14\">\n    <path clip-path=\"url(#pe99cc3832f)\" d=\"M 81.985682 224.64 \nL 85.029318 224.64 \nL 85.029318 190.631789 \nL 81.985682 190.631789 \nz\n\" style=\"fill:#1f77b4;\"/>\n   </g>\n   <g id=\"patch_15\">\n    <path clip-path=\"url(#pe99cc3832f)\" d=\"M 85.029318 224.64 \nL 88.072955 224.64 \nL 88.072955 211.886921 \nL 85.029318 211.886921 \nz\n\" style=\"fill:#1f77b4;\"/>\n   </g>\n   <g id=\"patch_16\">\n    <path clip-path=\"url(#pe99cc3832f)\" d=\"M 88.072955 224.64 \nL 91.116591 224.64 \nL 91.116591 211.886921 \nL 88.072955 211.886921 \nz\n\" style=\"fill:#1f77b4;\"/>\n   </g>\n   <g id=\"patch_17\">\n    <path clip-path=\"url(#pe99cc3832f)\" d=\"M 91.116591 224.64 \nL 94.160227 224.64 \nL 94.160227 218.567105 \nL 91.116591 218.567105 \nz\n\" style=\"fill:#1f77b4;\"/>\n   </g>\n   <g id=\"patch_18\">\n    <path clip-path=\"url(#pe99cc3832f)\" d=\"M 94.160227 224.64 \nL 97.203864 224.64 \nL 97.203864 219.174395 \nL 94.160227 219.174395 \nz\n\" style=\"fill:#1f77b4;\"/>\n   </g>\n   <g id=\"patch_19\">\n    <path clip-path=\"url(#pe99cc3832f)\" d=\"M 97.203864 224.64 \nL 100.2475 224.64 \nL 100.2475 220.388974 \nL 97.203864 220.388974 \nz\n\" style=\"fill:#1f77b4;\"/>\n   </g>\n   <g id=\"patch_20\">\n    <path clip-path=\"url(#pe99cc3832f)\" d=\"M 100.2475 224.64 \nL 103.291136 224.64 \nL 103.291136 220.388974 \nL 100.2475 220.388974 \nz\n\" style=\"fill:#1f77b4;\"/>\n   </g>\n   <g id=\"patch_21\">\n    <path clip-path=\"url(#pe99cc3832f)\" d=\"M 103.291136 224.64 \nL 106.334773 224.64 \nL 106.334773 220.388974 \nL 103.291136 220.388974 \nz\n\" style=\"fill:#1f77b4;\"/>\n   </g>\n   <g id=\"patch_22\">\n    <path clip-path=\"url(#pe99cc3832f)\" d=\"M 106.334773 224.64 \nL 109.378409 224.64 \nL 109.378409 220.388974 \nL 106.334773 220.388974 \nz\n\" style=\"fill:#1f77b4;\"/>\n   </g>\n   <g id=\"patch_23\">\n    <path clip-path=\"url(#pe99cc3832f)\" d=\"M 109.378409 224.64 \nL 112.422045 224.64 \nL 112.422045 222.818132 \nL 109.378409 222.818132 \nz\n\" style=\"fill:#1f77b4;\"/>\n   </g>\n   <g id=\"patch_24\">\n    <path clip-path=\"url(#pe99cc3832f)\" d=\"M 112.422045 224.64 \nL 115.465682 224.64 \nL 115.465682 220.996263 \nL 112.422045 220.996263 \nz\n\" style=\"fill:#1f77b4;\"/>\n   </g>\n   <g id=\"patch_25\">\n    <path clip-path=\"url(#pe99cc3832f)\" d=\"M 115.465682 224.64 \nL 118.509318 224.64 \nL 118.509318 222.818132 \nL 115.465682 222.818132 \nz\n\" style=\"fill:#1f77b4;\"/>\n   </g>\n   <g id=\"patch_26\">\n    <path clip-path=\"url(#pe99cc3832f)\" d=\"M 118.509318 224.64 \nL 121.552955 224.64 \nL 121.552955 222.818132 \nL 118.509318 222.818132 \nz\n\" style=\"fill:#1f77b4;\"/>\n   </g>\n   <g id=\"patch_27\">\n    <path clip-path=\"url(#pe99cc3832f)\" d=\"M 121.552955 224.64 \nL 124.596591 224.64 \nL 124.596591 223.425421 \nL 121.552955 223.425421 \nz\n\" style=\"fill:#1f77b4;\"/>\n   </g>\n   <g id=\"patch_28\">\n    <path clip-path=\"url(#pe99cc3832f)\" d=\"M 124.596591 224.64 \nL 127.640227 224.64 \nL 127.640227 219.781684 \nL 124.596591 219.781684 \nz\n\" style=\"fill:#1f77b4;\"/>\n   </g>\n   <g id=\"patch_29\">\n    <path clip-path=\"url(#pe99cc3832f)\" d=\"M 127.640227 224.64 \nL 130.683864 224.64 \nL 130.683864 222.818132 \nL 127.640227 222.818132 \nz\n\" style=\"fill:#1f77b4;\"/>\n   </g>\n   <g id=\"patch_30\">\n    <path clip-path=\"url(#pe99cc3832f)\" d=\"M 130.683864 224.64 \nL 133.7275 224.64 \nL 133.7275 224.64 \nL 130.683864 224.64 \nz\n\" style=\"fill:#1f77b4;\"/>\n   </g>\n   <g id=\"patch_31\">\n    <path clip-path=\"url(#pe99cc3832f)\" d=\"M 133.7275 224.64 \nL 136.771136 224.64 \nL 136.771136 224.032711 \nL 133.7275 224.032711 \nz\n\" style=\"fill:#1f77b4;\"/>\n   </g>\n   <g id=\"patch_32\">\n    <path clip-path=\"url(#pe99cc3832f)\" d=\"M 136.771136 224.64 \nL 139.814773 224.64 \nL 139.814773 224.64 \nL 136.771136 224.64 \nz\n\" style=\"fill:#1f77b4;\"/>\n   </g>\n   <g id=\"patch_33\">\n    <path clip-path=\"url(#pe99cc3832f)\" d=\"M 139.814773 224.64 \nL 142.858409 224.64 \nL 142.858409 223.425421 \nL 139.814773 223.425421 \nz\n\" style=\"fill:#1f77b4;\"/>\n   </g>\n   <g id=\"patch_34\">\n    <path clip-path=\"url(#pe99cc3832f)\" d=\"M 142.858409 224.64 \nL 145.902045 224.64 \nL 145.902045 224.64 \nL 142.858409 224.64 \nz\n\" style=\"fill:#1f77b4;\"/>\n   </g>\n   <g id=\"patch_35\">\n    <path clip-path=\"url(#pe99cc3832f)\" d=\"M 145.902045 224.64 \nL 148.945682 224.64 \nL 148.945682 221.603553 \nL 145.902045 221.603553 \nz\n\" style=\"fill:#1f77b4;\"/>\n   </g>\n   <g id=\"patch_36\">\n    <path clip-path=\"url(#pe99cc3832f)\" d=\"M 148.945682 224.64 \nL 151.989318 224.64 \nL 151.989318 224.64 \nL 148.945682 224.64 \nz\n\" style=\"fill:#1f77b4;\"/>\n   </g>\n   <g id=\"patch_37\">\n    <path clip-path=\"url(#pe99cc3832f)\" d=\"M 151.989318 224.64 \nL 155.032955 224.64 \nL 155.032955 224.032711 \nL 151.989318 224.032711 \nz\n\" style=\"fill:#1f77b4;\"/>\n   </g>\n   <g id=\"patch_38\">\n    <path clip-path=\"url(#pe99cc3832f)\" d=\"M 155.032955 224.64 \nL 158.076591 224.64 \nL 158.076591 223.425421 \nL 155.032955 223.425421 \nz\n\" style=\"fill:#1f77b4;\"/>\n   </g>\n   <g id=\"patch_39\">\n    <path clip-path=\"url(#pe99cc3832f)\" d=\"M 158.076591 224.64 \nL 161.120227 224.64 \nL 161.120227 224.64 \nL 158.076591 224.64 \nz\n\" style=\"fill:#1f77b4;\"/>\n   </g>\n   <g id=\"patch_40\">\n    <path clip-path=\"url(#pe99cc3832f)\" d=\"M 161.120227 224.64 \nL 164.163864 224.64 \nL 164.163864 224.032711 \nL 161.120227 224.032711 \nz\n\" style=\"fill:#1f77b4;\"/>\n   </g>\n   <g id=\"patch_41\">\n    <path clip-path=\"url(#pe99cc3832f)\" d=\"M 164.163864 224.64 \nL 167.2075 224.64 \nL 167.2075 223.425421 \nL 164.163864 223.425421 \nz\n\" style=\"fill:#1f77b4;\"/>\n   </g>\n   <g id=\"patch_42\">\n    <path clip-path=\"url(#pe99cc3832f)\" d=\"M 167.2075 224.64 \nL 170.251136 224.64 \nL 170.251136 223.425421 \nL 167.2075 223.425421 \nz\n\" style=\"fill:#1f77b4;\"/>\n   </g>\n   <g id=\"patch_43\">\n    <path clip-path=\"url(#pe99cc3832f)\" d=\"M 170.251136 224.64 \nL 173.294773 224.64 \nL 173.294773 224.032711 \nL 170.251136 224.032711 \nz\n\" style=\"fill:#1f77b4;\"/>\n   </g>\n   <g id=\"patch_44\">\n    <path clip-path=\"url(#pe99cc3832f)\" d=\"M 173.294773 224.64 \nL 176.338409 224.64 \nL 176.338409 224.64 \nL 173.294773 224.64 \nz\n\" style=\"fill:#1f77b4;\"/>\n   </g>\n   <g id=\"patch_45\">\n    <path clip-path=\"url(#pe99cc3832f)\" d=\"M 176.338409 224.64 \nL 179.382045 224.64 \nL 179.382045 224.032711 \nL 176.338409 224.032711 \nz\n\" style=\"fill:#1f77b4;\"/>\n   </g>\n   <g id=\"patch_46\">\n    <path clip-path=\"url(#pe99cc3832f)\" d=\"M 179.382045 224.64 \nL 182.425682 224.64 \nL 182.425682 224.64 \nL 179.382045 224.64 \nz\n\" style=\"fill:#1f77b4;\"/>\n   </g>\n   <g id=\"patch_47\">\n    <path clip-path=\"url(#pe99cc3832f)\" d=\"M 182.425682 224.64 \nL 185.469318 224.64 \nL 185.469318 224.032711 \nL 182.425682 224.032711 \nz\n\" style=\"fill:#1f77b4;\"/>\n   </g>\n   <g id=\"patch_48\">\n    <path clip-path=\"url(#pe99cc3832f)\" d=\"M 185.469318 224.64 \nL 188.512955 224.64 \nL 188.512955 224.64 \nL 185.469318 224.64 \nz\n\" style=\"fill:#1f77b4;\"/>\n   </g>\n   <g id=\"patch_49\">\n    <path clip-path=\"url(#pe99cc3832f)\" d=\"M 188.512955 224.64 \nL 191.556591 224.64 \nL 191.556591 224.64 \nL 188.512955 224.64 \nz\n\" style=\"fill:#1f77b4;\"/>\n   </g>\n   <g id=\"patch_50\">\n    <path clip-path=\"url(#pe99cc3832f)\" d=\"M 191.556591 224.64 \nL 194.600227 224.64 \nL 194.600227 223.425421 \nL 191.556591 223.425421 \nz\n\" style=\"fill:#1f77b4;\"/>\n   </g>\n   <g id=\"patch_51\">\n    <path clip-path=\"url(#pe99cc3832f)\" d=\"M 194.600227 224.64 \nL 197.643864 224.64 \nL 197.643864 223.425421 \nL 194.600227 223.425421 \nz\n\" style=\"fill:#1f77b4;\"/>\n   </g>\n   <g id=\"patch_52\">\n    <path clip-path=\"url(#pe99cc3832f)\" d=\"M 197.643864 224.64 \nL 200.6875 224.64 \nL 200.6875 224.64 \nL 197.643864 224.64 \nz\n\" style=\"fill:#1f77b4;\"/>\n   </g>\n   <g id=\"patch_53\">\n    <path clip-path=\"url(#pe99cc3832f)\" d=\"M 200.6875 224.64 \nL 203.731136 224.64 \nL 203.731136 224.032711 \nL 200.6875 224.032711 \nz\n\" style=\"fill:#1f77b4;\"/>\n   </g>\n   <g id=\"patch_54\">\n    <path clip-path=\"url(#pe99cc3832f)\" d=\"M 203.731136 224.64 \nL 206.774773 224.64 \nL 206.774773 224.64 \nL 203.731136 224.64 \nz\n\" style=\"fill:#1f77b4;\"/>\n   </g>\n   <g id=\"patch_55\">\n    <path clip-path=\"url(#pe99cc3832f)\" d=\"M 206.774773 224.64 \nL 209.818409 224.64 \nL 209.818409 224.64 \nL 206.774773 224.64 \nz\n\" style=\"fill:#1f77b4;\"/>\n   </g>\n   <g id=\"patch_56\">\n    <path clip-path=\"url(#pe99cc3832f)\" d=\"M 209.818409 224.64 \nL 212.862045 224.64 \nL 212.862045 224.64 \nL 209.818409 224.64 \nz\n\" style=\"fill:#1f77b4;\"/>\n   </g>\n   <g id=\"patch_57\">\n    <path clip-path=\"url(#pe99cc3832f)\" d=\"M 212.862045 224.64 \nL 215.905682 224.64 \nL 215.905682 224.032711 \nL 212.862045 224.032711 \nz\n\" style=\"fill:#1f77b4;\"/>\n   </g>\n   <g id=\"patch_58\">\n    <path clip-path=\"url(#pe99cc3832f)\" d=\"M 215.905682 224.64 \nL 218.949318 224.64 \nL 218.949318 224.032711 \nL 215.905682 224.032711 \nz\n\" style=\"fill:#1f77b4;\"/>\n   </g>\n   <g id=\"patch_59\">\n    <path clip-path=\"url(#pe99cc3832f)\" d=\"M 218.949318 224.64 \nL 221.992955 224.64 \nL 221.992955 224.64 \nL 218.949318 224.64 \nz\n\" style=\"fill:#1f77b4;\"/>\n   </g>\n   <g id=\"patch_60\">\n    <path clip-path=\"url(#pe99cc3832f)\" d=\"M 221.992955 224.64 \nL 225.036591 224.64 \nL 225.036591 224.64 \nL 221.992955 224.64 \nz\n\" style=\"fill:#1f77b4;\"/>\n   </g>\n   <g id=\"patch_61\">\n    <path clip-path=\"url(#pe99cc3832f)\" d=\"M 225.036591 224.64 \nL 228.080227 224.64 \nL 228.080227 224.64 \nL 225.036591 224.64 \nz\n\" style=\"fill:#1f77b4;\"/>\n   </g>\n   <g id=\"patch_62\">\n    <path clip-path=\"url(#pe99cc3832f)\" d=\"M 228.080227 224.64 \nL 231.123864 224.64 \nL 231.123864 224.64 \nL 228.080227 224.64 \nz\n\" style=\"fill:#1f77b4;\"/>\n   </g>\n   <g id=\"patch_63\">\n    <path clip-path=\"url(#pe99cc3832f)\" d=\"M 231.123864 224.64 \nL 234.1675 224.64 \nL 234.1675 224.64 \nL 231.123864 224.64 \nz\n\" style=\"fill:#1f77b4;\"/>\n   </g>\n   <g id=\"patch_64\">\n    <path clip-path=\"url(#pe99cc3832f)\" d=\"M 234.1675 224.64 \nL 237.211136 224.64 \nL 237.211136 224.64 \nL 234.1675 224.64 \nz\n\" style=\"fill:#1f77b4;\"/>\n   </g>\n   <g id=\"patch_65\">\n    <path clip-path=\"url(#pe99cc3832f)\" d=\"M 237.211136 224.64 \nL 240.254773 224.64 \nL 240.254773 224.032711 \nL 237.211136 224.032711 \nz\n\" style=\"fill:#1f77b4;\"/>\n   </g>\n   <g id=\"patch_66\">\n    <path clip-path=\"url(#pe99cc3832f)\" d=\"M 240.254773 224.64 \nL 243.298409 224.64 \nL 243.298409 224.64 \nL 240.254773 224.64 \nz\n\" style=\"fill:#1f77b4;\"/>\n   </g>\n   <g id=\"patch_67\">\n    <path clip-path=\"url(#pe99cc3832f)\" d=\"M 243.298409 224.64 \nL 246.342045 224.64 \nL 246.342045 224.64 \nL 243.298409 224.64 \nz\n\" style=\"fill:#1f77b4;\"/>\n   </g>\n   <g id=\"patch_68\">\n    <path clip-path=\"url(#pe99cc3832f)\" d=\"M 246.342045 224.64 \nL 249.385682 224.64 \nL 249.385682 224.64 \nL 246.342045 224.64 \nz\n\" style=\"fill:#1f77b4;\"/>\n   </g>\n   <g id=\"patch_69\">\n    <path clip-path=\"url(#pe99cc3832f)\" d=\"M 249.385682 224.64 \nL 252.429318 224.64 \nL 252.429318 224.64 \nL 249.385682 224.64 \nz\n\" style=\"fill:#1f77b4;\"/>\n   </g>\n   <g id=\"patch_70\">\n    <path clip-path=\"url(#pe99cc3832f)\" d=\"M 252.429318 224.64 \nL 255.472955 224.64 \nL 255.472955 224.64 \nL 252.429318 224.64 \nz\n\" style=\"fill:#1f77b4;\"/>\n   </g>\n   <g id=\"patch_71\">\n    <path clip-path=\"url(#pe99cc3832f)\" d=\"M 255.472955 224.64 \nL 258.516591 224.64 \nL 258.516591 224.64 \nL 255.472955 224.64 \nz\n\" style=\"fill:#1f77b4;\"/>\n   </g>\n   <g id=\"patch_72\">\n    <path clip-path=\"url(#pe99cc3832f)\" d=\"M 258.516591 224.64 \nL 261.560227 224.64 \nL 261.560227 224.64 \nL 258.516591 224.64 \nz\n\" style=\"fill:#1f77b4;\"/>\n   </g>\n   <g id=\"patch_73\">\n    <path clip-path=\"url(#pe99cc3832f)\" d=\"M 261.560227 224.64 \nL 264.603864 224.64 \nL 264.603864 224.64 \nL 261.560227 224.64 \nz\n\" style=\"fill:#1f77b4;\"/>\n   </g>\n   <g id=\"patch_74\">\n    <path clip-path=\"url(#pe99cc3832f)\" d=\"M 264.603864 224.64 \nL 267.6475 224.64 \nL 267.6475 224.64 \nL 264.603864 224.64 \nz\n\" style=\"fill:#1f77b4;\"/>\n   </g>\n   <g id=\"patch_75\">\n    <path clip-path=\"url(#pe99cc3832f)\" d=\"M 267.6475 224.64 \nL 270.691136 224.64 \nL 270.691136 224.64 \nL 267.6475 224.64 \nz\n\" style=\"fill:#1f77b4;\"/>\n   </g>\n   <g id=\"patch_76\">\n    <path clip-path=\"url(#pe99cc3832f)\" d=\"M 270.691136 224.64 \nL 273.734773 224.64 \nL 273.734773 224.64 \nL 270.691136 224.64 \nz\n\" style=\"fill:#1f77b4;\"/>\n   </g>\n   <g id=\"patch_77\">\n    <path clip-path=\"url(#pe99cc3832f)\" d=\"M 273.734773 224.64 \nL 276.778409 224.64 \nL 276.778409 224.64 \nL 273.734773 224.64 \nz\n\" style=\"fill:#1f77b4;\"/>\n   </g>\n   <g id=\"patch_78\">\n    <path clip-path=\"url(#pe99cc3832f)\" d=\"M 276.778409 224.64 \nL 279.822045 224.64 \nL 279.822045 224.64 \nL 276.778409 224.64 \nz\n\" style=\"fill:#1f77b4;\"/>\n   </g>\n   <g id=\"patch_79\">\n    <path clip-path=\"url(#pe99cc3832f)\" d=\"M 279.822045 224.64 \nL 282.865682 224.64 \nL 282.865682 224.64 \nL 279.822045 224.64 \nz\n\" style=\"fill:#1f77b4;\"/>\n   </g>\n   <g id=\"patch_80\">\n    <path clip-path=\"url(#pe99cc3832f)\" d=\"M 282.865682 224.64 \nL 285.909318 224.64 \nL 285.909318 224.64 \nL 282.865682 224.64 \nz\n\" style=\"fill:#1f77b4;\"/>\n   </g>\n   <g id=\"patch_81\">\n    <path clip-path=\"url(#pe99cc3832f)\" d=\"M 285.909318 224.64 \nL 288.952955 224.64 \nL 288.952955 224.64 \nL 285.909318 224.64 \nz\n\" style=\"fill:#1f77b4;\"/>\n   </g>\n   <g id=\"patch_82\">\n    <path clip-path=\"url(#pe99cc3832f)\" d=\"M 288.952955 224.64 \nL 291.996591 224.64 \nL 291.996591 224.64 \nL 288.952955 224.64 \nz\n\" style=\"fill:#1f77b4;\"/>\n   </g>\n   <g id=\"patch_83\">\n    <path clip-path=\"url(#pe99cc3832f)\" d=\"M 291.996591 224.64 \nL 295.040227 224.64 \nL 295.040227 224.64 \nL 291.996591 224.64 \nz\n\" style=\"fill:#1f77b4;\"/>\n   </g>\n   <g id=\"patch_84\">\n    <path clip-path=\"url(#pe99cc3832f)\" d=\"M 295.040227 224.64 \nL 298.083864 224.64 \nL 298.083864 224.64 \nL 295.040227 224.64 \nz\n\" style=\"fill:#1f77b4;\"/>\n   </g>\n   <g id=\"patch_85\">\n    <path clip-path=\"url(#pe99cc3832f)\" d=\"M 298.083864 224.64 \nL 301.1275 224.64 \nL 301.1275 224.64 \nL 298.083864 224.64 \nz\n\" style=\"fill:#1f77b4;\"/>\n   </g>\n   <g id=\"patch_86\">\n    <path clip-path=\"url(#pe99cc3832f)\" d=\"M 301.1275 224.64 \nL 304.171136 224.64 \nL 304.171136 224.64 \nL 301.1275 224.64 \nz\n\" style=\"fill:#1f77b4;\"/>\n   </g>\n   <g id=\"patch_87\">\n    <path clip-path=\"url(#pe99cc3832f)\" d=\"M 304.171136 224.64 \nL 307.214773 224.64 \nL 307.214773 224.64 \nL 304.171136 224.64 \nz\n\" style=\"fill:#1f77b4;\"/>\n   </g>\n   <g id=\"patch_88\">\n    <path clip-path=\"url(#pe99cc3832f)\" d=\"M 307.214773 224.64 \nL 310.258409 224.64 \nL 310.258409 224.64 \nL 307.214773 224.64 \nz\n\" style=\"fill:#1f77b4;\"/>\n   </g>\n   <g id=\"patch_89\">\n    <path clip-path=\"url(#pe99cc3832f)\" d=\"M 310.258409 224.64 \nL 313.302045 224.64 \nL 313.302045 224.64 \nL 310.258409 224.64 \nz\n\" style=\"fill:#1f77b4;\"/>\n   </g>\n   <g id=\"patch_90\">\n    <path clip-path=\"url(#pe99cc3832f)\" d=\"M 313.302045 224.64 \nL 316.345682 224.64 \nL 316.345682 224.032711 \nL 313.302045 224.032711 \nz\n\" style=\"fill:#1f77b4;\"/>\n   </g>\n   <g id=\"patch_91\">\n    <path clip-path=\"url(#pe99cc3832f)\" d=\"M 316.345682 224.64 \nL 319.389318 224.64 \nL 319.389318 224.64 \nL 316.345682 224.64 \nz\n\" style=\"fill:#1f77b4;\"/>\n   </g>\n   <g id=\"patch_92\">\n    <path clip-path=\"url(#pe99cc3832f)\" d=\"M 319.389318 224.64 \nL 322.432955 224.64 \nL 322.432955 224.64 \nL 319.389318 224.64 \nz\n\" style=\"fill:#1f77b4;\"/>\n   </g>\n   <g id=\"patch_93\">\n    <path clip-path=\"url(#pe99cc3832f)\" d=\"M 322.432955 224.64 \nL 325.476591 224.64 \nL 325.476591 224.64 \nL 322.432955 224.64 \nz\n\" style=\"fill:#1f77b4;\"/>\n   </g>\n   <g id=\"patch_94\">\n    <path clip-path=\"url(#pe99cc3832f)\" d=\"M 325.476591 224.64 \nL 328.520227 224.64 \nL 328.520227 224.64 \nL 325.476591 224.64 \nz\n\" style=\"fill:#1f77b4;\"/>\n   </g>\n   <g id=\"patch_95\">\n    <path clip-path=\"url(#pe99cc3832f)\" d=\"M 328.520227 224.64 \nL 331.563864 224.64 \nL 331.563864 224.64 \nL 328.520227 224.64 \nz\n\" style=\"fill:#1f77b4;\"/>\n   </g>\n   <g id=\"patch_96\">\n    <path clip-path=\"url(#pe99cc3832f)\" d=\"M 331.563864 224.64 \nL 334.6075 224.64 \nL 334.6075 224.64 \nL 331.563864 224.64 \nz\n\" style=\"fill:#1f77b4;\"/>\n   </g>\n   <g id=\"patch_97\">\n    <path clip-path=\"url(#pe99cc3832f)\" d=\"M 334.6075 224.64 \nL 337.651136 224.64 \nL 337.651136 224.64 \nL 334.6075 224.64 \nz\n\" style=\"fill:#1f77b4;\"/>\n   </g>\n   <g id=\"patch_98\">\n    <path clip-path=\"url(#pe99cc3832f)\" d=\"M 337.651136 224.64 \nL 340.694773 224.64 \nL 340.694773 224.64 \nL 337.651136 224.64 \nz\n\" style=\"fill:#1f77b4;\"/>\n   </g>\n   <g id=\"patch_99\">\n    <path clip-path=\"url(#pe99cc3832f)\" d=\"M 340.694773 224.64 \nL 343.738409 224.64 \nL 343.738409 224.64 \nL 340.694773 224.64 \nz\n\" style=\"fill:#1f77b4;\"/>\n   </g>\n   <g id=\"patch_100\">\n    <path clip-path=\"url(#pe99cc3832f)\" d=\"M 343.738409 224.64 \nL 346.782045 224.64 \nL 346.782045 224.64 \nL 343.738409 224.64 \nz\n\" style=\"fill:#1f77b4;\"/>\n   </g>\n   <g id=\"patch_101\">\n    <path clip-path=\"url(#pe99cc3832f)\" d=\"M 346.782045 224.64 \nL 349.825682 224.64 \nL 349.825682 224.64 \nL 346.782045 224.64 \nz\n\" style=\"fill:#1f77b4;\"/>\n   </g>\n   <g id=\"patch_102\">\n    <path clip-path=\"url(#pe99cc3832f)\" d=\"M 349.825682 224.64 \nL 352.869318 224.64 \nL 352.869318 224.032711 \nL 349.825682 224.032711 \nz\n\" style=\"fill:#1f77b4;\"/>\n   </g>\n   <g id=\"matplotlib.axis_1\">\n    <g id=\"xtick_1\">\n     <g id=\"line2d_1\">\n      <defs>\n       <path d=\"M 0 0 \nL 0 3.5 \n\" id=\"m539e471587\" style=\"stroke:#000000;stroke-width:0.8;\"/>\n      </defs>\n      <g>\n       <use style=\"stroke:#000000;stroke-width:0.8;\" x=\"36.799388\" xlink:href=\"#m539e471587\" y=\"224.64\"/>\n      </g>\n     </g>\n     <g id=\"text_1\">\n      <!-- 0 -->\n      <defs>\n       <path d=\"M 31.78125 66.40625 \nQ 24.171875 66.40625 20.328125 58.90625 \nQ 16.5 51.421875 16.5 36.375 \nQ 16.5 21.390625 20.328125 13.890625 \nQ 24.171875 6.390625 31.78125 6.390625 \nQ 39.453125 6.390625 43.28125 13.890625 \nQ 47.125 21.390625 47.125 36.375 \nQ 47.125 51.421875 43.28125 58.90625 \nQ 39.453125 66.40625 31.78125 66.40625 \nz\nM 31.78125 74.21875 \nQ 44.046875 74.21875 50.515625 64.515625 \nQ 56.984375 54.828125 56.984375 36.375 \nQ 56.984375 17.96875 50.515625 8.265625 \nQ 44.046875 -1.421875 31.78125 -1.421875 \nQ 19.53125 -1.421875 13.0625 8.265625 \nQ 6.59375 17.96875 6.59375 36.375 \nQ 6.59375 54.828125 13.0625 64.515625 \nQ 19.53125 74.21875 31.78125 74.21875 \nz\n\" id=\"DejaVuSans-48\"/>\n      </defs>\n      <g transform=\"translate(33.618138 239.238438)scale(0.1 -0.1)\">\n       <use xlink:href=\"#DejaVuSans-48\"/>\n      </g>\n     </g>\n    </g>\n    <g id=\"xtick_2\">\n     <g id=\"line2d_2\">\n      <g>\n       <use style=\"stroke:#000000;stroke-width:0.8;\" x=\"101.834353\" xlink:href=\"#m539e471587\" y=\"224.64\"/>\n      </g>\n     </g>\n     <g id=\"text_2\">\n      <!-- 50 -->\n      <defs>\n       <path d=\"M 10.796875 72.90625 \nL 49.515625 72.90625 \nL 49.515625 64.59375 \nL 19.828125 64.59375 \nL 19.828125 46.734375 \nQ 21.96875 47.46875 24.109375 47.828125 \nQ 26.265625 48.1875 28.421875 48.1875 \nQ 40.625 48.1875 47.75 41.5 \nQ 54.890625 34.8125 54.890625 23.390625 \nQ 54.890625 11.625 47.5625 5.09375 \nQ 40.234375 -1.421875 26.90625 -1.421875 \nQ 22.3125 -1.421875 17.546875 -0.640625 \nQ 12.796875 0.140625 7.71875 1.703125 \nL 7.71875 11.625 \nQ 12.109375 9.234375 16.796875 8.0625 \nQ 21.484375 6.890625 26.703125 6.890625 \nQ 35.15625 6.890625 40.078125 11.328125 \nQ 45.015625 15.765625 45.015625 23.390625 \nQ 45.015625 31 40.078125 35.4375 \nQ 35.15625 39.890625 26.703125 39.890625 \nQ 22.75 39.890625 18.8125 39.015625 \nQ 14.890625 38.140625 10.796875 36.28125 \nz\n\" id=\"DejaVuSans-53\"/>\n      </defs>\n      <g transform=\"translate(95.471853 239.238438)scale(0.1 -0.1)\">\n       <use xlink:href=\"#DejaVuSans-53\"/>\n       <use x=\"63.623047\" xlink:href=\"#DejaVuSans-48\"/>\n      </g>\n     </g>\n    </g>\n    <g id=\"xtick_3\">\n     <g id=\"line2d_3\">\n      <g>\n       <use style=\"stroke:#000000;stroke-width:0.8;\" x=\"166.869318\" xlink:href=\"#m539e471587\" y=\"224.64\"/>\n      </g>\n     </g>\n     <g id=\"text_3\">\n      <!-- 100 -->\n      <defs>\n       <path d=\"M 12.40625 8.296875 \nL 28.515625 8.296875 \nL 28.515625 63.921875 \nL 10.984375 60.40625 \nL 10.984375 69.390625 \nL 28.421875 72.90625 \nL 38.28125 72.90625 \nL 38.28125 8.296875 \nL 54.390625 8.296875 \nL 54.390625 0 \nL 12.40625 0 \nz\n\" id=\"DejaVuSans-49\"/>\n      </defs>\n      <g transform=\"translate(157.325568 239.238438)scale(0.1 -0.1)\">\n       <use xlink:href=\"#DejaVuSans-49\"/>\n       <use x=\"63.623047\" xlink:href=\"#DejaVuSans-48\"/>\n       <use x=\"127.246094\" xlink:href=\"#DejaVuSans-48\"/>\n      </g>\n     </g>\n    </g>\n    <g id=\"xtick_4\">\n     <g id=\"line2d_4\">\n      <g>\n       <use style=\"stroke:#000000;stroke-width:0.8;\" x=\"231.904283\" xlink:href=\"#m539e471587\" y=\"224.64\"/>\n      </g>\n     </g>\n     <g id=\"text_4\">\n      <!-- 150 -->\n      <g transform=\"translate(222.360533 239.238438)scale(0.1 -0.1)\">\n       <use xlink:href=\"#DejaVuSans-49\"/>\n       <use x=\"63.623047\" xlink:href=\"#DejaVuSans-53\"/>\n       <use x=\"127.246094\" xlink:href=\"#DejaVuSans-48\"/>\n      </g>\n     </g>\n    </g>\n    <g id=\"xtick_5\">\n     <g id=\"line2d_5\">\n      <g>\n       <use style=\"stroke:#000000;stroke-width:0.8;\" x=\"296.939248\" xlink:href=\"#m539e471587\" y=\"224.64\"/>\n      </g>\n     </g>\n     <g id=\"text_5\">\n      <!-- 200 -->\n      <defs>\n       <path d=\"M 19.1875 8.296875 \nL 53.609375 8.296875 \nL 53.609375 0 \nL 7.328125 0 \nL 7.328125 8.296875 \nQ 12.9375 14.109375 22.625 23.890625 \nQ 32.328125 33.6875 34.8125 36.53125 \nQ 39.546875 41.84375 41.421875 45.53125 \nQ 43.3125 49.21875 43.3125 52.78125 \nQ 43.3125 58.59375 39.234375 62.25 \nQ 35.15625 65.921875 28.609375 65.921875 \nQ 23.96875 65.921875 18.8125 64.3125 \nQ 13.671875 62.703125 7.8125 59.421875 \nL 7.8125 69.390625 \nQ 13.765625 71.78125 18.9375 73 \nQ 24.125 74.21875 28.421875 74.21875 \nQ 39.75 74.21875 46.484375 68.546875 \nQ 53.21875 62.890625 53.21875 53.421875 \nQ 53.21875 48.921875 51.53125 44.890625 \nQ 49.859375 40.875 45.40625 35.40625 \nQ 44.1875 33.984375 37.640625 27.21875 \nQ 31.109375 20.453125 19.1875 8.296875 \nz\n\" id=\"DejaVuSans-50\"/>\n      </defs>\n      <g transform=\"translate(287.395498 239.238438)scale(0.1 -0.1)\">\n       <use xlink:href=\"#DejaVuSans-50\"/>\n       <use x=\"63.623047\" xlink:href=\"#DejaVuSans-48\"/>\n       <use x=\"127.246094\" xlink:href=\"#DejaVuSans-48\"/>\n      </g>\n     </g>\n    </g>\n    <g id=\"xtick_6\">\n     <g id=\"line2d_6\">\n      <g>\n       <use style=\"stroke:#000000;stroke-width:0.8;\" x=\"361.974213\" xlink:href=\"#m539e471587\" y=\"224.64\"/>\n      </g>\n     </g>\n     <g id=\"text_6\">\n      <!-- 250 -->\n      <g transform=\"translate(352.430463 239.238438)scale(0.1 -0.1)\">\n       <use xlink:href=\"#DejaVuSans-50\"/>\n       <use x=\"63.623047\" xlink:href=\"#DejaVuSans-53\"/>\n       <use x=\"127.246094\" xlink:href=\"#DejaVuSans-48\"/>\n      </g>\n     </g>\n    </g>\n   </g>\n   <g id=\"matplotlib.axis_2\">\n    <g id=\"ytick_1\">\n     <g id=\"line2d_7\">\n      <defs>\n       <path d=\"M 0 0 \nL -3.5 0 \n\" id=\"m7e29cd5f6f\" style=\"stroke:#000000;stroke-width:0.8;\"/>\n      </defs>\n      <g>\n       <use style=\"stroke:#000000;stroke-width:0.8;\" x=\"33.2875\" xlink:href=\"#m7e29cd5f6f\" y=\"224.64\"/>\n      </g>\n     </g>\n     <g id=\"text_7\">\n      <!-- 0 -->\n      <g transform=\"translate(19.925 228.439219)scale(0.1 -0.1)\">\n       <use xlink:href=\"#DejaVuSans-48\"/>\n      </g>\n     </g>\n    </g>\n    <g id=\"ytick_2\">\n     <g id=\"line2d_8\">\n      <g>\n       <use style=\"stroke:#000000;stroke-width:0.8;\" x=\"33.2875\" xlink:href=\"#m7e29cd5f6f\" y=\"194.275526\"/>\n      </g>\n     </g>\n     <g id=\"text_8\">\n      <!-- 50 -->\n      <g transform=\"translate(13.5625 198.074745)scale(0.1 -0.1)\">\n       <use xlink:href=\"#DejaVuSans-53\"/>\n       <use x=\"63.623047\" xlink:href=\"#DejaVuSans-48\"/>\n      </g>\n     </g>\n    </g>\n    <g id=\"ytick_3\">\n     <g id=\"line2d_9\">\n      <g>\n       <use style=\"stroke:#000000;stroke-width:0.8;\" x=\"33.2875\" xlink:href=\"#m7e29cd5f6f\" y=\"163.911052\"/>\n      </g>\n     </g>\n     <g id=\"text_9\">\n      <!-- 100 -->\n      <g transform=\"translate(7.2 167.71027)scale(0.1 -0.1)\">\n       <use xlink:href=\"#DejaVuSans-49\"/>\n       <use x=\"63.623047\" xlink:href=\"#DejaVuSans-48\"/>\n       <use x=\"127.246094\" xlink:href=\"#DejaVuSans-48\"/>\n      </g>\n     </g>\n    </g>\n    <g id=\"ytick_4\">\n     <g id=\"line2d_10\">\n      <g>\n       <use style=\"stroke:#000000;stroke-width:0.8;\" x=\"33.2875\" xlink:href=\"#m7e29cd5f6f\" y=\"133.546577\"/>\n      </g>\n     </g>\n     <g id=\"text_10\">\n      <!-- 150 -->\n      <g transform=\"translate(7.2 137.345796)scale(0.1 -0.1)\">\n       <use xlink:href=\"#DejaVuSans-49\"/>\n       <use x=\"63.623047\" xlink:href=\"#DejaVuSans-53\"/>\n       <use x=\"127.246094\" xlink:href=\"#DejaVuSans-48\"/>\n      </g>\n     </g>\n    </g>\n    <g id=\"ytick_5\">\n     <g id=\"line2d_11\">\n      <g>\n       <use style=\"stroke:#000000;stroke-width:0.8;\" x=\"33.2875\" xlink:href=\"#m7e29cd5f6f\" y=\"103.182103\"/>\n      </g>\n     </g>\n     <g id=\"text_11\">\n      <!-- 200 -->\n      <g transform=\"translate(7.2 106.981322)scale(0.1 -0.1)\">\n       <use xlink:href=\"#DejaVuSans-50\"/>\n       <use x=\"63.623047\" xlink:href=\"#DejaVuSans-48\"/>\n       <use x=\"127.246094\" xlink:href=\"#DejaVuSans-48\"/>\n      </g>\n     </g>\n    </g>\n    <g id=\"ytick_6\">\n     <g id=\"line2d_12\">\n      <g>\n       <use style=\"stroke:#000000;stroke-width:0.8;\" x=\"33.2875\" xlink:href=\"#m7e29cd5f6f\" y=\"72.817629\"/>\n      </g>\n     </g>\n     <g id=\"text_12\">\n      <!-- 250 -->\n      <g transform=\"translate(7.2 76.616848)scale(0.1 -0.1)\">\n       <use xlink:href=\"#DejaVuSans-50\"/>\n       <use x=\"63.623047\" xlink:href=\"#DejaVuSans-53\"/>\n       <use x=\"127.246094\" xlink:href=\"#DejaVuSans-48\"/>\n      </g>\n     </g>\n    </g>\n    <g id=\"ytick_7\">\n     <g id=\"line2d_13\">\n      <g>\n       <use style=\"stroke:#000000;stroke-width:0.8;\" x=\"33.2875\" xlink:href=\"#m7e29cd5f6f\" y=\"42.453155\"/>\n      </g>\n     </g>\n     <g id=\"text_13\">\n      <!-- 300 -->\n      <defs>\n       <path d=\"M 40.578125 39.3125 \nQ 47.65625 37.796875 51.625 33 \nQ 55.609375 28.21875 55.609375 21.1875 \nQ 55.609375 10.40625 48.1875 4.484375 \nQ 40.765625 -1.421875 27.09375 -1.421875 \nQ 22.515625 -1.421875 17.65625 -0.515625 \nQ 12.796875 0.390625 7.625 2.203125 \nL 7.625 11.71875 \nQ 11.71875 9.328125 16.59375 8.109375 \nQ 21.484375 6.890625 26.8125 6.890625 \nQ 36.078125 6.890625 40.9375 10.546875 \nQ 45.796875 14.203125 45.796875 21.1875 \nQ 45.796875 27.640625 41.28125 31.265625 \nQ 36.765625 34.90625 28.71875 34.90625 \nL 20.21875 34.90625 \nL 20.21875 43.015625 \nL 29.109375 43.015625 \nQ 36.375 43.015625 40.234375 45.921875 \nQ 44.09375 48.828125 44.09375 54.296875 \nQ 44.09375 59.90625 40.109375 62.90625 \nQ 36.140625 65.921875 28.71875 65.921875 \nQ 24.65625 65.921875 20.015625 65.03125 \nQ 15.375 64.15625 9.8125 62.3125 \nL 9.8125 71.09375 \nQ 15.4375 72.65625 20.34375 73.4375 \nQ 25.25 74.21875 29.59375 74.21875 \nQ 40.828125 74.21875 47.359375 69.109375 \nQ 53.90625 64.015625 53.90625 55.328125 \nQ 53.90625 49.265625 50.4375 45.09375 \nQ 46.96875 40.921875 40.578125 39.3125 \nz\n\" id=\"DejaVuSans-51\"/>\n      </defs>\n      <g transform=\"translate(7.2 46.252373)scale(0.1 -0.1)\">\n       <use xlink:href=\"#DejaVuSans-51\"/>\n       <use x=\"63.623047\" xlink:href=\"#DejaVuSans-48\"/>\n       <use x=\"127.246094\" xlink:href=\"#DejaVuSans-48\"/>\n      </g>\n     </g>\n    </g>\n    <g id=\"ytick_8\">\n     <g id=\"line2d_14\">\n      <g>\n       <use style=\"stroke:#000000;stroke-width:0.8;\" x=\"33.2875\" xlink:href=\"#m7e29cd5f6f\" y=\"12.08868\"/>\n      </g>\n     </g>\n     <g id=\"text_14\">\n      <!-- 350 -->\n      <g transform=\"translate(7.2 15.887899)scale(0.1 -0.1)\">\n       <use xlink:href=\"#DejaVuSans-51\"/>\n       <use x=\"63.623047\" xlink:href=\"#DejaVuSans-53\"/>\n       <use x=\"127.246094\" xlink:href=\"#DejaVuSans-48\"/>\n      </g>\n     </g>\n    </g>\n   </g>\n   <g id=\"patch_103\">\n    <path d=\"M 33.2875 224.64 \nL 33.2875 7.2 \n\" style=\"fill:none;stroke:#000000;stroke-linecap:square;stroke-linejoin:miter;stroke-width:0.8;\"/>\n   </g>\n   <g id=\"patch_104\">\n    <path d=\"M 368.0875 224.64 \nL 368.0875 7.2 \n\" style=\"fill:none;stroke:#000000;stroke-linecap:square;stroke-linejoin:miter;stroke-width:0.8;\"/>\n   </g>\n   <g id=\"patch_105\">\n    <path d=\"M 33.2875 224.64 \nL 368.0875 224.64 \n\" style=\"fill:none;stroke:#000000;stroke-linecap:square;stroke-linejoin:miter;stroke-width:0.8;\"/>\n   </g>\n   <g id=\"patch_106\">\n    <path d=\"M 33.2875 7.2 \nL 368.0875 7.2 \n\" style=\"fill:none;stroke:#000000;stroke-linecap:square;stroke-linejoin:miter;stroke-width:0.8;\"/>\n   </g>\n  </g>\n </g>\n <defs>\n  <clipPath id=\"pe99cc3832f\">\n   <rect height=\"217.44\" width=\"334.8\" x=\"33.2875\" y=\"7.2\"/>\n  </clipPath>\n </defs>\n</svg>\n",
      "image/png": "[encoded data removed]"
     },
     "metadata": {
      "needs_background": "light"
     }
    }
   ],
   "source": [
    "err = np.array(list(losses.values())).astype(int)\n",
    "plt.hist(err, bins=100)"
   ]
  },
  {
   "cell_type": "code",
   "execution_count": 3,
   "metadata": {},
   "outputs": [
    {
     "output_type": "execute_result",
     "data": {
      "text/plain": "1372"
     },
     "metadata": {},
     "execution_count": 3
    }
   ],
   "source": [
    "def get_file_have_big_loss(losses):\n",
    "    mismatch_cases = []\n",
    "    los = []\n",
    "\n",
    "    for k,v in losses.items():\n",
    "        if v <30:\n",
    "            mismatch_cases.append(k)\n",
    "            los.append(v)\n",
    "    \n",
    "    return mismatch_cases, los\n",
    "\n",
    "mismatch_keys, los = get_file_have_big_loss(losses)\n",
    "len(mismatch_keys)"
   ]
  },
  {
   "cell_type": "code",
   "execution_count": 4,
   "metadata": {},
   "outputs": [],
   "source": [
    "from math import log10, sqrt \n",
    "def PSNR(original, compressed): \n",
    "    mse = np.mean((original - compressed) ** 2) \n",
    "    if(mse == 0):  # MSE is zero means no noise is present in the signal . \n",
    "                  # Therefore PSNR have no importance. \n",
    "        return 100\n",
    "    max_pixel = 255.0\n",
    "    psnr = 20 * log10(max_pixel / sqrt(mse)) \n",
    "    return psnr "
   ]
  },
  {
   "cell_type": "code",
   "execution_count": null,
   "metadata": {},
   "outputs": [],
   "source": [
    "def check_valid_data(h_im, l_im):\n",
    "    h_im = cv2.resize(h_im, (128,128), cv2.INTER_CUBIC)\n",
    "    h_im = cv2.resize(h_im, (512,512), cv2.INTER_CUBIC)\n",
    "    l_im = cv2.imread(l)\n",
    "    l_im = cv2.resize(l_im, (512,512))\n",
    "\n",
    "    # MOuth\n",
    "    choose = [51,48,54,57]\n",
    "\n",
    "    h_lmk = get_landmark(h_im)[choose]\n",
    "    x1,y1 = np.min(h_lmk, axis=0)\n",
    "    x2,y2 = np.max(h_lmk, axis=0)\n",
    "    padx = int(0.2*(x2-x1))\n",
    "    pady = int(0.2*(y2-y1))\n",
    " \n",
    "    x1 -= padx\n",
    "    x2 += padx\n",
    "    y1 -= pady\n",
    "    y2 += pady\n",
    "\n",
    "    h_im_selected = np.zeros(h_im.shape)\n",
    "    l_im_selected = np.zeros(l_im.shape)\n",
    "    h_im_selected[y1:y2, x1:x2] = h_im[y1:y2, x1:x2]\n",
    "    l_im_selected[y1:y2, x1:x2] = l_im[y1:y2, x1:x2]\n",
    "\n",
    "\n",
    "    # Eye\n",
    "    choose = [28, 17, 26]\n",
    "    h_lmk = get_landmark(h_im)\n",
    "    other_lmk = list([h_lmk[71]//2 + h_lmk[27]//2])\n",
    "    h_lmk = np.array(list(h_lmk[choose]) + other_lmk)\n",
    "    x1,y1 = np.min(h_lmk, axis=0)\n",
    "    x2,y2 = np.max(h_lmk, axis=0)\n",
    "    padx = int(0.2*(x2-x1))\n",
    "    pady = int(0.2*(y2-y1))\n",
    " \n",
    "    x1 -= padx\n",
    "    x2 += padx\n",
    "    y2 += pady\n",
    "\n",
    "    h_im_selected[y1:y2, x1:x2] = h_im[y1:y2, x1:x2]\n",
    "    l_im_selected[y1:y2, x1:x2] = l_im[y1:y2, x1:x2]\n",
    "\n",
    "    h_im_selected = h_im_selected.astype(np.uint8)\n",
    "    l_im_selected = l_im_selected.astype(np.uint8)\n",
    "\n",
    "\n",
    "    psnr_loss = PSNR(h_im_selected, l_im_selected)\n",
    "\n",
    "    if psnr_loss > 40.5:\n",
    "        return False\n",
    "    \n",
    "    return True\n",
    "\n"
   ]
  },
  {
   "cell_type": "code",
   "execution_count": null,
   "metadata": {},
   "outputs": [],
   "source": []
  },
  {
   "cell_type": "code",
   "execution_count": 8,
   "metadata": {
    "tags": []
   },
   "outputs": [
    {
     "output_type": "stream",
     "name": "stdout",
     "text": "Loss:  24.372115213907882 PSRN:  40.042018749841716\nLoss:  16.61324772583615 PSRN:  39.960577501827785\nLoss:  21.840329667841555 PSRN:  40.54692510143038\nLoss:  19.544820285692065 PSRN:  39.65236084420024\nLoss:  15.264337522473747 PSRN:  40.94909965556563\nLoss:  21.6794833886788 PSRN:  39.462547357782185\nLoss:  28.071337695236398 PSRN:  39.68357133863745\nLoss:  23.68543856465402 PSRN:  40.123882072285156\nLoss:  24.24871130596428 PSRN:  39.94544266201834\nLoss:  25.826343140289914 PSRN:  39.38525680936716\nLoss:  24.474476501040833 PSRN:  40.183335026284155\nLoss:  17.406895185529212 PSRN:  39.81687304886526\nLoss:  26.057628441590765 PSRN:  40.327535207353606\nLoss:  19.72308292331602 PSRN:  39.5557405289406\nLoss:  22.538855339169288 PSRN:  39.80117683988412\nLoss:  28.948229652260256 PSRN:  39.62646883680825\nLoss:  18.920887928424502 PSRN:  39.35785432155556\nLoss:  25.98076211353316 PSRN:  39.34047897341652\nLoss:  18.894443627691185 PSRN:  39.74338432751822\nLoss:  28.24889378365107 PSRN:  39.79599597522906\nLoss:  27.676705006196094 PSRN:  40.01342217541416\nLoss:  24.20743687382041 PSRN:  39.85448202114721\nLoss:  21.702534414210707 PSRN:  40.051725576895194\nLoss:  22.825424421026653 PSRN:  40.25245750018843\nLoss:  25.865034312755125 PSRN:  39.73440119655066\nLoss:  23.021728866442675 PSRN:  40.06778808881245\nLoss:  23.811761799581316 PSRN:  39.37129293025531\nLoss:  17.549928774784245 PSRN:  39.5616641398733\nLoss:  26.68332812825267 PSRN:  39.81423584792366\nLoss:  18.05547008526779 PSRN:  39.62876752126461\nLoss:  27.748873851023216 PSRN:  39.70763421204722\nLoss:  27.331300737432898 PSRN:  39.72494553923987\nLoss:  29.8496231131986 PSRN:  40.50370064397668\nLoss:  23.515952032609693 PSRN:  41.01851142329985\nLoss:  20.493901531919196 PSRN:  39.38653599004666\nLoss:  22.494443758403985 PSRN:  40.5685787258662\nLoss:  21.095023109728988 PSRN:  39.775338939505794\nLoss:  29.765752132274432 PSRN:  39.08924077590636\nLoss:  19.949937343260004 PSRN:  40.424239027985294\nLoss:  18.520259177452136 PSRN:  40.024979837400885\nLoss:  24.71841418861655 PSRN:  40.230190515933174\nLoss:  27.51363298439521 PSRN:  39.70995879549664\nLoss:  28.35489375751565 PSRN:  39.96331100435991\nLoss:  23.769728648009426 PSRN:  39.430642671808165\nLoss:  27.820855486487112 PSRN:  38.96677421652996\nLoss:  18.49324200890693 PSRN:  39.916667258378965\nLoss:  24.454038521274967 PSRN:  40.05959054997618\nLoss:  21.494185260204677 PSRN:  39.66694450357456\nLoss:  24.758836806279895 PSRN:  39.636874457378326\nLoss:  23.280893453645632 PSRN:  40.09004031702026\nLoss:  20.223748416156685 PSRN:  39.47895672637898\nLoss:  27.313000567495326 PSRN:  39.66282561861728\nLoss:  23.57965224510319 PSRN:  39.941267293652125\nLoss:  24.95996794869737 PSRN:  39.891268912737466\nLoss:  19.72308292331602 PSRN:  39.5811035421894\nLoss:  21.587033144922902 PSRN:  39.5649597245213\nLoss:  23.558437978779494 PSRN:  39.48653197306457\nLoss:  22.494443758403985 PSRN:  39.36753823094014\nLoss:  24.758836806279895 PSRN:  39.45107452761373\nLoss:  14.696938456699069 PSRN:  40.757084025329505\nLoss:  18.867962264113206 PSRN:  39.87334995873477\nLoss:  24.71841418861655 PSRN:  40.71804634348247\nLoss:  18.57417562100671 PSRN:  40.21333071857156\nLoss:  20.024984394500787 PSRN:  40.00160632341135\nLoss:  21.166010488516726 PSRN:  39.898518142919215\nLoss:  25.942243542145693 PSRN:  39.89047219423961\nLoss:  17.74823934929885 PSRN:  39.31534963366404\nLoss:  22.11334438749598 PSRN:  39.642287240276374\nLoss:  25.495097567963924 PSRN:  40.06021998466993\nLoss:  15.165750888103101 PSRN:  40.87549463524715\nLoss:  21.72556098240043 PSRN:  39.99077836436932\nLoss:  27.60434748368452 PSRN:  39.51227005040211\nLoss:  20.37154878746336 PSRN:  39.10056025653631\nLoss:  23.515952032609693 PSRN:  39.38556274625759\nLoss:  15.0996688705415 PSRN:  40.67085022001842\nLoss:  25.475478405713993 PSRN:  39.322091656826544\nLoss:  18.303005217723125 PSRN:  39.83823469097035\nLoss:  23.08679276123039 PSRN:  40.21620665935962\nLoss:  23.043437243605826 PSRN:  40.44023144158249\nLoss:  27.018512172212592 PSRN:  39.142684091168846\nLoss:  19.4164878389476 PSRN:  40.403102366514176\nLoss:  16.61324772583615 PSRN:  40.235238651977276\nLoss:  25.88435821108957 PSRN:  39.48974836018739\nLoss:  15.459624833740307 PSRN:  40.97860664180162\nLoss:  20.8806130178211 PSRN:  39.78589526706601\nLoss:  27.055498516937366 PSRN:  39.831287079192734\nLoss:  26.419689627245813 PSRN:  39.85534937889302\nLoss:  22.561028345356956 PSRN:  39.98734834261419\nLoss:  20.0 PSRN:  39.927551484238045\nLoss:  29.966648127543394 PSRN:  39.92873013154157\nLoss:  26.5329983228432 PSRN:  39.683813748565996\nLoss:  15.329709716755891 PSRN:  39.79208725813292\nLoss:  26.0 PSRN:  40.3332626751207\nLoss:  15.684387141358123 PSRN:  40.56204442325019\nLoss:  21.166010488516726 PSRN:  39.87162965134257\nLoss:  25.0 PSRN:  41.073004222979286\nLoss:  20.85665361461421 PSRN:  39.66153548711405\nLoss:  20.346989949375804 PSRN:  40.42037149880957\nLoss:  16.431676725154983 PSRN:  39.9386723904323\nLoss:  17.029386365926403 PSRN:  39.38939800033757\nLoss:  17.944358444926362 PSRN:  40.61553946068885\nLoss:  29.274562336608895 PSRN:  39.843208999282396\nLoss:  23.93741840717165 PSRN:  39.736971162832965\nLoss:  24.95996794869737 PSRN:  39.811902772136605\nLoss:  18.138357147217054 PSRN:  40.563190963303114\nLoss:  22.045407685048602 PSRN:  39.54182834051542\nLoss:  26.627053911388696 PSRN:  38.924796173371526\nLoss:  27.09243436828813 PSRN:  39.8164448017854\nLoss:  23.748684174075834 PSRN:  40.415457818053035\nLoss:  22.271057451320086 PSRN:  39.613614288684346\nLoss:  18.49324200890693 PSRN:  39.68720890904378\nLoss:  15.0996688705415 PSRN:  40.59286631497402\nLoss:  13.74772708486752 PSRN:  40.61226929635226\nLoss:  23.130067012440755 PSRN:  39.52479494312098\nLoss:  24.166091947189145 PSRN:  39.41519752784784\nLoss:  25.748786379167466 PSRN:  39.525198419682766\nLoss:  27.386127875258307 PSRN:  39.643065516014005\nLoss:  12.288205727444508 PSRN:  40.4070851195457\nLoss:  27.92848008753788 PSRN:  39.33424747107295\nLoss:  21.72556098240043 PSRN:  40.346899669812885\nLoss:  22.38302928559939 PSRN:  39.83764970825346\nLoss:  25.632011235952593 PSRN:  40.56727301412678\nLoss:  26.664583251946766 PSRN:  38.96686727151602\nLoss:  12.36931687685298 PSRN:  40.67871297861992\nLoss:  22.360679774997898 PSRN:  39.78186962899884\nLoss:  19.44222209522358 PSRN:  40.613099565512066\nLoss:  16.06237840420901 PSRN:  40.26702293837597\nLoss:  16.15549442140351 PSRN:  41.02701507194667\nLoss:  23.895606290697042 PSRN:  39.79290094675854\nLoss:  16.278820596099706 PSRN:  39.941082131372625\nLoss:  21.307275752662516 PSRN:  39.523934064687\nLoss:  21.283796653792763 PSRN:  40.72713052713938\nLoss:  25.357444666211933 PSRN:  39.43720362694935\nLoss:  27.51363298439521 PSRN:  39.27988780865232\nLoss:  19.28730152198591 PSRN:  40.6505489858055\nLoss:  26.28687885618983 PSRN:  39.78505621733825\nLoss:  26.68332812825267 PSRN:  39.677990178575456\nLoss:  23.979157616563597 PSRN:  39.36867046856134\nLoss:  18.083141320025124 PSRN:  39.786876789120235\nLoss:  29.8496231131986 PSRN:  39.84092990170144\nLoss:  24.454038521274967 PSRN:  39.74482473174821\nLoss:  16.24807680927192 PSRN:  39.940088589905336\nLoss:  24.71841418861655 PSRN:  39.382346694882465\nLoss:  23.021728866442675 PSRN:  39.90115556929804\nLoss:  20.54263858417414 PSRN:  40.44481758847263\nLoss:  22.538855339169288 PSRN:  40.601403405176484\nLoss:  29.816103031751148 PSRN:  39.84677130687953\nLoss:  27.748873851023216 PSRN:  39.225832044159496\nLoss:  23.45207879911715 PSRN:  39.85746593309074\nLoss:  21.908902300206645 PSRN:  39.62010995065069\nLoss:  24.310491562286437 PSRN:  40.2619359390833\nLoss:  20.952326839756964 PSRN:  40.05589844107435\nLoss:  16.0 PSRN:  40.26328112176836\nLoss:  25.099800796022265 PSRN:  39.854689809828294\nLoss:  28.6705423736629 PSRN:  39.46581811717445\nLoss:  22.44994432064365 PSRN:  40.24658025568404\nLoss:  22.44994432064365 PSRN:  40.1098342752415\nLoss:  24.819347291981714 PSRN:  40.06298162022023\nLoss:  19.595917942265423 PSRN:  40.42257908790064\nLoss:  24.041630560342615 PSRN:  39.73843582880069\nLoss:  20.83266665599966 PSRN:  39.864396317030575\nLoss:  17.52141546793523 PSRN:  39.828379054793814\nLoss:  25.534290669607408 PSRN:  39.59880410648725\nLoss:  22.847319317591726 PSRN:  39.23229906467908\nLoss:  26.476404589747453 PSRN:  39.979828554384234\nLoss:  16.852299546352718 PSRN:  39.89648929453054\nLoss:  19.87460691435179 PSRN:  40.05400454896572\nLoss:  27.730849247724095 PSRN:  40.639610634612104\nLoss:  17.029386365926403 PSRN:  39.634259979699515\nLoss:  21.97726097583591 PSRN:  39.24545193911844\nLoss:  29.359836511806396 PSRN:  39.054995055387245\nLoss:  27.459060435491963 PSRN:  40.594897480251205\nLoss:  26.057628441590765 PSRN:  39.74991841714244\nLoss:  25.179356624028344 PSRN:  39.788208747480326\nLoss:  22.181073012818835 PSRN:  39.96244454953293\nLoss:  14.866068747318506 PSRN:  40.09394902669427\nLoss:  21.330729007701542 PSRN:  39.724697634219744\nLoss:  17.204650534085253 PSRN:  39.70537118233573\nLoss:  26.90724809414742 PSRN:  40.11102598880687\nLoss:  21.0 PSRN:  40.123215384982075\nLoss:  20.396078054371138 PSRN:  38.969621664622665\nLoss:  19.974984355438178 PSRN:  40.060999370167025\nLoss:  13.711309200802088 PSRN:  40.2775534208849\nLoss:  14.966629547095765 PSRN:  40.71198275024872\nLoss:  25.748786379167466 PSRN:  40.09733838078131\nLoss:  22.978250586152114 PSRN:  39.64060836050827\nLoss:  22.759613353482084 PSRN:  40.44196960151375\nLoss:  26.90724809414742 PSRN:  39.63778692756798\nLoss:  21.88606862823929 PSRN:  40.23510507050422\nLoss:  26.5329983228432 PSRN:  39.354329330410366\nLoss:  26.589471600616662 PSRN:  40.34048178893863\nLoss:  23.600847442411894 PSRN:  40.1089389629444\nLoss:  15.811388300841896 PSRN:  39.68181407387099\nLoss:  23.45207879911715 PSRN:  39.76103194042729\nLoss:  11.575836902790225 PSRN:  43.36113759198537\nLoss:  26.77685567799177 PSRN:  39.91571510235075\nLoss:  20.445048300260872 PSRN:  39.337681820725805\nLoss:  24.269322199023193 PSRN:  39.886536297420264\nLoss:  14.212670403551895 PSRN:  40.6756489170418\nLoss:  27.018512172212592 PSRN:  39.51579118737593\nLoss:  22.93468988235943 PSRN:  40.20183528644318\nLoss:  21.213203435596427 PSRN:  39.69635697043535\nLoss:  21.071307505705477 PSRN:  39.368904001754295\nLoss:  23.108440016582687 PSRN:  39.29801745621723\nLoss:  17.175564037317667 PSRN:  39.49557955615915\nLoss:  29.30870177950569 PSRN:  39.57509792717164\nLoss:  28.337254630609507 PSRN:  39.38834075470241\nLoss:  29.376861643136763 PSRN:  38.98039751081109\nLoss:  20.199009876724155 PSRN:  40.32720828232962\nLoss:  21.283796653792763 PSRN:  40.71248505800129\nLoss:  24.474476501040833 PSRN:  40.60293115153449\nLoss:  23.45207879911715 PSRN:  40.08414833943515\nLoss:  19.1049731745428 PSRN:  40.47487833502741\nLoss:  16.673332000533065 PSRN:  40.32473104550918\nLoss:  27.459060435491963 PSRN:  39.762915643465064\nLoss:  20.29778313018444 PSRN:  39.426837820541934\nLoss:  27.459060435491963 PSRN:  39.97766251709447\nLoss:  28.77498913987632 PSRN:  39.46697026326659\nLoss:  16.792855623746664 PSRN:  39.971413012473384\nLoss:  28.178005607210743 PSRN:  39.747927346588284\nLoss:  20.346989949375804 PSRN:  40.05061875981507\nLoss:  22.47220505424423 PSRN:  39.27886407903672\nLoss:  25.059928172283335 PSRN:  39.17130879036946\nLoss:  26.343879744638983 PSRN:  40.16857828478375\nLoss:  25.67099530598687 PSRN:  40.1072150486858\nLoss:  23.366642891095847 PSRN:  40.01416082935798\nLoss:  24.124676163629637 PSRN:  39.86646622563627\nLoss:  27.76688675382964 PSRN:  40.075038454652216\nLoss:  25.11971337416094 PSRN:  39.58907169036848\nLoss:  27.94637722496424 PSRN:  39.92933921074185\nLoss:  14.52583904633395 PSRN:  40.59833002953238\nLoss:  29.13760456866693 PSRN:  39.56434204399347\nLoss:  29.274562336608895 PSRN:  39.749555243218296\nLoss:  17.204650534085253 PSRN:  39.61716649351745\nLoss:  13.2664991614216 PSRN:  40.481503775151076\nLoss:  26.664583251946766 PSRN:  39.968329568364375\nLoss:  25.019992006393608 PSRN:  39.662502656927046\nLoss:  20.322401432901575 PSRN:  40.02635952978488\nLoss:  20.952326839756964 PSRN:  40.06566568961837\nLoss:  22.271057451320086 PSRN:  39.65371333892718\nLoss:  29.0 PSRN:  40.234171907846495\nLoss:  28.372521918222215 PSRN:  39.333902145615205\nLoss:  11.40175425099138 PSRN:  40.25617648591422\nLoss:  19.77371993328519 PSRN:  40.25122004537948\nLoss:  20.83266665599966 PSRN:  39.17725305033215\nLoss:  25.39685019840059 PSRN:  39.243981721323145\nLoss:  21.42428528562855 PSRN:  39.84795529213932\nLoss:  27.640549922170507 PSRN:  39.44615041640403\nLoss:  28.178005607210743 PSRN:  39.58954067874916\nLoss:  25.0 PSRN:  40.21321208118949\nLoss:  23.53720459187964 PSRN:  40.48815169205585\nLoss:  27.910571473905726 PSRN:  39.07706482470573\nLoss:  24.186773244895647 PSRN:  39.730322420813046\nLoss:  22.06807649071391 PSRN:  40.10648911987631\nLoss:  19.672315572906 PSRN:  39.77210467251248\nLoss:  27.018512172212592 PSRN:  39.88546664803769\nLoss:  27.422618401604176 PSRN:  39.32750984322644\nLoss:  24.351591323771842 PSRN:  39.297979163298116\nLoss:  20.784609690826528 PSRN:  40.47097019915083\nLoss:  21.307275752662516 PSRN:  40.26924427643962\nLoss:  16.0 PSRN:  40.40938674955633\nLoss:  22.715633383201094 PSRN:  40.77050250630572\nLoss:  27.964262908219126 PSRN:  39.446036785693636\nLoss:  24.351591323771842 PSRN:  39.272025025920215\nLoss:  23.430749027719962 PSRN:  39.90637289518027\nLoss:  17.86057109949175 PSRN:  39.75876100610768\nLoss:  15.905973720586866 PSRN:  40.11112966941076\nLoss:  25.39685019840059 PSRN:  40.02848759274471\nLoss:  25.92296279363144 PSRN:  39.06732980987823\nLoss:  27.331300737432898 PSRN:  38.80758030182627\nLoss:  15.066519173319364 PSRN:  40.22523410926191\nLoss:  26.795522013948524 PSRN:  39.81968864415731\nLoss:  16.3707055437449 PSRN:  40.11021666816001\nLoss:  28.231188426986208 PSRN:  39.43230713206627\nLoss:  17.05872210923198 PSRN:  40.537881977347766\nLoss:  22.338307903688676 PSRN:  39.994559693858996\nLoss:  9.486832980505138 PSRN:  41.47372024041722\nLoss:  19.209372712298546 PSRN:  40.038255007497376\nLoss:  24.939927826679853 PSRN:  40.385563785759224\nLoss:  22.15851980616034 PSRN:  39.43331476083622\nLoss:  15.231546211727817 PSRN:  40.120586331938014\nLoss:  24.124676163629637 PSRN:  39.449111095536516\nLoss:  24.372115213907882 PSRN:  39.94769505385533\nLoss:  17.832554500127006 PSRN:  39.90366917079108\nLoss:  25.865034312755125 PSRN:  39.59838753970887\nLoss:  16.792855623746664 PSRN:  40.23965901907574\nLoss:  22.80350850198276 PSRN:  39.8843443371671\nLoss:  12.68857754044952 PSRN:  40.00168618450489\nLoss:  20.83266665599966 PSRN:  40.535002101850786\nLoss:  23.706539182259394 PSRN:  39.74594359650732\nLoss:  27.54995462791182 PSRN:  39.81606625350362\nLoss:  23.388031127053 PSRN:  39.80620388596003\nLoss:  17.320508075688775 PSRN:  40.212832998496076\nLoss:  23.57965224510319 PSRN:  40.542314584992724\nLoss:  23.430749027719962 PSRN:  39.37997155933251\nLoss:  18.708286933869708 PSRN:  39.65105735951929\nLoss:  27.964262908219126 PSRN:  39.39496292520935\nLoss:  20.199009876724155 PSRN:  39.740908973308315\nLoss:  18.867962264113206 PSRN:  40.006409945933584\nLoss:  24.939927826679853 PSRN:  39.91893311275596\nLoss:  14.560219778561036 PSRN:  39.528203595924836\nLoss:  28.319604517012593 PSRN:  40.11370505338416\nLoss:  21.840329667841555 PSRN:  40.35447415127585\nLoss:  24.24871130596428 PSRN:  39.78787794373631\nLoss:  20.024984394500787 PSRN:  40.10552836472769\nLoss:  28.91366458960192 PSRN:  40.28652526719771\nLoss:  26.664583251946766 PSRN:  39.47784657955346\nLoss:  20.396078054371138 PSRN:  39.86469019383946\nLoss:  19.157244060668017 PSRN:  39.877898117000214\nLoss:  19.131126469708992 PSRN:  39.864629276564585\nLoss:  23.853720883753127 PSRN:  39.927011969312105\nLoss:  21.88606862823929 PSRN:  40.50501218268159\nLoss:  22.561028345356956 PSRN:  40.146659742784045\nLoss:  18.027756377319946 PSRN:  40.27373287602372\nLoss:  29.29163703175362 PSRN:  39.695599174069486\nLoss:  20.566963801203133 PSRN:  39.724733503845414\nLoss:  29.017236257093817 PSRN:  39.44021868199614\nLoss:  26.962937525425527 PSRN:  39.99606381453984\nLoss:  23.323807579381203 PSRN:  39.893732873691995\nLoss:  24.576411454889016 PSRN:  40.014643109523924\nLoss:  21.702534414210707 PSRN:  39.375811391130846\nLoss:  18.05547008526779 PSRN:  39.59295415251047\nLoss:  27.313000567495326 PSRN:  40.057857708004164\nLoss:  18.867962264113206 PSRN:  40.77010092995266\nLoss:  26.1725046566048 PSRN:  39.58013967999339\nLoss:  26.68332812825267 PSRN:  39.444228065534034\nLoss:  26.076809620810597 PSRN:  39.892276200605814\nLoss:  18.627936010197157 PSRN:  40.66570339300873\nLoss:  27.748873851023216 PSRN:  39.38772334786245\nLoss:  14.0 PSRN:  39.977910926923734\nLoss:  18.138357147217054 PSRN:  39.73542468559116\nLoss:  22.64950330581225 PSRN:  40.36486068549894\nLoss:  22.538855339169288 PSRN:  40.48208735118148\nLoss:  22.427661492005804 PSRN:  39.58164108465986\nLoss:  24.413111231467404 PSRN:  40.047776529301515\nLoss:  24.392621835300936 PSRN:  39.64262512778675\nLoss:  28.0178514522438 PSRN:  39.847592846858085\nLoss:  19.157244060668017 PSRN:  40.16240517807529\nLoss:  27.27636339397171 PSRN:  40.31961900412711\nLoss:  26.153393661244042 PSRN:  39.279687072441924\nLoss:  27.03701166919155 PSRN:  39.30872163347159\nLoss:  21.2602916254693 PSRN:  39.43710216645552\nLoss:  23.748684174075834 PSRN:  39.76506485047213\nLoss:  24.08318915758459 PSRN:  39.68248421361889\nLoss:  27.694764848252458 PSRN:  39.74495286198717\nLoss:  22.24859546128699 PSRN:  39.820523818726315\nLoss:  29.274562336608895 PSRN:  39.4923097369318\nLoss:  20.639767440550294 PSRN:  40.10107111878212\nLoss:  25.98076211353316 PSRN:  39.66334114981413\nLoss:  28.284271247461902 PSRN:  38.92245172742914\nLoss:  23.15167380558045 PSRN:  39.42421136573808\nLoss:  19.1049731745428 PSRN:  39.37703334452367\nLoss:  25.514701644346147 PSRN:  39.75224008057755\nLoss:  24.186773244895647 PSRN:  39.76164126071586\nLoss:  25.03996805109783 PSRN:  39.46047222484109\nLoss:  21.540659228538015 PSRN:  40.249198577832786\nLoss:  19.595917942265423 PSRN:  40.148641061565854\nLoss:  28.75760768909681 PSRN:  39.39524664163275\nLoss:  24.020824298928627 PSRN:  39.99883673190937\nLoss:  16.64331697709324 PSRN:  40.170795756983594\nLoss:  22.60530911091463 PSRN:  40.02179412393601\nLoss:  29.631064780058107 PSRN:  40.27822883590383\nLoss:  18.920887928424502 PSRN:  40.69908674961123\nLoss:  20.09975124224178 PSRN:  40.26059297649152\nLoss:  25.436194683953808 PSRN:  39.776513287360515\nLoss:  16.73320053068151 PSRN:  39.78471757170016\nLoss:  18.57417562100671 PSRN:  40.74902675671193\nLoss:  25.37715508089904 PSRN:  40.59013751961586\nLoss:  20.591260281974 PSRN:  39.98593442735496\nLoss:  23.08679276123039 PSRN:  39.33114489826332\nLoss:  27.386127875258307 PSRN:  39.742479014959564\nLoss:  28.106938645110393 PSRN:  39.98469953312266\nLoss:  23.473389188611005 PSRN:  39.76069435912904\nLoss:  10.44030650891055 PSRN:  40.533325216478424\nLoss:  20.0 PSRN:  39.84009570544329\nLoss:  14.317821063276353 PSRN:  41.26091704790454\nLoss:  14.491376746189438 PSRN:  41.22068395058244\nLoss:  21.400934559032695 PSRN:  39.83471943560814\nLoss:  21.79449471770337 PSRN:  40.050511358575775\nLoss:  20.952326839756964 PSRN:  39.961414964535855\nLoss:  21.72556098240043 PSRN:  39.63418347448765\nLoss:  25.826343140289914 PSRN:  38.99015610826432\nLoss:  22.538855339169288 PSRN:  40.29743514401683\nLoss:  15.362291495737216 PSRN:  41.79175294901785\nLoss:  13.2664991614216 PSRN:  40.74329769165476\nLoss:  19.493588689617926 PSRN:  39.505368950043774\nLoss:  23.021728866442675 PSRN:  39.99816434692097\nLoss:  16.97056274847714 PSRN:  40.15127132941157\nLoss:  27.313000567495326 PSRN:  39.88549973455718\nLoss:  27.874719729532707 PSRN:  39.69222355886028\nLoss:  28.0 PSRN:  39.299864587324016\nLoss:  20.273134932713294 PSRN:  39.16758697526221\nLoss:  24.041630560342615 PSRN:  39.71915734256746\nLoss:  29.444863728670914 PSRN:  40.134987011176726\nLoss:  23.727621035409346 PSRN:  39.44274577569512\nLoss:  21.95449840010015 PSRN:  39.81387701936018\nLoss:  28.053520278211074 PSRN:  39.79549929369767\nLoss:  20.223748416156685 PSRN:  40.68720478008923\nLoss:  14.422205101855956 PSRN:  40.49240158454194\nLoss:  18.303005217723125 PSRN:  39.77056094175588\nLoss:  23.68543856465402 PSRN:  40.09119625557833\nLoss:  20.591260281974 PSRN:  40.55178448377788\nLoss:  19.544820285692065 PSRN:  39.50306117127432\nLoss:  26.153393661244042 PSRN:  40.13642927070478\nLoss:  18.681541692269406 PSRN:  40.0248756307645\nLoss:  21.354156504062622 PSRN:  39.78503358625745\nLoss:  18.788294228055936 PSRN:  39.161408065798305\nLoss:  28.548204847240395 PSRN:  39.90852028967192\nLoss:  22.15851980616034 PSRN:  40.88445541678872\nLoss:  23.93741840717165 PSRN:  39.644222627897165\nLoss:  23.874672772626646 PSRN:  39.56232751028735\nLoss:  18.947295321496416 PSRN:  39.779122023997296\nLoss:  22.627416997969522 PSRN:  39.603432388313365\nLoss:  22.090722034374522 PSRN:  39.482794717874114\nLoss:  27.820855486487112 PSRN:  39.426304960769635\nLoss:  22.11334438749598 PSRN:  39.72736953639343\nLoss:  23.958297101421877 PSRN:  39.78853876752025\nLoss:  15.905973720586866 PSRN:  39.914953860919546\nLoss:  26.1725046566048 PSRN:  40.47889714423695\nLoss:  17.944358444926362 PSRN:  41.85190026883042\nLoss:  14.798648586948742 PSRN:  40.029585362962024\nLoss:  21.37755832643195 PSRN:  40.26532991994528\nLoss:  24.228082879171435 PSRN:  39.661708320502676\nLoss:  20.688160865577203 PSRN:  40.174190832609476\nLoss:  22.38302928559939 PSRN:  40.131688963893176\nLoss:  26.981475126464083 PSRN:  39.471372111834995\nLoss:  20.049937655763422 PSRN:  40.060480912526714\nLoss:  14.247806848775006 PSRN:  41.04345797054193\nLoss:  24.63736998950984 PSRN:  40.600788946133065\nLoss:  28.687976575562104 PSRN:  39.475689609055664\nLoss:  20.199009876724155 PSRN:  40.14378119288784\nLoss:  11.489125293076057 PSRN:  40.74524115673676\nLoss:  20.97617696340303 PSRN:  40.377668116256054\nLoss:  23.194827009486403 PSRN:  40.63435324823089\nLoss:  23.108440016582687 PSRN:  39.86291982530493\nLoss:  29.8496231131986 PSRN:  39.065169433497864\nLoss:  22.271057451320086 PSRN:  39.15587630015453\nLoss:  28.61817604250837 PSRN:  39.424882337118234\nLoss:  23.194827009486403 PSRN:  39.55668595413963\nLoss:  21.42428528562855 PSRN:  39.768082130058175\nLoss:  28.653097563788805 PSRN:  39.48239516143208\nLoss:  22.825424421026653 PSRN:  39.2855827959057\nLoss:  13.30413469565007 PSRN:  40.33585855901851\nLoss:  19.8997487421324 PSRN:  39.27734655437195\nLoss:  27.94637722496424 PSRN:  39.461348371170025\nLoss:  15.0 PSRN:  41.00680319346661\nLoss:  26.888659319497503 PSRN:  39.51004357162582\nLoss:  18.81488772222678 PSRN:  40.183539670035564\nLoss:  23.388031127053 PSRN:  39.92545810658826\nLoss:  18.601075237738275 PSRN:  39.89576126362301\nLoss:  21.88606862823929 PSRN:  39.642620434724634\nLoss:  15.394804318340652 PSRN:  40.83304682115543\nLoss:  27.51363298439521 PSRN:  40.2560647799087\nLoss:  20.591260281974 PSRN:  39.775907522954775\nLoss:  20.29778313018444 PSRN:  39.44999617625805\nLoss:  23.664319132398465 PSRN:  39.877325931022625\nLoss:  20.445048300260872 PSRN:  40.45783127015176\nLoss:  24.145392935299274 PSRN:  39.78050893144135\nLoss:  13.92838827718412 PSRN:  40.7617877218415\nLoss:  24.71841418861655 PSRN:  40.55017725959523\nLoss:  25.059928172283335 PSRN:  39.888868434069515\nLoss:  21.702534414210707 PSRN:  39.925734438088384\nLoss:  24.79919353527449 PSRN:  39.41836149706564\nLoss:  18.193405398660254 PSRN:  40.335929210762636\nLoss:  22.494443758403985 PSRN:  39.89356050008188\nLoss:  19.748417658131498 PSRN:  40.14727205389662\nLoss:  21.563858652847824 PSRN:  40.535990672669016\nLoss:  18.708286933869708 PSRN:  39.82234546379375\nLoss:  19.390719429665317 PSRN:  39.948882538744485\nLoss:  29.93325909419153 PSRN:  39.510048123587616\nLoss:  13.711309200802088 PSRN:  40.199710397662905\nLoss:  23.643180835073778 PSRN:  40.059611213962405\nLoss:  23.2379000772445 PSRN:  39.518834710320576\nLoss:  22.538855339169288 PSRN:  40.154769978766794\nLoss:  27.83882181415011 PSRN:  39.67884192071348\nLoss:  19.519221295943137 PSRN:  40.2543724251327\nLoss:  17.52141546793523 PSRN:  39.82946331361991\nLoss:  20.074859899884732 PSRN:  40.263843316850235\nLoss:  20.12461179749811 PSRN:  40.24014635998817\nLoss:  21.6794833886788 PSRN:  40.283470946337346\nLoss:  20.518284528683193 PSRN:  40.43687929388638\nLoss:  28.21347195933177 PSRN:  39.75729910779315\nLoss:  21.72556098240043 PSRN:  40.029625551404706\nLoss:  26.888659319497503 PSRN:  39.25028789752565\nLoss:  29.206163733020468 PSRN:  39.49755049743233\nLoss:  26.019223662515376 PSRN:  40.00167683898191\nLoss:  27.03701166919155 PSRN:  39.87266950642106\nLoss:  23.558437978779494 PSRN:  39.22200501122625\nLoss:  25.45584412271571 PSRN:  39.444525480982506\nLoss:  28.879058156387302 PSRN:  39.139616426892864\nLoss:  25.317977802344327 PSRN:  39.08872091422193\nLoss:  20.149441679609886 PSRN:  39.818082301364164\nLoss:  20.049937655763422 PSRN:  39.77882661665114\nLoss:  22.627416997969522 PSRN:  39.52842148731063\nLoss:  22.80350850198276 PSRN:  39.887900834319595\nLoss:  17.320508075688775 PSRN:  39.81764660593787\nLoss:  21.354156504062622 PSRN:  40.31982468669057\nLoss:  19.595917942265423 PSRN:  41.33852835084454\nLoss:  27.54995462791182 PSRN:  40.125276067767466\nLoss:  18.0 PSRN:  40.27144505426331\nLoss:  24.859605789312106 PSRN:  39.796771495375694\nLoss:  17.05872210923198 PSRN:  40.48734876793457\nLoss:  20.688160865577203 PSRN:  39.7949791758879\nLoss:  25.748786379167466 PSRN:  40.006230490236234\nLoss:  17.776388834631177 PSRN:  39.91995517573434\nLoss:  13.228756555322953 PSRN:  40.00175245333571\nLoss:  23.0 PSRN:  39.61757164497332\nLoss:  22.67156809750927 PSRN:  39.73009495899674\nLoss:  15.905973720586866 PSRN:  40.4748281234383\nLoss:  29.765752132274432 PSRN:  39.87854387772276\nLoss:  26.90724809414742 PSRN:  39.82519968788745\nLoss:  25.553864678361276 PSRN:  39.99422212300954\nLoss:  21.93171219946131 PSRN:  39.49870882376445\nLoss:  26.570660511172846 PSRN:  40.18521173151309\nLoss:  14.491376746189438 PSRN:  39.554011998852914\nLoss:  24.20743687382041 PSRN:  40.27662467043258\nLoss:  18.384776310850235 PSRN:  41.220969682773834\nLoss:  21.330729007701542 PSRN:  39.83055764441045\nLoss:  28.6705423736629 PSRN:  40.15228007990729\nLoss:  13.527749258468683 PSRN:  40.778820236026064\nLoss:  29.189039038652847 PSRN:  40.15370345861855\nLoss:  21.142374511865974 PSRN:  39.68989184090104\nLoss:  23.430749027719962 PSRN:  40.12362954041376\nLoss:  22.315913604421397 PSRN:  39.44699675970058\nLoss:  23.958297101421877 PSRN:  39.69303299247183\nLoss:  19.924858845171276 PSRN:  39.7726043271389\nLoss:  28.035691537752374 PSRN:  39.27287545773655\nLoss:  20.29778313018444 PSRN:  39.46369113031754\nLoss:  15.620499351813308 PSRN:  39.64836462586538\nLoss:  20.493901531919196 PSRN:  39.88257999260864\nLoss:  24.61706725018234 PSRN:  39.055030581476224\nLoss:  22.93468988235943 PSRN:  40.240281891765505\nLoss:  14.142135623730951 PSRN:  39.74327145332077\nLoss:  16.703293088490067 PSRN:  40.74940822313971\nLoss:  15.905973720586866 PSRN:  40.45135017869726\nLoss:  16.792855623746664 PSRN:  40.41033219868444\nLoss:  28.600699292150182 PSRN:  39.68725079241475\nLoss:  19.493588689617926 PSRN:  39.72902724485167\nLoss:  21.563858652847824 PSRN:  39.489492381086706\nLoss:  18.384776310850235 PSRN:  39.338096721234294\nLoss:  18.35755975068582 PSRN:  40.22996843953642\nLoss:  24.474476501040833 PSRN:  39.64952080040455\nLoss:  29.49576240750525 PSRN:  40.00050540949697\nLoss:  18.76166303929372 PSRN:  39.56109912646896\nLoss:  27.730849247724095 PSRN:  39.76184867419502\nLoss:  28.42534080710379 PSRN:  40.31330791557022\nLoss:  25.96150997149434 PSRN:  40.03153279230065\nLoss:  22.15851980616034 PSRN:  40.59594459274291\nLoss:  26.627053911388696 PSRN:  39.695255556596464\nLoss:  24.63736998950984 PSRN:  40.08853363626406\nLoss:  19.157244060668017 PSRN:  40.31920309804124\nLoss:  27.129319932501073 PSRN:  40.20130596827366\nLoss:  22.427661492005804 PSRN:  41.13689647624029\nLoss:  27.258026340878022 PSRN:  40.10788363722489\nLoss:  25.632011235952593 PSRN:  39.587227905827675\nLoss:  27.055498516937366 PSRN:  39.77373117872221\nLoss:  22.090722034374522 PSRN:  41.072684573100645\nLoss:  21.0 PSRN:  39.58328420222733\nLoss:  25.573423705088842 PSRN:  38.89050558988916\nLoss:  24.331050121192877 PSRN:  39.51418403447795\nLoss:  24.269322199023193 PSRN:  39.66437160972929\nLoss:  26.720778431774775 PSRN:  39.032746630642436\nLoss:  13.820274961085254 PSRN:  41.110370297362515\nLoss:  20.904544960366874 PSRN:  39.66695551556462\nLoss:  25.37715508089904 PSRN:  40.261485833492046\nLoss:  26.70205984563738 PSRN:  39.82405451095793\nLoss:  21.047565179849187 PSRN:  39.693334491643675\nLoss:  18.24828759089466 PSRN:  39.74169872453787\nLoss:  17.146428199482248 PSRN:  40.39521849375373\nLoss:  23.958297101421877 PSRN:  39.61259347019871\nLoss:  19.544820285692065 PSRN:  40.16126626951149\nLoss:  23.706539182259394 PSRN:  39.61972090163527\nLoss:  23.515952032609693 PSRN:  40.01375698222332\nLoss:  28.319604517012593 PSRN:  40.1220377916891\nLoss:  17.4928556845359 PSRN:  39.54849527147433\nLoss:  18.33030277982336 PSRN:  40.424850547658735\nLoss:  26.28687885618983 PSRN:  39.991072443894765\nLoss:  23.021728866442675 PSRN:  40.76106210990141\nLoss:  24.186773244895647 PSRN:  39.87534161604402\nLoss:  25.278449319529077 PSRN:  39.947834346226614\nLoss:  28.705400188814647 PSRN:  39.842398116043626\nLoss:  15.652475842498529 PSRN:  40.83838360066751\nLoss:  23.748684174075834 PSRN:  39.84023650063742\nLoss:  24.839484696748443 PSRN:  38.81398310009878\nLoss:  17.378147196982766 PSRN:  39.463471958969095\nLoss:  27.586228448267445 PSRN:  39.13833968519421\nLoss:  25.92296279363144 PSRN:  38.92110608216925\nLoss:  24.145392935299274 PSRN:  39.74392072018099\nLoss:  24.919871588754223 PSRN:  39.8879951844329\nLoss:  20.12461179749811 PSRN:  39.69610198134891\nLoss:  22.090722034374522 PSRN:  39.703572553807206\nLoss:  23.57965224510319 PSRN:  39.72613185301473\nLoss:  13.19090595827292 PSRN:  39.48195493803007\nLoss:  14.966629547095765 PSRN:  40.04236949\nLoss:  25.079872407968907 PSRN:  40.22415014589507\nLoss:  28.982753492378876 PSRN:  39.42133450533221\nLoss:  23.323807579381203 PSRN:  40.19957701530103\nLoss:  25.69046515733026 PSRN:  39.447440931624264\nLoss:  27.712812921102035 PSRN:  39.558372588437585\nLoss:  21.37755832643195 PSRN:  39.564217596609886\nLoss:  26.70205984563738 PSRN:  39.90214937657055\nLoss:  15.684387141358123 PSRN:  41.10437669382214\nLoss:  21.307275752662516 PSRN:  40.373894580165455\nLoss:  20.024984394500787 PSRN:  40.11563650386751\nLoss:  23.53720459187964 PSRN:  39.99685468364502\nLoss:  20.54263858417414 PSRN:  40.14914114693688\nLoss:  22.494443758403985 PSRN:  39.6801514057089\nLoss:  28.071337695236398 PSRN:  40.307171875953934\nLoss:  23.280893453645632 PSRN:  39.94558859168307\nLoss:  16.30950643030009 PSRN:  39.20580522588399\nLoss:  20.493901531919196 PSRN:  39.53734690032422\nLoss:  16.673332000533065 PSRN:  39.78422460257824\nLoss:  21.587033144922902 PSRN:  39.34338598203835\nLoss:  25.15949125081825 PSRN:  39.79274548401633\nLoss:  27.784887978899608 PSRN:  40.00525339477531\nLoss:  18.76166303929372 PSRN:  39.43447993671494\nLoss:  23.40939982143925 PSRN:  39.328865264764076\nLoss:  27.76688675382964 PSRN:  39.51572813567132\nLoss:  25.298221281347036 PSRN:  39.66035097791679\nLoss:  27.676705006196094 PSRN:  39.88196999710369\nLoss:  18.920887928424502 PSRN:  40.25821382279739\nLoss:  14.594519519326424 PSRN:  40.697786088948945\nLoss:  29.376861643136763 PSRN:  39.757345688171\nLoss:  24.06241883103193 PSRN:  39.772190899126024\nLoss:  15.491933384829668 PSRN:  39.95099563798468\nLoss:  29.223278392404914 PSRN:  39.30597525457275\nLoss:  22.825424421026653 PSRN:  39.480270591000625\nLoss:  27.018512172212592 PSRN:  39.60785920255998\nLoss:  20.952326839756964 PSRN:  39.98200751304623\nLoss:  27.586228448267445 PSRN:  39.698796753265945\nLoss:  28.319604517012593 PSRN:  39.531553931609935\nLoss:  17.46424919657298 PSRN:  40.12858236856944\nLoss:  23.45207879911715 PSRN:  39.558048863394596\nLoss:  28.74021572639983 PSRN:  40.191493692701826\nLoss:  27.202941017470888 PSRN:  39.98218512479908\nLoss:  16.46207763315433 PSRN:  40.572692008530886\nLoss:  27.23967694375247 PSRN:  39.2541163428302\nLoss:  13.856406460551018 PSRN:  40.36406730351112\nLoss:  19.570385790780925 PSRN:  39.77704652675143\nLoss:  23.53720459187964 PSRN:  40.39952361601895\nLoss:  22.781571499789035 PSRN:  39.908437965782404\nLoss:  22.338307903688676 PSRN:  39.76716199578071\nLoss:  17.029386365926403 PSRN:  39.702372560134556\nLoss:  25.65151067676132 PSRN:  39.86527718379827\nLoss:  18.16590212458495 PSRN:  40.319672023589376\nLoss:  29.631064780058107 PSRN:  39.81992818024133\nLoss:  16.06237840420901 PSRN:  39.1364611265542\nLoss:  24.08318915758459 PSRN:  39.24378905976118\nLoss:  25.903667693977237 PSRN:  39.8691303998089\nLoss:  22.40535650240808 PSRN:  39.58626808824541\nLoss:  25.69046515733026 PSRN:  39.63606995521091\nLoss:  20.46948949045872 PSRN:  40.22414209767403\nLoss:  22.693611435820433 PSRN:  39.72113207801419\nLoss:  25.15949125081825 PSRN:  39.936120879733686\nLoss:  20.493901531919196 PSRN:  39.88114275527078\nLoss:  23.173260452512935 PSRN:  39.65919819830503\nLoss:  26.5329983228432 PSRN:  40.01552686074713\nLoss:  24.020824298928627 PSRN:  39.680441754652584\nLoss:  29.597297173897484 PSRN:  39.50911431266891\nLoss:  22.891046284519195 PSRN:  39.82947147924646\nLoss:  23.748684174075834 PSRN:  39.58907941629065\nLoss:  26.267851073127396 PSRN:  39.49303816588957\nLoss:  25.13961017995307 PSRN:  39.612997418384225\nLoss:  15.329709716755891 PSRN:  40.5305212898278\nLoss:  23.558437978779494 PSRN:  40.27767020765981\nLoss:  22.271057451320086 PSRN:  40.51315448655957\nLoss:  17.832554500127006 PSRN:  41.1347244276797\nLoss:  28.284271247461902 PSRN:  39.15503239142805\nLoss:  28.39013913315678 PSRN:  40.06075649692205\nLoss:  22.427661492005804 PSRN:  40.17529069215716\nLoss:  26.70205984563738 PSRN:  39.80890529205442\nLoss:  23.065125189341593 PSRN:  39.709130316434496\nLoss:  28.284271247461902 PSRN:  39.893282064855555\nLoss:  17.88854381999832 PSRN:  40.023263309030746\nLoss:  23.83275057562597 PSRN:  39.904845507797496\nLoss:  17.0 PSRN:  39.13796502264419\nLoss:  25.612496949731394 PSRN:  40.01520640557763\nLoss:  26.94438717061496 PSRN:  40.05736286020096\nLoss:  25.84569596664017 PSRN:  39.50141253486989\nLoss:  25.03996805109783 PSRN:  40.157760623617705\nLoss:  26.5329983228432 PSRN:  38.97633313893192\nLoss:  21.656407827707714 PSRN:  40.20057570406795\nLoss:  22.891046284519195 PSRN:  40.54785280228194\nLoss:  23.853720883753127 PSRN:  39.42259238609546\nLoss:  22.315913604421397 PSRN:  39.136444419522654\nLoss:  27.386127875258307 PSRN:  40.03112048362266\nLoss:  23.790754506740637 PSRN:  40.2117655010417\nLoss:  18.0 PSRN:  39.52343938417386\nLoss:  25.13961017995307 PSRN:  39.40821614476456\nLoss:  17.832554500127006 PSRN:  40.64395233143194\nLoss:  24.43358344574123 PSRN:  39.32940303978656\nLoss:  26.570660511172846 PSRN:  39.32098457033672\nLoss:  21.93171219946131 PSRN:  39.95481643371113\nLoss:  29.274562336608895 PSRN:  39.43399012220522\nLoss:  21.330729007701542 PSRN:  39.80661731560645\nLoss:  28.653097563788805 PSRN:  39.71359707737293\nLoss:  28.0 PSRN:  40.1162121812185\nLoss:  25.39685019840059 PSRN:  39.818481387865134\nLoss:  22.135943621178654 PSRN:  39.969628126440895\nLoss:  15.716233645501712 PSRN:  39.724640243434884\nLoss:  28.5657137141714 PSRN:  39.2909548759603\nLoss:  26.324893162176366 PSRN:  39.41445532021614\nLoss:  26.70205984563738 PSRN:  39.578286581312696\nLoss:  27.40437921208944 PSRN:  39.75536405431973\nLoss:  23.727621035409346 PSRN:  39.752481540663204\nLoss:  24.859605789312106 PSRN:  39.355384184593014\nLoss:  27.386127875258307 PSRN:  39.489544481804614\nLoss:  24.758836806279895 PSRN:  40.04104128616877\nLoss:  29.832867780352597 PSRN:  39.64544735862313\nLoss:  23.643180835073778 PSRN:  39.785625266131596\nLoss:  26.229754097208 PSRN:  39.751031377584354\nLoss:  24.269322199023193 PSRN:  40.23286438321621\nLoss:  14.422205101855956 PSRN:  39.69551603831674\nLoss:  23.727621035409346 PSRN:  39.637042406244724\nLoss:  17.11724276862369 PSRN:  39.640707652059405\nLoss:  19.209372712298546 PSRN:  39.48299074013529\nLoss:  17.72004514666935 PSRN:  40.13692619886225\nLoss:  20.346989949375804 PSRN:  40.12634874379739\nLoss:  29.24038303442689 PSRN:  40.0879772154797\nLoss:  27.055498516937366 PSRN:  39.79219088363565\nLoss:  16.0312195418814 PSRN:  39.89824187846589\nLoss:  28.5657137141714 PSRN:  40.02058056435553\nLoss:  18.947295321496416 PSRN:  39.9055833732607\nLoss:  19.157244060668017 PSRN:  39.4507355028069\nLoss:  23.853720883753127 PSRN:  39.517862526969914\nLoss:  20.46948949045872 PSRN:  39.412839230844014\nLoss:  22.759613353482084 PSRN:  39.656638519913564\nLoss:  26.570660511172846 PSRN:  40.183057753814786\nLoss:  29.223278392404914 PSRN:  39.71697662194677\nLoss:  23.53720459187964 PSRN:  40.00349789656373\nLoss:  25.25866188063018 PSRN:  39.536453762117866\nLoss:  23.2379000772445 PSRN:  39.63845968461464\nLoss:  17.88854381999832 PSRN:  40.90982368907868\nLoss:  27.53179979587241 PSRN:  40.08441503860206\nLoss:  24.08318915758459 PSRN:  40.4545352945195\nLoss:  24.351591323771842 PSRN:  39.619414355561304\nLoss:  27.622454633866266 PSRN:  39.25296924247112\nLoss:  16.3707055437449 PSRN:  40.47177956779663\nLoss:  22.38302928559939 PSRN:  39.27305360982092\nLoss:  18.2208671582886 PSRN:  40.95473870945842\nLoss:  21.908902300206645 PSRN:  40.32021413902734\nLoss:  27.294688127912362 PSRN:  40.12142553440924\nLoss:  15.874507866387544 PSRN:  40.91136123492112\nLoss:  17.663521732655695 PSRN:  39.30099666856245\nLoss:  25.514701644346147 PSRN:  39.7788346876231\nLoss:  26.870057685088806 PSRN:  40.658753570376035\nLoss:  22.516660498395403 PSRN:  39.686168276491706\nLoss:  19.05255888325765 PSRN:  39.734441140858024\nLoss:  17.86057109949175 PSRN:  39.92698608096218\nLoss:  25.592967784139454 PSRN:  39.8320648422621\nLoss:  27.129319932501073 PSRN:  39.40717060844426\nLoss:  25.337718918639855 PSRN:  39.58060847584572\nLoss:  29.34280150224242 PSRN:  39.87009217762979\nLoss:  24.979991993593593 PSRN:  39.93453447545655\nLoss:  22.315913604421397 PSRN:  39.586939861057914\nLoss:  26.1725046566048 PSRN:  39.15494640165062\nLoss:  26.057628441590765 PSRN:  39.213745916418986\nLoss:  18.303005217723125 PSRN:  40.394475347582485\nLoss:  22.24859546128699 PSRN:  39.090986727141804\nLoss:  23.874672772626646 PSRN:  39.324021742161136\nLoss:  26.28687885618983 PSRN:  39.141306092016535\nLoss:  27.85677655436824 PSRN:  40.001396482643244\nLoss:  19.6468827043885 PSRN:  39.958251970036834\nLoss:  21.42428528562855 PSRN:  39.79339895081946\nLoss:  21.95449840010015 PSRN:  40.17085140704929\nLoss:  23.388031127053 PSRN:  39.51127505122956\nLoss:  19.924858845171276 PSRN:  39.9517909399965\nLoss:  22.44994432064365 PSRN:  39.959286694739504\nLoss:  18.110770276274835 PSRN:  39.20695903760571\nLoss:  16.673332000533065 PSRN:  39.64405283626591\nLoss:  23.727621035409346 PSRN:  39.455018289795476\nLoss:  28.635642126552707 PSRN:  39.70695621131143\nLoss:  23.515952032609693 PSRN:  40.423461876089505\nLoss:  24.63736998950984 PSRN:  39.956068920946265\nLoss:  21.071307505705477 PSRN:  40.28482191004802\nLoss:  29.154759474226502 PSRN:  39.72690456628588\nLoss:  22.271057451320086 PSRN:  39.54567795774435\nLoss:  26.570660511172846 PSRN:  39.40905216210987\nLoss:  28.478061731796284 PSRN:  39.87542826644304\nLoss:  29.376861643136763 PSRN:  39.90531164470697\nLoss:  25.92296279363144 PSRN:  40.370511835088976\nLoss:  24.819347291981714 PSRN:  39.06271308870193\nLoss:  29.88310559496787 PSRN:  39.25757878988335\nLoss:  24.20743687382041 PSRN:  40.041590868055515\nLoss:  14.628738838327793 PSRN:  41.58961044486952\nLoss:  22.22611077089287 PSRN:  40.292922901541964\nLoss:  18.867962264113206 PSRN:  39.95059678209976\nLoss:  19.28730152198591 PSRN:  39.74895242551578\nLoss:  26.851443164195103 PSRN:  39.662589877790005\nLoss:  22.759613353482084 PSRN:  40.32466240607265\nLoss:  18.947295321496416 PSRN:  39.8687002647818\nLoss:  29.0516780926679 PSRN:  39.723627261504234\nLoss:  25.337718918639855 PSRN:  39.076801150712264\nLoss:  24.474476501040833 PSRN:  40.4818757365019\nLoss:  24.758836806279895 PSRN:  39.79963490698174\nLoss:  26.49528259898354 PSRN:  39.68632945154688\nLoss:  25.768197453450252 PSRN:  39.70211642465222\nLoss:  22.494443758403985 PSRN:  40.328864223190166\nLoss:  22.781571499789035 PSRN:  39.72453981138625\nLoss:  29.46183972531247 PSRN:  39.429479269558996\nLoss:  19.1049731745428 PSRN:  41.5031811133688\nLoss:  15.652475842498529 PSRN:  39.51096999417053\nLoss:  23.345235059857504 PSRN:  39.511028423838695\nLoss:  26.814175355583846 PSRN:  39.982746764044606\nLoss:  23.173260452512935 PSRN:  39.39676454376167\nLoss:  15.684387141358123 PSRN:  39.560197253316886\nLoss:  26.1725046566048 PSRN:  39.823383368826946\nLoss:  11.489125293076057 PSRN:  39.974394800684166\nLoss:  20.049937655763422 PSRN:  39.90900678087674\nLoss:  16.1245154965971 PSRN:  40.075753959747416\nLoss:  13.96424004376894 PSRN:  40.465574478010524\nLoss:  24.79919353527449 PSRN:  39.56365839559313\nLoss:  26.664583251946766 PSRN:  39.4155835259505\nLoss:  28.21347195933177 PSRN:  39.611034737829144\nLoss:  22.93468988235943 PSRN:  39.83081248339982\nLoss:  17.435595774162696 PSRN:  39.37080431245868\nLoss:  18.708286933869708 PSRN:  39.84653028571319\nLoss:  24.392621835300936 PSRN:  39.92274581533282\nLoss:  29.46183972531247 PSRN:  38.74583970113037\nLoss:  18.24828759089466 PSRN:  40.08665751792464\nLoss:  19.364916731037084 PSRN:  40.19763809842175\nLoss:  23.958297101421877 PSRN:  40.760912347356296\nLoss:  20.97617696340303 PSRN:  40.00213989135297\nLoss:  11.916375287812984 PSRN:  40.02941264239962\nLoss:  27.54995462791182 PSRN:  39.749412547426516\nLoss:  14.628738838327793 PSRN:  40.65635349082838\nLoss:  24.576411454889016 PSRN:  40.235274513474984\nLoss:  29.13760456866693 PSRN:  39.288813033054794\nLoss:  20.0 PSRN:  39.60967606040066\nLoss:  26.60826939130014 PSRN:  40.19226592863645\nLoss:  25.573423705088842 PSRN:  40.03387650981705\nLoss:  13.892443989449804 PSRN:  39.37167725024273\nLoss:  26.94438717061496 PSRN:  39.1055484757574\nLoss:  21.95449840010015 PSRN:  39.730062237399835\nLoss:  21.42428528562855 PSRN:  39.40283184096613\nLoss:  29.427877939124322 PSRN:  39.0538993548942\nLoss:  19.05255888325765 PSRN:  39.57862337947151\nLoss:  22.181073012818835 PSRN:  39.978092596168096\nLoss:  17.832554500127006 PSRN:  40.27947854009825\nLoss:  22.02271554554524 PSRN:  39.92387892978758\nLoss:  22.538855339169288 PSRN:  40.52438412224741\nLoss:  14.798648586948742 PSRN:  40.58356003859497\nLoss:  24.020824298928627 PSRN:  39.88477767854643\nLoss:  18.894443627691185 PSRN:  39.47698818023848\nLoss:  21.307275752662516 PSRN:  39.95894764802759\nLoss:  26.870057685088806 PSRN:  39.6900982281131\nLoss:  21.748563170931547 PSRN:  40.25006840425576\nLoss:  26.0 PSRN:  38.991920575611886\nLoss:  25.96150997149434 PSRN:  39.58931969933099\nLoss:  21.071307505705477 PSRN:  39.93457379387544\nLoss:  22.090722034374522 PSRN:  40.30732227719697\nLoss:  18.65475810617763 PSRN:  40.222147493058046\nLoss:  16.881943016134134 PSRN:  40.05086880018957\nLoss:  28.982753492378876 PSRN:  39.87230664210868\nLoss:  29.832867780352597 PSRN:  39.85705009995607\nLoss:  17.663521732655695 PSRN:  40.47488970376969\nLoss:  18.76166303929372 PSRN:  40.12023009105559\nLoss:  26.981475126464083 PSRN:  39.301196946091\nLoss:  22.293496809607955 PSRN:  40.153428951261645\nLoss:  15.620499351813308 PSRN:  40.18688177717236\nLoss:  25.079872407968907 PSRN:  39.4133526339139\nLoss:  23.280893453645632 PSRN:  39.62024301341221\nLoss:  14.317821063276353 PSRN:  40.187793304391576\nLoss:  26.210684844162312 PSRN:  39.59966833897874\nLoss:  21.118712081942874 PSRN:  39.95105358009724\nLoss:  15.231546211727817 PSRN:  41.56034273174509\nLoss:  20.149441679609886 PSRN:  40.21980895569217\nLoss:  22.293496809607955 PSRN:  40.77420463900236\nLoss:  18.65475810617763 PSRN:  39.962394874660944\nLoss:  16.06237840420901 PSRN:  40.376588040716044\nLoss:  18.788294228055936 PSRN:  40.14845299514913\nLoss:  26.68332812825267 PSRN:  39.16132054944406\nLoss:  25.15949125081825 PSRN:  39.8539851754787\nLoss:  23.811761799581316 PSRN:  39.69141823115412\nLoss:  28.0178514522438 PSRN:  40.09362620368984\nLoss:  22.271057451320086 PSRN:  39.9504825901073\nLoss:  23.259406699226016 PSRN:  40.00938267477697\nLoss:  21.748563170931547 PSRN:  39.68705323288504\nLoss:  22.93468988235943 PSRN:  39.827197945318645\nLoss:  20.83266665599966 PSRN:  40.073843616570116\nLoss:  27.018512172212592 PSRN:  39.649407989337966\nLoss:  24.145392935299274 PSRN:  39.62217404948896\nLoss:  13.74772708486752 PSRN:  40.438057136141055\nLoss:  23.021728866442675 PSRN:  39.40615791566457\nLoss:  28.460498941515414 PSRN:  39.72101739139796\nLoss:  22.338307903688676 PSRN:  40.79779206536698\nLoss:  22.338307903688676 PSRN:  39.858726002661214\nLoss:  13.30413469565007 PSRN:  41.19583877624969\nLoss:  21.633307652783937 PSRN:  40.794916168859395\nLoss:  23.473389188611005 PSRN:  39.813724871981336\nLoss:  22.715633383201094 PSRN:  39.898962857750334\nLoss:  28.61817604250837 PSRN:  39.51710104666801\nLoss:  19.924858845171276 PSRN:  40.41446453699139\nLoss:  17.635192088548397 PSRN:  40.40726140720211\nLoss:  17.916472867168917 PSRN:  40.0554597277163\nLoss:  23.558437978779494 PSRN:  40.25945056762637\nLoss:  25.059928172283335 PSRN:  39.883903597256406\nLoss:  19.949937343260004 PSRN:  40.102194348433464\nLoss:  25.45584412271571 PSRN:  39.97396002250062\nLoss:  18.81488772222678 PSRN:  39.81408450164899\nLoss:  14.52583904633395 PSRN:  39.77383033631178\nLoss:  21.748563170931547 PSRN:  40.05914113259916\nLoss:  18.2208671582886 PSRN:  40.36633145780003\nLoss:  23.727621035409346 PSRN:  39.83391994457545\nLoss:  19.87460691435179 PSRN:  39.39583777705127\nLoss:  19.77371993328519 PSRN:  39.845203269287445\nLoss:  17.26267650163207 PSRN:  40.29740604121437\nLoss:  15.84297951775486 PSRN:  40.41020432235348\nLoss:  26.13426869074396 PSRN:  39.469712909480435\nLoss:  27.202941017470888 PSRN:  40.07561655288476\nLoss:  27.16615541441225 PSRN:  40.23720250482469\nLoss:  25.592967784139454 PSRN:  39.80072904704359\nLoss:  28.61817604250837 PSRN:  39.01378705512498\nLoss:  17.0 PSRN:  40.49784790351778\nLoss:  28.513154858766505 PSRN:  39.188543892881846\nLoss:  20.445048300260872 PSRN:  39.75242217713848\nLoss:  25.019992006393608 PSRN:  39.54176720233096\nLoss:  19.183326093250876 PSRN:  40.41451218686863\nLoss:  22.427661492005804 PSRN:  39.726450809838674\nLoss:  29.916550603303182 PSRN:  39.19980200635887\nLoss:  29.13760456866693 PSRN:  39.90230216243428\nLoss:  28.635642126552707 PSRN:  39.69213178509924\nLoss:  29.5296461204668 PSRN:  39.32710322650438\nLoss:  25.45584412271571 PSRN:  40.104844478336794\nLoss:  11.661903789690601 PSRN:  40.86747308678676\nLoss:  21.118712081942874 PSRN:  39.699486953518154\nLoss:  23.065125189341593 PSRN:  39.86142820606247\nLoss:  28.053520278211074 PSRN:  39.245010821517624\nLoss:  19.157244060668017 PSRN:  40.348034034071375\nLoss:  18.734993995195193 PSRN:  39.629190911194954\nLoss:  21.0 PSRN:  39.419553874031166\nLoss:  24.020824298928627 PSRN:  40.252490803844495\nLoss:  27.386127875258307 PSRN:  40.97893752930939\nLoss:  23.93741840717165 PSRN:  39.5328472000415\nLoss:  29.274562336608895 PSRN:  39.956181578443044\nLoss:  20.591260281974 PSRN:  39.906816752629474\nLoss:  27.820855486487112 PSRN:  39.93813986481816\nLoss:  26.229754097208 PSRN:  40.45242544787831\nLoss:  26.324893162176366 PSRN:  39.873119830203116\nLoss:  23.065125189341593 PSRN:  39.3381725597068\nLoss:  28.844410203711913 PSRN:  40.24647778478958\nLoss:  20.396078054371138 PSRN:  39.736818488643316\nLoss:  22.9128784747792 PSRN:  40.3395606061273\nLoss:  20.83266665599966 PSRN:  40.39993518059067\nLoss:  16.431676725154983 PSRN:  40.30092434595355\nLoss:  28.495613697550013 PSRN:  39.74226292049877\nLoss:  28.284271247461902 PSRN:  40.558417318346415\nLoss:  17.435595774162696 PSRN:  40.45479839016565\nLoss:  21.95449840010015 PSRN:  40.29600297182883\nLoss:  20.83266665599966 PSRN:  39.79115878681307\nLoss:  20.445048300260872 PSRN:  39.977080415026784\nLoss:  19.44222209522358 PSRN:  39.586179298464685\nLoss:  16.46207763315433 PSRN:  40.29530115257291\nLoss:  28.26658805020514 PSRN:  40.23235366831237\nLoss:  24.576411454889016 PSRN:  40.564821388803054\nLoss:  28.35489375751565 PSRN:  39.210604294639744\nLoss:  20.396078054371138 PSRN:  39.53570962056184\nLoss:  22.781571499789035 PSRN:  40.15444700318665\nLoss:  28.160255680657446 PSRN:  39.8259282232345\nLoss:  22.22611077089287 PSRN:  40.20309167455107\nLoss:  21.840329667841555 PSRN:  39.69994424187781\nLoss:  25.39685019840059 PSRN:  39.17644994196029\nLoss:  27.440845468024488 PSRN:  39.93487496803877\nLoss:  28.74021572639983 PSRN:  39.47743844223079\nLoss:  28.827070610799147 PSRN:  39.004483738882634\nLoss:  17.635192088548397 PSRN:  40.20914825527363\nLoss:  21.563858652847824 PSRN:  40.042800021533736\nLoss:  25.748786379167466 PSRN:  39.90767966152742\nLoss:  26.28687885618983 PSRN:  39.060778702577764\nLoss:  29.563490998188964 PSRN:  39.35608707492422\nLoss:  20.049937655763422 PSRN:  40.01398701712722\nLoss:  22.090722034374522 PSRN:  40.153739532990606\nLoss:  21.42428528562855 PSRN:  40.42720565579032\nLoss:  22.978250586152114 PSRN:  39.689800907119576\nLoss:  17.233687939614086 PSRN:  40.6564335050422\nLoss:  20.8806130178211 PSRN:  40.01260188003897\nLoss:  14.866068747318506 PSRN:  39.55532883874189\nLoss:  24.73863375370596 PSRN:  39.28756519349017\nLoss:  24.454038521274967 PSRN:  39.9374048188101\nLoss:  28.75760768909681 PSRN:  39.68763803516424\nLoss:  28.284271247461902 PSRN:  40.25363768554955\nLoss:  13.638181696985855 PSRN:  40.804485716242944\nLoss:  17.663521732655695 PSRN:  39.97353457297886\nLoss:  18.65475810617763 PSRN:  39.747346388949055\nLoss:  26.0 PSRN:  40.14703309294721\nLoss:  20.83266665599966 PSRN:  39.6807557951982\nLoss:  21.307275752662516 PSRN:  40.16654461053562\nLoss:  18.788294228055936 PSRN:  40.300249032584375\nLoss:  29.512709126747414 PSRN:  39.33442597284434\nLoss:  21.18962010041709 PSRN:  40.32677058931678\nLoss:  16.06237840420901 PSRN:  39.87724419632229\nLoss:  27.16615541441225 PSRN:  40.22282596707778\nLoss:  21.047565179849187 PSRN:  40.76971561381582\nLoss:  23.345235059857504 PSRN:  40.02961614556564\nLoss:  11.313708498984761 PSRN:  40.12095482751765\nLoss:  14.933184523068078 PSRN:  41.34728105204462\nLoss:  26.38181191654584 PSRN:  39.86558264754533\nLoss:  20.445048300260872 PSRN:  39.47051724650201\nLoss:  16.30950643030009 PSRN:  39.76398046190412\nLoss:  18.708286933869708 PSRN:  39.33028953151944\nLoss:  23.68543856465402 PSRN:  39.92673973180527\nLoss:  23.280893453645632 PSRN:  39.46996697367745\nLoss:  21.166010488516726 PSRN:  40.18855512612571\nLoss:  23.93741840717165 PSRN:  39.442601608167074\nLoss:  28.583211855912904 PSRN:  39.81646434065672\nLoss:  27.586228448267445 PSRN:  39.73930910707985\nLoss:  18.734993995195193 PSRN:  40.30059304702835\nLoss:  21.37755832643195 PSRN:  39.56952283279565\nLoss:  28.319604517012593 PSRN:  39.959803308113344\nLoss:  17.635192088548397 PSRN:  40.21191976807948\nLoss:  28.600699292150182 PSRN:  39.56955744340945\nLoss:  29.748949561287034 PSRN:  40.275520566732936\nLoss:  27.202941017470888 PSRN:  39.530411966380335\nLoss:  24.698178070456937 PSRN:  40.31430936786152\nLoss:  15.937377450509228 PSRN:  39.72022422520979\nLoss:  20.952326839756964 PSRN:  39.597559944719606\nLoss:  19.0 PSRN:  40.78943286299215\nLoss:  16.61324772583615 PSRN:  40.08722763352455\nLoss:  26.115129714401192 PSRN:  39.678420760667244\nLoss:  18.193405398660254 PSRN:  40.723347906227815\nLoss:  15.394804318340652 PSRN:  39.29126434059587\nLoss:  15.7797338380595 PSRN:  40.61589470007156\nLoss:  20.639767440550294 PSRN:  39.57807696269394\nLoss:  21.95449840010015 PSRN:  39.925053241732414\nLoss:  20.493901531919196 PSRN:  40.70378793517563\nLoss:  22.67156809750927 PSRN:  39.530953943146976\nLoss:  27.073972741361768 PSRN:  39.41934360559573\nLoss:  17.69180601295413 PSRN:  40.25877806647455\nLoss:  18.973665961010276 PSRN:  39.699769880151315\nLoss:  14.89966442575134 PSRN:  40.788421551966664\nLoss:  17.175564037317667 PSRN:  40.53050785530432\nLoss:  16.64331697709324 PSRN:  39.598255144881286\nLoss:  21.77154105707724 PSRN:  39.90800308870622\nLoss:  24.06241883103193 PSRN:  39.52299878543899\nLoss:  29.748949561287034 PSRN:  39.79868211851655\nLoss:  12.206555615733702 PSRN:  40.30814729787001\nLoss:  27.349588662354687 PSRN:  39.578026100877935\nLoss:  26.551836094703507 PSRN:  39.36234634908614\nLoss:  26.962937525425527 PSRN:  39.66338123178508\nLoss:  25.729360660537214 PSRN:  39.696078225364104\nLoss:  24.939927826679853 PSRN:  39.79225969881223\nLoss:  27.386127875258307 PSRN:  39.62865914631529\nLoss:  29.614185789921695 PSRN:  39.155756031393445\nLoss:  17.349351572897472 PSRN:  40.231932597687475\nLoss:  24.73863375370596 PSRN:  40.17881406259374\nLoss:  16.55294535724685 PSRN:  40.77759502515043\nLoss:  29.916550603303182 PSRN:  39.652208763892006\nLoss:  22.60530911091463 PSRN:  39.576764764286246\nLoss:  24.228082879171435 PSRN:  39.50435658880664\nLoss:  25.942243542145693 PSRN:  39.326546099756754\nLoss:  16.852299546352718 PSRN:  40.799783558533534\nLoss:  22.271057451320086 PSRN:  40.282963310220474\nLoss:  26.645825188948457 PSRN:  39.44889415483802\nLoss:  24.041630560342615 PSRN:  40.01617466149007\nLoss:  22.759613353482084 PSRN:  40.0363028493927\nLoss:  22.47220505424423 PSRN:  39.87958291170895\nLoss:  28.24889378365107 PSRN:  40.173047061971246\nLoss:  18.520259177452136 PSRN:  40.06799684885976\nLoss:  22.67156809750927 PSRN:  40.274936953186256\nLoss:  20.199009876724155 PSRN:  39.66360208222024\nLoss:  21.863211109075447 PSRN:  40.120122700639584\nLoss:  27.65863337187866 PSRN:  39.59613350711444\nLoss:  16.06237840420901 PSRN:  40.67107818441798\nLoss:  19.467922333931785 PSRN:  39.68653408927934\nLoss:  23.45207879911715 PSRN:  40.049600702810736\nLoss:  23.515952032609693 PSRN:  39.58956772245716\nLoss:  17.97220075561143 PSRN:  40.12963573667612\nLoss:  28.478061731796284 PSRN:  39.49535498915242\nLoss:  23.769728648009426 PSRN:  40.262775839976314\nLoss:  27.018512172212592 PSRN:  40.15000610536362\nLoss:  26.43860813280457 PSRN:  40.03906730894329\nLoss:  25.709920264364882 PSRN:  40.05271662375585\nLoss:  24.372115213907882 PSRN:  39.335262478889355\nLoss:  22.759613353482084 PSRN:  39.67227836066281\nLoss:  25.45584412271571 PSRN:  39.93797911519946\nLoss:  24.269322199023193 PSRN:  39.92370952790416\nLoss:  22.781571499789035 PSRN:  39.59264021115762\nLoss:  20.663978319771825 PSRN:  39.82405695759528\nLoss:  24.269322199023193 PSRN:  39.70407311181795\nLoss:  21.563858652847824 PSRN:  39.780328882933084\nLoss:  26.851443164195103 PSRN:  40.11029245389772\nLoss:  22.293496809607955 PSRN:  40.21782259034504\nLoss:  29.631064780058107 PSRN:  39.87654744981194\nLoss:  17.88854381999832 PSRN:  40.1591690615721\nLoss:  22.22611077089287 PSRN:  40.27741672097506\nLoss:  19.82422760159901 PSRN:  40.729400275693465\nLoss:  15.362291495737216 PSRN:  39.924007445969124\nLoss:  27.640549922170507 PSRN:  39.61500062425844\nLoss:  29.966648127543394 PSRN:  39.737434014248365\nLoss:  18.920887928424502 PSRN:  40.06054808461131\nLoss:  17.26267650163207 PSRN:  40.42247705926503\nLoss:  15.297058540778355 PSRN:  41.71969030453311\nLoss:  22.60530911091463 PSRN:  39.763911289031334\nLoss:  15.684387141358123 PSRN:  39.87545797554927\nLoss:  17.26267650163207 PSRN:  40.154827184030054\nLoss:  16.0 PSRN:  40.75807896333487\nLoss:  25.69046515733026 PSRN:  39.8769990014504\nLoss:  28.106938645110393 PSRN:  38.997166372778054\nLoss:  21.748563170931547 PSRN:  40.621463914029945\nLoss:  20.92844953645635 PSRN:  40.43301926287947\nLoss:  23.769728648009426 PSRN:  39.75581682773756\nLoss:  13.820274961085254 PSRN:  41.62884168540329\nLoss:  27.147743920996454 PSRN:  39.69279085868581\nLoss:  15.7797338380595 PSRN:  40.02494140023576\nLoss:  27.694764848252458 PSRN:  39.64641173471555\nLoss:  28.319604517012593 PSRN:  40.21252618873278\nLoss:  18.439088914585774 PSRN:  41.30955711891665\nLoss:  26.888659319497503 PSRN:  39.45609339325134\nLoss:  23.895606290697042 PSRN:  39.29386789050692\nLoss:  26.49528259898354 PSRN:  39.46003646787293\nLoss:  28.75760768909681 PSRN:  39.29717075575794\nLoss:  23.194827009486403 PSRN:  39.27761477963026\nLoss:  24.535688292770594 PSRN:  39.66273132075081\nLoss:  19.82422760159901 PSRN:  40.316132110619726\nLoss:  25.41653005427767 PSRN:  40.20237267709858\nLoss:  16.881943016134134 PSRN:  40.8591050862744\nLoss:  29.866369046136157 PSRN:  39.453427475181414\nLoss:  27.964262908219126 PSRN:  39.51932734602217\nLoss:  26.038433132583073 PSRN:  39.79277382316395\nLoss:  24.124676163629637 PSRN:  39.30043059105559\nLoss:  18.384776310850235 PSRN:  40.434185734429626\nLoss:  19.87460691435179 PSRN:  39.560909525671526\nLoss:  28.178005607210743 PSRN:  39.76647866262023\nLoss:  25.337718918639855 PSRN:  39.562311385499356\nLoss:  22.715633383201094 PSRN:  40.229083828545484\nLoss:  24.698178070456937 PSRN:  39.83844170372987\nLoss:  25.059928172283335 PSRN:  39.34777974550335\nLoss:  22.759613353482084 PSRN:  39.82417521337733\nLoss:  24.55605831561735 PSRN:  39.68403643019566\nLoss:  17.832554500127006 PSRN:  40.10076341150855\nLoss:  26.419689627245813 PSRN:  39.0254398855615\nLoss:  26.457513110645905 PSRN:  39.9353552167136\nLoss:  25.632011235952593 PSRN:  39.95641951395411\nLoss:  18.138357147217054 PSRN:  40.33844038785345\nLoss:  28.19574435974337 PSRN:  39.72143553429444\nLoss:  20.42057785666214 PSRN:  40.39498595625062\nLoss:  25.632011235952593 PSRN:  39.5173191416533\nLoss:  16.55294535724685 PSRN:  39.730636896418076\nLoss:  28.653097563788805 PSRN:  39.99549366350042\nLoss:  28.284271247461902 PSRN:  40.08401499599316\nLoss:  15.620499351813308 PSRN:  41.805799836965456\nLoss:  22.847319317591726 PSRN:  39.58928802138482\nLoss:  22.715633383201094 PSRN:  40.93459530020077\nLoss:  26.19160170741759 PSRN:  39.358608165190645\nLoss:  27.892651361962706 PSRN:  39.67057761520042\nLoss:  28.75760768909681 PSRN:  39.39795248374668\nLoss:  27.03701166919155 PSRN:  39.227637346548185\nLoss:  13.379088160259652 PSRN:  40.83950552898251\nLoss:  21.494185260204677 PSRN:  39.60243255931063\nLoss:  16.881943016134134 PSRN:  40.019736734417364\nLoss:  27.459060435491963 PSRN:  40.05513545240653\nLoss:  17.435595774162696 PSRN:  39.685589991704056\nLoss:  28.160255680657446 PSRN:  39.68704137959904\nLoss:  18.33030277982336 PSRN:  39.59181602979436\nLoss:  24.166091947189145 PSRN:  39.47843701580701\nLoss:  15.329709716755891 PSRN:  40.35045371299489\nLoss:  15.231546211727817 PSRN:  39.76606018420769\nLoss:  28.319604517012593 PSRN:  39.71984919405108\nLoss:  20.493901531919196 PSRN:  39.71497673377837\nLoss:  16.583123951777 PSRN:  39.93186082167871\nLoss:  15.716233645501712 PSRN:  41.73841500068285\nLoss:  27.640549922170507 PSRN:  39.52347286846142\nLoss:  23.173260452512935 PSRN:  39.3774225879101\nLoss:  29.068883707497267 PSRN:  39.789177848210294\nLoss:  27.258026340878022 PSRN:  39.47978387232047\nLoss:  28.319604517012593 PSRN:  40.05205991174596\nLoss:  29.866369046136157 PSRN:  39.41008628917095\nLoss:  16.583123951777 PSRN:  40.7740168692742\nLoss:  24.698178070456937 PSRN:  39.969402115699545\nLoss:  22.538855339169288 PSRN:  40.164025904945674\nLoss:  17.11724276862369 PSRN:  40.90913364623751\nLoss:  25.03996805109783 PSRN:  39.66517350970602\nLoss:  21.563858652847824 PSRN:  40.02861069334767\nLoss:  15.905973720586866 PSRN:  39.997715299271\nLoss:  19.77371993328519 PSRN:  40.334420082548746\nLoss:  22.293496809607955 PSRN:  40.06735938579923\nLoss:  29.359836511806396 PSRN:  39.80000553734554\nLoss:  16.941074346097416 PSRN:  39.78700293159821\nLoss:  13.892443989449804 PSRN:  39.50973404941567\nLoss:  25.768197453450252 PSRN:  39.65406074323867\nLoss:  22.02271554554524 PSRN:  39.658951662549434\nLoss:  22.181073012818835 PSRN:  40.07991365481096\nLoss:  21.6794833886788 PSRN:  39.88616896352277\nLoss:  20.639767440550294 PSRN:  39.71160907559095\nLoss:  25.25866188063018 PSRN:  39.27228502202807\nLoss:  20.09975124224178 PSRN:  39.960147470671046\nLoss:  27.440845468024488 PSRN:  39.63070469232453\nLoss:  24.269322199023193 PSRN:  39.64526969255816\nLoss:  25.65151067676132 PSRN:  39.798244311361536\nLoss:  18.35755975068582 PSRN:  39.80009475287834\nLoss:  19.4164878389476 PSRN:  40.62388498302617\nLoss:  21.633307652783937 PSRN:  39.94801727913899\nLoss:  21.213203435596427 PSRN:  39.86071260814733\nLoss:  25.98076211353316 PSRN:  39.59933842348561\nLoss:  18.81488772222678 PSRN:  39.69540360963964\nLoss:  21.817424229271428 PSRN:  39.37118124134075\nLoss:  27.910571473905726 PSRN:  39.4937228795987\nLoss:  24.576411454889016 PSRN:  39.399319719142916\nLoss:  28.948229652260256 PSRN:  39.78521382992163\nLoss:  29.899832775452108 PSRN:  39.37326191896608\nLoss:  28.337254630609507 PSRN:  40.29415139593538\nLoss:  24.859605789312106 PSRN:  40.486593489621285\nLoss:  26.40075756488817 PSRN:  39.64436582139107\nLoss:  29.24038303442689 PSRN:  39.77491396191137\nLoss:  21.095023109728988 PSRN:  39.48536783714667\nLoss:  14.38749456993816 PSRN:  40.320832214894764\nLoss:  28.653097563788805 PSRN:  39.74947667978657\nLoss:  29.017236257093817 PSRN:  39.532264571547245\nLoss:  16.278820596099706 PSRN:  40.77497711771052\nLoss:  19.72308292331602 PSRN:  39.923757093283044\nLoss:  20.049937655763422 PSRN:  40.20657355487256\nLoss:  14.38749456993816 PSRN:  40.04551112071872\nLoss:  22.64950330581225 PSRN:  40.79191070446029\nLoss:  22.60530911091463 PSRN:  39.954626490682244\nLoss:  25.25866188063018 PSRN:  39.558967170035544\nLoss:  23.021728866442675 PSRN:  40.90492560688542\nLoss:  26.5329983228432 PSRN:  40.07968356135288\nLoss:  26.94438717061496 PSRN:  39.59535585867783\nLoss:  19.44222209522358 PSRN:  40.4781395417584\nLoss:  23.259406699226016 PSRN:  40.620335196663476\nLoss:  17.291616465790582 PSRN:  40.655497134716214\nLoss:  13.076696830622021 PSRN:  40.71692930940446\nLoss:  18.788294228055936 PSRN:  40.429714866687945\nLoss:  18.49324200890693 PSRN:  39.33465767179981\nLoss:  27.874719729532707 PSRN:  39.671449951433885\nLoss:  24.677925358506133 PSRN:  39.75308003449612\nLoss:  23.45207879911715 PSRN:  39.68801898927396\nLoss:  28.74021572639983 PSRN:  39.30979009866633\nLoss:  20.97617696340303 PSRN:  40.88518632353828\nLoss:  26.739483914241877 PSRN:  40.482899743657526\nLoss:  20.71231517720798 PSRN:  38.88162977234333\nLoss:  24.08318915758459 PSRN:  39.89000847530005\nLoss:  24.919871588754223 PSRN:  39.68041966220283\nLoss:  29.13760456866693 PSRN:  39.65749628758771\nLoss:  23.2163735324878 PSRN:  39.53636369512685\nLoss:  13.416407864998739 PSRN:  43.14493917981734\nLoss:  22.181073012818835 PSRN:  40.24327364338412\nLoss:  10.862780491200215 PSRN:  43.52042185453986\nLoss:  26.419689627245813 PSRN:  39.63470264345443\nLoss:  22.44994432064365 PSRN:  39.95930099753996\nLoss:  21.18962010041709 PSRN:  39.76875444239016\nLoss:  29.189039038652847 PSRN:  40.17164295185037\nLoss:  29.631064780058107 PSRN:  39.69573456998754\nLoss:  21.6794833886788 PSRN:  39.7175782004517\nLoss:  25.69046515733026 PSRN:  40.14454938059811\nLoss:  17.349351572897472 PSRN:  39.57909894903726\nLoss:  27.622454633866266 PSRN:  39.50453085573726\nLoss:  21.236760581595302 PSRN:  39.60871747809665\nLoss:  26.49528259898354 PSRN:  39.880108304911886\nLoss:  28.53068523537421 PSRN:  39.56375901573839\nLoss:  21.95449840010015 PSRN:  40.17594508159617\nLoss:  26.362852652928137 PSRN:  39.56923365266947\nLoss:  23.2163735324878 PSRN:  39.55936078947333\nLoss:  13.96424004376894 PSRN:  40.67381171557069\nLoss:  24.939927826679853 PSRN:  40.63222201448301\nLoss:  27.874719729532707 PSRN:  39.64456927381877\nLoss:  22.58317958127243 PSRN:  39.478501034765145\nLoss:  19.364916731037084 PSRN:  40.724922176226634\nLoss:  24.351591323771842 PSRN:  40.41579051988215\nLoss:  24.55605831561735 PSRN:  40.035029579816154\nLoss:  24.331050121192877 PSRN:  39.52974735584041\nLoss:  27.27636339397171 PSRN:  39.500950695693405\nLoss:  26.5329983228432 PSRN:  39.81775654365124\nLoss:  23.558437978779494 PSRN:  39.54985790927775\nLoss:  20.199009876724155 PSRN:  39.02822761643137\nLoss:  19.078784028338912 PSRN:  39.02853928557258\nLoss:  29.816103031751148 PSRN:  39.90331201286835\nLoss:  17.349351572897472 PSRN:  40.32298519540464\nLoss:  18.973665961010276 PSRN:  40.619013833567706\nLoss:  26.962937525425527 PSRN:  39.90642110222042\nLoss:  27.748873851023216 PSRN:  39.84256437572208\nLoss:  28.124722220850465 PSRN:  39.817839609547086\nLoss:  23.49468024894146 PSRN:  39.69565063985682\nLoss:  21.840329667841555 PSRN:  39.735164995356556\nLoss:  20.273134932713294 PSRN:  40.74588849948053\nLoss:  24.859605789312106 PSRN:  39.72499575966538\nLoss:  24.145392935299274 PSRN:  39.82694413442003\nLoss:  23.49468024894146 PSRN:  39.921647193569456\nLoss:  26.814175355583846 PSRN:  39.73880926972484\nLoss:  25.317977802344327 PSRN:  39.50837104863685\nLoss:  25.514701644346147 PSRN:  39.267807650510505\nLoss:  24.95996794869737 PSRN:  39.45706683492635\nLoss:  20.688160865577203 PSRN:  40.07113204421341\nLoss:  18.083141320025124 PSRN:  40.57623602189007\nLoss:  28.106938645110393 PSRN:  39.461007043150374\nLoss:  21.61018278497431 PSRN:  39.50583732273172\nLoss:  21.93171219946131 PSRN:  39.778126113432705\nLoss:  27.92848008753788 PSRN:  39.08775434348306\nLoss:  27.76688675382964 PSRN:  39.39975534316598\nLoss:  21.2602916254693 PSRN:  40.198255861966096\nLoss:  18.303005217723125 PSRN:  40.45956610503712\nLoss:  18.193405398660254 PSRN:  39.69644091421759\nLoss:  17.4928556845359 PSRN:  39.46198233724408\nLoss:  19.8997487421324 PSRN:  40.97409695681172\nLoss:  25.357444666211933 PSRN:  40.31392500927437\nLoss:  18.16590212458495 PSRN:  40.38646321685901\nLoss:  27.60434748368452 PSRN:  39.84484678980917\nLoss:  16.401219466856727 PSRN:  40.97154910450473\nLoss:  18.57417562100671 PSRN:  40.53283264639426\nLoss:  18.788294228055936 PSRN:  40.152636320674056\nLoss:  23.853720883753127 PSRN:  39.85995354521839\nLoss:  22.02271554554524 PSRN:  39.59328667672074\nLoss:  27.440845468024488 PSRN:  40.144423827489035\nLoss:  22.561028345356956 PSRN:  39.83535063064748\nLoss:  28.071337695236398 PSRN:  39.84025205387487\nLoss:  25.514701644346147 PSRN:  39.77877092735335\nLoss:  26.94438717061496 PSRN:  39.81138556524149\nLoss:  18.439088914585774 PSRN:  39.07717469359458\nLoss:  19.6468827043885 PSRN:  39.3135539137934\nLoss:  21.88606862823929 PSRN:  40.024837194521645\nLoss:  22.64950330581225 PSRN:  39.54013742280416\nLoss:  26.832815729997478 PSRN:  39.93859451704467\nLoss:  20.904544960366874 PSRN:  40.28936568123977\nLoss:  19.924858845171276 PSRN:  40.11957967757412\nLoss:  24.49489742783178 PSRN:  40.1551026599255\nLoss:  25.059928172283335 PSRN:  39.92039458668605\nLoss:  16.822603841260722 PSRN:  40.50710574208886\nLoss:  13.152946437965905 PSRN:  40.74350530255125\nLoss:  21.93171219946131 PSRN:  39.774077837083745\nLoss:  25.475478405713993 PSRN:  39.65370863386765\nLoss:  21.470910553583888 PSRN:  39.86587413433346\nLoss:  27.294688127912362 PSRN:  39.43527553706634\nLoss:  26.153393661244042 PSRN:  39.363400218667245\nLoss:  28.74021572639983 PSRN:  39.522217384326396\nLoss:  24.124676163629637 PSRN:  39.58871708533335\nLoss:  22.135943621178654 PSRN:  39.703785145090094\nLoss:  22.02271554554524 PSRN:  39.90241592496516\nLoss:  19.0 PSRN:  40.34901591695595\nLoss:  23.62202362203543 PSRN:  39.81034564536842\nLoss:  25.179356624028344 PSRN:  40.157372260474574\nLoss:  29.478805945967352 PSRN:  39.95113419649635\nLoss:  25.475478405713993 PSRN:  40.204345755691904\nLoss:  26.627053911388696 PSRN:  39.30302951664602\nLoss:  26.70205984563738 PSRN:  39.47326740015712\nLoss:  23.769728648009426 PSRN:  39.640452000463014\nLoss:  24.515301344262525 PSRN:  39.83795978018745\nLoss:  22.427661492005804 PSRN:  39.38574484422848\nLoss:  19.493588689617926 PSRN:  39.990919045461816\nLoss:  25.298221281347036 PSRN:  39.71240305432034\nLoss:  12.68857754044952 PSRN:  40.796465590556636\nLoss:  20.09975124224178 PSRN:  40.71455093405791\nLoss:  14.66287829861518 PSRN:  40.73052052241049\nLoss:  15.556349186104045 PSRN:  40.712132836120475\nLoss:  18.49324200890693 PSRN:  40.151413789117726\nLoss:  24.979991993593593 PSRN:  39.93805027966126\nLoss:  22.15851980616034 PSRN:  40.520051137951555\nLoss:  28.372521918222215 PSRN:  39.491315522815675\nLoss:  24.186773244895647 PSRN:  39.54290604230603\nLoss:  28.705400188814647 PSRN:  39.64959130880926\nLoss:  27.09243436828813 PSRN:  39.691513944996885\nLoss:  16.492422502470642 PSRN:  40.805568249957744\nLoss:  21.863211109075447 PSRN:  40.17621128713518\nLoss:  18.193405398660254 PSRN:  40.90640177613629\nLoss:  21.656407827707714 PSRN:  40.3344806210611\nLoss:  23.895606290697042 PSRN:  39.51077118742127\nLoss:  19.313207915827967 PSRN:  39.81441486645517\nLoss:  25.25866188063018 PSRN:  39.36233388312678\nLoss:  21.213203435596427 PSRN:  39.347748319609984\nLoss:  26.870057685088806 PSRN:  40.4503269882982\nLoss:  18.110770276274835 PSRN:  40.40882592389242\nLoss:  26.60826939130014 PSRN:  39.301316972429476\nLoss:  19.621416870348583 PSRN:  39.589596311703026\nLoss:  26.92582403567252 PSRN:  40.01053266431255\nLoss:  27.982137159266443 PSRN:  39.9195633287067\nLoss:  28.965496715920477 PSRN:  39.86066490581178\nLoss:  24.454038521274967 PSRN:  39.518338329940995\nLoss:  17.406895185529212 PSRN:  40.480462073373474\nLoss:  17.175564037317667 PSRN:  40.965973059723225\nLoss:  27.982137159266443 PSRN:  39.68693075048971\nLoss:  20.566963801203133 PSRN:  40.04906728468015\nLoss:  18.384776310850235 PSRN:  40.68575451210287\nLoss:  26.77685567799177 PSRN:  39.899544540468824\n"
    }
   ],
   "source": [
    "import glob\n",
    "import cv2\n",
    "\n",
    "highres = [\"./train_data/highres/\" + k for k in mismatch_keys]\n",
    "\n",
    "PSNR_loss = []\n",
    "for h,lo in zip(highres, los):\n",
    "    l = h.replace(\"highres\", \"lowres_warp2d\")\n",
    "    h_im = cv2.imread(h)\n",
    "    h_im = cv2.resize(h_im, (128,128), cv2.INTER_CUBIC)\n",
    "    h_im = cv2.resize(h_im, (512,512), cv2.INTER_CUBIC)\n",
    "\n",
    "\n",
    "    # h_im = h_im[150:-100, 140:-140]\n",
    "\n",
    "    # h_im = cv2.resize(h_im, (256,256))\n",
    "\n",
    "    # cv2.imshow(\"High\", h_im)\n",
    "    l_im = cv2.imread(l)\n",
    "    # l_im = cv2.resize(l_im, (256,256))\n",
    "    l_im = cv2.resize(l_im, (512,512))\n",
    "    # l_im = l_im[150:-100, 140:-140]\n",
    "\n",
    "    # MOuth\n",
    "    # choose = [33,48,54,57]\n",
    "    choose = [51,48,54,57]\n",
    "\n",
    "    h_lmk = get_landmark(h_im)[choose]\n",
    "    x1,y1 = np.min(h_lmk, axis=0)\n",
    "    x2,y2 = np.max(h_lmk, axis=0)\n",
    "    padx = int(0.2*(x2-x1))\n",
    "    pady = int(0.2*(y2-y1))\n",
    "    # padx=0\n",
    "    # pady=0\n",
    "    x1 -= padx\n",
    "    x2 += padx\n",
    "    y1 -= pady\n",
    "    y2 += pady\n",
    "\n",
    "    # print(x1,y1,x2,y2)\n",
    "    \n",
    "    # h_im = h_im[y1:y2,x1:x2]\n",
    "    # h_im_selected = h_im[y1:y2, x1:x2]\n",
    "    h_im_selected = np.zeros(h_im.shape)\n",
    "    l_im_selected = np.zeros(l_im.shape)\n",
    "\n",
    "    h_im_selected[y1:y2, x1:x2] = h_im[y1:y2, x1:x2]\n",
    "    l_im_selected[y1:y2, x1:x2] = l_im[y1:y2, x1:x2]\n",
    "\n",
    "    # print(\"eeeeeeeeeeeeee\")\n",
    "\n",
    "    # Eye\n",
    "    choose = [28, 17, 26]\n",
    "    h_lmk = get_landmark(h_im)\n",
    "    other_lmk = list([h_lmk[71]//2 + h_lmk[27]//2])\n",
    "    h_lmk = np.array(list(h_lmk[choose]) + other_lmk)\n",
    "    x1,y1 = np.min(h_lmk, axis=0)\n",
    "    x2,y2 = np.max(h_lmk, axis=0)\n",
    "    padx = int(0.2*(x2-x1))\n",
    "    pady = int(0.2*(y2-y1))\n",
    "    # padx=0\n",
    "    # pady=0\n",
    "    x1 -= padx\n",
    "    x2 += padx\n",
    "    y2 += pady\n",
    "    \n",
    "    # print(x1,y1,x2,y2)\n",
    "\n",
    "    # h_im = h_im[y1:y2,x1:x2]\n",
    "    # h_im_selected = h_im[y1:y2, x1:x2]\n",
    "    # h_im_selected = np.zeros(h_im.shape)\n",
    "    # l_im_selected = np.zeros(l_im.shape)\n",
    "\n",
    "    h_im_selected[y1:y2, x1:x2] = h_im[y1:y2, x1:x2]\n",
    "    l_im_selected[y1:y2, x1:x2] = l_im[y1:y2, x1:x2]\n",
    "\n",
    "    h_im_selected = h_im_selected.astype(np.uint8)\n",
    "    l_im_selected = l_im_selected.astype(np.uint8)\n",
    "\n",
    "\n",
    "\n",
    "    # padx=0.2*(x2-x1)\n",
    "    # pady=0.2*(y2-x1)\n",
    "    # x1-=padding\n",
    "    # y1-=padding\n",
    "\n",
    "    # l_lmk = get_landmark(l_im)[choose]\n",
    "    # x3,y3 = np.min(l_lmk, axis=0)\n",
    "    # x4,y4 = np.max(l_lmk, axis=0)\n",
    "    # l_im = l_im[y1:y2,x1:x2]\n",
    "\n",
    "    psnr_loss = PSNR(h_im_selected, l_im_selected)\n",
    "    PSNR_loss.append(psnr_loss)\n",
    "\n",
    "    # if PSNR(h_im_selected, l_im_selected) > 38.2:\n",
    "    #     continue\n",
    "\n",
    "    # cv2.imshow(\"Low\",l_im)\n",
    "\n",
    "    con = np.hstack([h_im_selected, l_im_selected])\n",
    "    cv2.imshow(\"imh\",con)\n",
    "\n",
    "    print(\"Loss: \", lo, \"PSRN: \", psnr_loss)\n",
    "    \n",
    "\n",
    "    k = cv2.waitKey(1)\n",
    "\n",
    "    if k ==27:\n",
    "        break\n",
    "\n",
    "cv2.destroyAllWindows()"
   ]
  },
  {
   "cell_type": "code",
   "execution_count": 9,
   "metadata": {},
   "outputs": [
    {
     "output_type": "execute_result",
     "data": {
      "text/plain": "(array([ 1.,  2.,  1.,  4.,  5.,  8., 11.,  6., 15.,  9., 12., 29., 30.,\n        35., 44., 46., 46., 56., 49., 71., 60., 72., 61., 60., 61., 48.,\n        52., 45., 43., 41., 36., 39., 36., 23., 22., 22., 21., 16., 16.,\n        14., 13., 18., 19.,  6.,  5.,  6.,  7.,  3.,  3.,  2.,  2.,  3.,\n         1.,  1.,  2.,  0.,  0.,  2.,  1.,  1.,  1.,  0.,  2.,  1.,  1.,\n         1.,  0.,  0.,  0.,  0.,  0.,  0.,  0.,  0.,  0.,  0.,  0.,  0.,\n         0.,  0.,  0.,  0.,  0.,  0.,  0.,  0.,  0.,  0.,  0.,  0.,  0.,\n         0.,  1.,  0.,  0.,  0.,  1.,  0.,  0.,  1.]),\n array([38.7458397 , 38.79358552, 38.84133134, 38.88907717, 38.93682299,\n        38.98456881, 39.03231463, 39.08006045, 39.12780627, 39.17555209,\n        39.22329792, 39.27104374, 39.31878956, 39.36653538, 39.4142812 ,\n        39.46202702, 39.50977285, 39.55751867, 39.60526449, 39.65301031,\n        39.70075613, 39.74850195, 39.79624777, 39.8439936 , 39.89173942,\n        39.93948524, 39.98723106, 40.03497688, 40.0827227 , 40.13046853,\n        40.17821435, 40.22596017, 40.27370599, 40.32145181, 40.36919763,\n        40.41694345, 40.46468928, 40.5124351 , 40.56018092, 40.60792674,\n        40.65567256, 40.70341838, 40.75116421, 40.79891003, 40.84665585,\n        40.89440167, 40.94214749, 40.98989331, 41.03763913, 41.08538496,\n        41.13313078, 41.1808766 , 41.22862242, 41.27636824, 41.32411406,\n        41.37185989, 41.41960571, 41.46735153, 41.51509735, 41.56284317,\n        41.61058899, 41.65833481, 41.70608064, 41.75382646, 41.80157228,\n        41.8493181 , 41.89706392, 41.94480974, 41.99255557, 42.04030139,\n        42.08804721, 42.13579303, 42.18353885, 42.23128467, 42.27903049,\n        42.32677632, 42.37452214, 42.42226796, 42.47001378, 42.5177596 ,\n        42.56550542, 42.61325125, 42.66099707, 42.70874289, 42.75648871,\n        42.80423453, 42.85198035, 42.89972617, 42.947472  , 42.99521782,\n        43.04296364, 43.09070946, 43.13845528, 43.1862011 , 43.23394693,\n        43.28169275, 43.32943857, 43.37718439, 43.42493021, 43.47267603,\n        43.52042185]),\n <a list of 100 Patch objects>)"
     },
     "metadata": {},
     "execution_count": 9
    },
    {
     "output_type": "display_data",
     "data": {
      "text/plain": "<Figure size 432x288 with 1 Axes>",
      "image/svg+xml": "<?xml version=\"1.0\" encoding=\"utf-8\" standalone=\"no\"?>\n<!DOCTYPE svg PUBLIC \"-//W3C//DTD SVG 1.1//EN\"\n  \"http://www.w3.org/Graphics/SVG/1.1/DTD/svg11.dtd\">\n<!-- Created with matplotlib (https://matplotlib.org/) -->\n<svg height=\"248.518125pt\" version=\"1.1\" viewBox=\"0 0 368.925 248.518125\" width=\"368.925pt\" xmlns=\"http://www.w3.org/2000/svg\" xmlns:xlink=\"http://www.w3.org/1999/xlink\">\n <defs>\n  <style type=\"text/css\">\n*{stroke-linecap:butt;stroke-linejoin:round;}\n  </style>\n </defs>\n <g id=\"figure_1\">\n  <g id=\"patch_1\">\n   <path d=\"M -0 248.518125 \nL 368.925 248.518125 \nL 368.925 0 \nL -0 0 \nz\n\" style=\"fill:none;\"/>\n  </g>\n  <g id=\"axes_1\">\n   <g id=\"patch_2\">\n    <path d=\"M 26.925 224.64 \nL 361.725 224.64 \nL 361.725 7.2 \nL 26.925 7.2 \nz\n\" style=\"fill:#ffffff;\"/>\n   </g>\n   <g id=\"patch_3\">\n    <path clip-path=\"url(#p60c1246e7e)\" d=\"M 42.143182 224.64 \nL 45.186818 224.64 \nL 45.186818 221.76381 \nL 42.143182 221.76381 \nz\n\" style=\"fill:#1f77b4;\"/>\n   </g>\n   <g id=\"patch_4\">\n    <path clip-path=\"url(#p60c1246e7e)\" d=\"M 45.186818 224.64 \nL 48.230455 224.64 \nL 48.230455 218.887619 \nL 45.186818 218.887619 \nz\n\" style=\"fill:#1f77b4;\"/>\n   </g>\n   <g id=\"patch_5\">\n    <path clip-path=\"url(#p60c1246e7e)\" d=\"M 48.230455 224.64 \nL 51.274091 224.64 \nL 51.274091 221.76381 \nL 48.230455 221.76381 \nz\n\" style=\"fill:#1f77b4;\"/>\n   </g>\n   <g id=\"patch_6\">\n    <path clip-path=\"url(#p60c1246e7e)\" d=\"M 51.274091 224.64 \nL 54.317727 224.64 \nL 54.317727 213.135238 \nL 51.274091 213.135238 \nz\n\" style=\"fill:#1f77b4;\"/>\n   </g>\n   <g id=\"patch_7\">\n    <path clip-path=\"url(#p60c1246e7e)\" d=\"M 54.317727 224.64 \nL 57.361364 224.64 \nL 57.361364 210.259048 \nL 54.317727 210.259048 \nz\n\" style=\"fill:#1f77b4;\"/>\n   </g>\n   <g id=\"patch_8\">\n    <path clip-path=\"url(#p60c1246e7e)\" d=\"M 57.361364 224.64 \nL 60.405 224.64 \nL 60.405 201.630476 \nL 57.361364 201.630476 \nz\n\" style=\"fill:#1f77b4;\"/>\n   </g>\n   <g id=\"patch_9\">\n    <path clip-path=\"url(#p60c1246e7e)\" d=\"M 60.405 224.64 \nL 63.448636 224.64 \nL 63.448636 193.001905 \nL 60.405 193.001905 \nz\n\" style=\"fill:#1f77b4;\"/>\n   </g>\n   <g id=\"patch_10\">\n    <path clip-path=\"url(#p60c1246e7e)\" d=\"M 63.448636 224.64 \nL 66.492273 224.64 \nL 66.492273 207.382857 \nL 63.448636 207.382857 \nz\n\" style=\"fill:#1f77b4;\"/>\n   </g>\n   <g id=\"patch_11\">\n    <path clip-path=\"url(#p60c1246e7e)\" d=\"M 66.492273 224.64 \nL 69.535909 224.64 \nL 69.535909 181.497143 \nL 66.492273 181.497143 \nz\n\" style=\"fill:#1f77b4;\"/>\n   </g>\n   <g id=\"patch_12\">\n    <path clip-path=\"url(#p60c1246e7e)\" d=\"M 69.535909 224.64 \nL 72.579545 224.64 \nL 72.579545 198.754286 \nL 69.535909 198.754286 \nz\n\" style=\"fill:#1f77b4;\"/>\n   </g>\n   <g id=\"patch_13\">\n    <path clip-path=\"url(#p60c1246e7e)\" d=\"M 72.579545 224.64 \nL 75.623182 224.64 \nL 75.623182 190.125714 \nL 72.579545 190.125714 \nz\n\" style=\"fill:#1f77b4;\"/>\n   </g>\n   <g id=\"patch_14\">\n    <path clip-path=\"url(#p60c1246e7e)\" d=\"M 75.623182 224.64 \nL 78.666818 224.64 \nL 78.666818 141.230476 \nL 75.623182 141.230476 \nz\n\" style=\"fill:#1f77b4;\"/>\n   </g>\n   <g id=\"patch_15\">\n    <path clip-path=\"url(#p60c1246e7e)\" d=\"M 78.666818 224.64 \nL 81.710455 224.64 \nL 81.710455 138.354286 \nL 78.666818 138.354286 \nz\n\" style=\"fill:#1f77b4;\"/>\n   </g>\n   <g id=\"patch_16\">\n    <path clip-path=\"url(#p60c1246e7e)\" d=\"M 81.710455 224.64 \nL 84.754091 224.64 \nL 84.754091 123.973333 \nL 81.710455 123.973333 \nz\n\" style=\"fill:#1f77b4;\"/>\n   </g>\n   <g id=\"patch_17\">\n    <path clip-path=\"url(#p60c1246e7e)\" d=\"M 84.754091 224.64 \nL 87.797727 224.64 \nL 87.797727 98.087619 \nL 84.754091 98.087619 \nz\n\" style=\"fill:#1f77b4;\"/>\n   </g>\n   <g id=\"patch_18\">\n    <path clip-path=\"url(#p60c1246e7e)\" d=\"M 87.797727 224.64 \nL 90.841364 224.64 \nL 90.841364 92.335238 \nL 87.797727 92.335238 \nz\n\" style=\"fill:#1f77b4;\"/>\n   </g>\n   <g id=\"patch_19\">\n    <path clip-path=\"url(#p60c1246e7e)\" d=\"M 90.841364 224.64 \nL 93.885 224.64 \nL 93.885 92.335238 \nL 90.841364 92.335238 \nz\n\" style=\"fill:#1f77b4;\"/>\n   </g>\n   <g id=\"patch_20\">\n    <path clip-path=\"url(#p60c1246e7e)\" d=\"M 93.885 224.64 \nL 96.928636 224.64 \nL 96.928636 63.573333 \nL 93.885 63.573333 \nz\n\" style=\"fill:#1f77b4;\"/>\n   </g>\n   <g id=\"patch_21\">\n    <path clip-path=\"url(#p60c1246e7e)\" d=\"M 96.928636 224.64 \nL 99.972273 224.64 \nL 99.972273 83.706667 \nL 96.928636 83.706667 \nz\n\" style=\"fill:#1f77b4;\"/>\n   </g>\n   <g id=\"patch_22\">\n    <path clip-path=\"url(#p60c1246e7e)\" d=\"M 99.972273 224.64 \nL 103.015909 224.64 \nL 103.015909 20.430476 \nL 99.972273 20.430476 \nz\n\" style=\"fill:#1f77b4;\"/>\n   </g>\n   <g id=\"patch_23\">\n    <path clip-path=\"url(#p60c1246e7e)\" d=\"M 103.015909 224.64 \nL 106.059545 224.64 \nL 106.059545 52.068571 \nL 103.015909 52.068571 \nz\n\" style=\"fill:#1f77b4;\"/>\n   </g>\n   <g id=\"patch_24\">\n    <path clip-path=\"url(#p60c1246e7e)\" d=\"M 106.059545 224.64 \nL 109.103182 224.64 \nL 109.103182 17.554286 \nL 106.059545 17.554286 \nz\n\" style=\"fill:#1f77b4;\"/>\n   </g>\n   <g id=\"patch_25\">\n    <path clip-path=\"url(#p60c1246e7e)\" d=\"M 109.103182 224.64 \nL 112.146818 224.64 \nL 112.146818 49.192381 \nL 109.103182 49.192381 \nz\n\" style=\"fill:#1f77b4;\"/>\n   </g>\n   <g id=\"patch_26\">\n    <path clip-path=\"url(#p60c1246e7e)\" d=\"M 112.146818 224.64 \nL 115.190455 224.64 \nL 115.190455 52.068571 \nL 112.146818 52.068571 \nz\n\" style=\"fill:#1f77b4;\"/>\n   </g>\n   <g id=\"patch_27\">\n    <path clip-path=\"url(#p60c1246e7e)\" d=\"M 115.190455 224.64 \nL 118.234091 224.64 \nL 118.234091 49.192381 \nL 115.190455 49.192381 \nz\n\" style=\"fill:#1f77b4;\"/>\n   </g>\n   <g id=\"patch_28\">\n    <path clip-path=\"url(#p60c1246e7e)\" d=\"M 118.234091 224.64 \nL 121.277727 224.64 \nL 121.277727 86.582857 \nL 118.234091 86.582857 \nz\n\" style=\"fill:#1f77b4;\"/>\n   </g>\n   <g id=\"patch_29\">\n    <path clip-path=\"url(#p60c1246e7e)\" d=\"M 121.277727 224.64 \nL 124.321364 224.64 \nL 124.321364 75.078095 \nL 121.277727 75.078095 \nz\n\" style=\"fill:#1f77b4;\"/>\n   </g>\n   <g id=\"patch_30\">\n    <path clip-path=\"url(#p60c1246e7e)\" d=\"M 124.321364 224.64 \nL 127.365 224.64 \nL 127.365 95.211429 \nL 124.321364 95.211429 \nz\n\" style=\"fill:#1f77b4;\"/>\n   </g>\n   <g id=\"patch_31\">\n    <path clip-path=\"url(#p60c1246e7e)\" d=\"M 127.365 224.64 \nL 130.408636 224.64 \nL 130.408636 100.96381 \nL 127.365 100.96381 \nz\n\" style=\"fill:#1f77b4;\"/>\n   </g>\n   <g id=\"patch_32\">\n    <path clip-path=\"url(#p60c1246e7e)\" d=\"M 130.408636 224.64 \nL 133.452273 224.64 \nL 133.452273 106.71619 \nL 130.408636 106.71619 \nz\n\" style=\"fill:#1f77b4;\"/>\n   </g>\n   <g id=\"patch_33\">\n    <path clip-path=\"url(#p60c1246e7e)\" d=\"M 133.452273 224.64 \nL 136.495909 224.64 \nL 136.495909 121.097143 \nL 133.452273 121.097143 \nz\n\" style=\"fill:#1f77b4;\"/>\n   </g>\n   <g id=\"patch_34\">\n    <path clip-path=\"url(#p60c1246e7e)\" d=\"M 136.495909 224.64 \nL 139.539545 224.64 \nL 139.539545 112.468571 \nL 136.495909 112.468571 \nz\n\" style=\"fill:#1f77b4;\"/>\n   </g>\n   <g id=\"patch_35\">\n    <path clip-path=\"url(#p60c1246e7e)\" d=\"M 139.539545 224.64 \nL 142.583182 224.64 \nL 142.583182 121.097143 \nL 139.539545 121.097143 \nz\n\" style=\"fill:#1f77b4;\"/>\n   </g>\n   <g id=\"patch_36\">\n    <path clip-path=\"url(#p60c1246e7e)\" d=\"M 142.583182 224.64 \nL 145.626818 224.64 \nL 145.626818 158.487619 \nL 142.583182 158.487619 \nz\n\" style=\"fill:#1f77b4;\"/>\n   </g>\n   <g id=\"patch_37\">\n    <path clip-path=\"url(#p60c1246e7e)\" d=\"M 145.626818 224.64 \nL 148.670455 224.64 \nL 148.670455 161.36381 \nL 145.626818 161.36381 \nz\n\" style=\"fill:#1f77b4;\"/>\n   </g>\n   <g id=\"patch_38\">\n    <path clip-path=\"url(#p60c1246e7e)\" d=\"M 148.670455 224.64 \nL 151.714091 224.64 \nL 151.714091 161.36381 \nL 148.670455 161.36381 \nz\n\" style=\"fill:#1f77b4;\"/>\n   </g>\n   <g id=\"patch_39\">\n    <path clip-path=\"url(#p60c1246e7e)\" d=\"M 151.714091 224.64 \nL 154.757727 224.64 \nL 154.757727 164.24 \nL 151.714091 164.24 \nz\n\" style=\"fill:#1f77b4;\"/>\n   </g>\n   <g id=\"patch_40\">\n    <path clip-path=\"url(#p60c1246e7e)\" d=\"M 154.757727 224.64 \nL 157.801364 224.64 \nL 157.801364 178.620952 \nL 154.757727 178.620952 \nz\n\" style=\"fill:#1f77b4;\"/>\n   </g>\n   <g id=\"patch_41\">\n    <path clip-path=\"url(#p60c1246e7e)\" d=\"M 157.801364 224.64 \nL 160.845 224.64 \nL 160.845 178.620952 \nL 157.801364 178.620952 \nz\n\" style=\"fill:#1f77b4;\"/>\n   </g>\n   <g id=\"patch_42\">\n    <path clip-path=\"url(#p60c1246e7e)\" d=\"M 160.845 224.64 \nL 163.888636 224.64 \nL 163.888636 184.373333 \nL 160.845 184.373333 \nz\n\" style=\"fill:#1f77b4;\"/>\n   </g>\n   <g id=\"patch_43\">\n    <path clip-path=\"url(#p60c1246e7e)\" d=\"M 163.888636 224.64 \nL 166.932273 224.64 \nL 166.932273 187.249524 \nL 163.888636 187.249524 \nz\n\" style=\"fill:#1f77b4;\"/>\n   </g>\n   <g id=\"patch_44\">\n    <path clip-path=\"url(#p60c1246e7e)\" d=\"M 166.932273 224.64 \nL 169.975909 224.64 \nL 169.975909 172.868571 \nL 166.932273 172.868571 \nz\n\" style=\"fill:#1f77b4;\"/>\n   </g>\n   <g id=\"patch_45\">\n    <path clip-path=\"url(#p60c1246e7e)\" d=\"M 169.975909 224.64 \nL 173.019545 224.64 \nL 173.019545 169.992381 \nL 169.975909 169.992381 \nz\n\" style=\"fill:#1f77b4;\"/>\n   </g>\n   <g id=\"patch_46\">\n    <path clip-path=\"url(#p60c1246e7e)\" d=\"M 173.019545 224.64 \nL 176.063182 224.64 \nL 176.063182 207.382857 \nL 173.019545 207.382857 \nz\n\" style=\"fill:#1f77b4;\"/>\n   </g>\n   <g id=\"patch_47\">\n    <path clip-path=\"url(#p60c1246e7e)\" d=\"M 176.063182 224.64 \nL 179.106818 224.64 \nL 179.106818 210.259048 \nL 176.063182 210.259048 \nz\n\" style=\"fill:#1f77b4;\"/>\n   </g>\n   <g id=\"patch_48\">\n    <path clip-path=\"url(#p60c1246e7e)\" d=\"M 179.106818 224.64 \nL 182.150455 224.64 \nL 182.150455 207.382857 \nL 179.106818 207.382857 \nz\n\" style=\"fill:#1f77b4;\"/>\n   </g>\n   <g id=\"patch_49\">\n    <path clip-path=\"url(#p60c1246e7e)\" d=\"M 182.150455 224.64 \nL 185.194091 224.64 \nL 185.194091 204.506667 \nL 182.150455 204.506667 \nz\n\" style=\"fill:#1f77b4;\"/>\n   </g>\n   <g id=\"patch_50\">\n    <path clip-path=\"url(#p60c1246e7e)\" d=\"M 185.194091 224.64 \nL 188.237727 224.64 \nL 188.237727 216.011429 \nL 185.194091 216.011429 \nz\n\" style=\"fill:#1f77b4;\"/>\n   </g>\n   <g id=\"patch_51\">\n    <path clip-path=\"url(#p60c1246e7e)\" d=\"M 188.237727 224.64 \nL 191.281364 224.64 \nL 191.281364 216.011429 \nL 188.237727 216.011429 \nz\n\" style=\"fill:#1f77b4;\"/>\n   </g>\n   <g id=\"patch_52\">\n    <path clip-path=\"url(#p60c1246e7e)\" d=\"M 191.281364 224.64 \nL 194.325 224.64 \nL 194.325 218.887619 \nL 191.281364 218.887619 \nz\n\" style=\"fill:#1f77b4;\"/>\n   </g>\n   <g id=\"patch_53\">\n    <path clip-path=\"url(#p60c1246e7e)\" d=\"M 194.325 224.64 \nL 197.368636 224.64 \nL 197.368636 218.887619 \nL 194.325 218.887619 \nz\n\" style=\"fill:#1f77b4;\"/>\n   </g>\n   <g id=\"patch_54\">\n    <path clip-path=\"url(#p60c1246e7e)\" d=\"M 197.368636 224.64 \nL 200.412273 224.64 \nL 200.412273 216.011429 \nL 197.368636 216.011429 \nz\n\" style=\"fill:#1f77b4;\"/>\n   </g>\n   <g id=\"patch_55\">\n    <path clip-path=\"url(#p60c1246e7e)\" d=\"M 200.412273 224.64 \nL 203.455909 224.64 \nL 203.455909 221.76381 \nL 200.412273 221.76381 \nz\n\" style=\"fill:#1f77b4;\"/>\n   </g>\n   <g id=\"patch_56\">\n    <path clip-path=\"url(#p60c1246e7e)\" d=\"M 203.455909 224.64 \nL 206.499545 224.64 \nL 206.499545 221.76381 \nL 203.455909 221.76381 \nz\n\" style=\"fill:#1f77b4;\"/>\n   </g>\n   <g id=\"patch_57\">\n    <path clip-path=\"url(#p60c1246e7e)\" d=\"M 206.499545 224.64 \nL 209.543182 224.64 \nL 209.543182 218.887619 \nL 206.499545 218.887619 \nz\n\" style=\"fill:#1f77b4;\"/>\n   </g>\n   <g id=\"patch_58\">\n    <path clip-path=\"url(#p60c1246e7e)\" d=\"M 209.543182 224.64 \nL 212.586818 224.64 \nL 212.586818 224.64 \nL 209.543182 224.64 \nz\n\" style=\"fill:#1f77b4;\"/>\n   </g>\n   <g id=\"patch_59\">\n    <path clip-path=\"url(#p60c1246e7e)\" d=\"M 212.586818 224.64 \nL 215.630455 224.64 \nL 215.630455 224.64 \nL 212.586818 224.64 \nz\n\" style=\"fill:#1f77b4;\"/>\n   </g>\n   <g id=\"patch_60\">\n    <path clip-path=\"url(#p60c1246e7e)\" d=\"M 215.630455 224.64 \nL 218.674091 224.64 \nL 218.674091 218.887619 \nL 215.630455 218.887619 \nz\n\" style=\"fill:#1f77b4;\"/>\n   </g>\n   <g id=\"patch_61\">\n    <path clip-path=\"url(#p60c1246e7e)\" d=\"M 218.674091 224.64 \nL 221.717727 224.64 \nL 221.717727 221.76381 \nL 218.674091 221.76381 \nz\n\" style=\"fill:#1f77b4;\"/>\n   </g>\n   <g id=\"patch_62\">\n    <path clip-path=\"url(#p60c1246e7e)\" d=\"M 221.717727 224.64 \nL 224.761364 224.64 \nL 224.761364 221.76381 \nL 221.717727 221.76381 \nz\n\" style=\"fill:#1f77b4;\"/>\n   </g>\n   <g id=\"patch_63\">\n    <path clip-path=\"url(#p60c1246e7e)\" d=\"M 224.761364 224.64 \nL 227.805 224.64 \nL 227.805 221.76381 \nL 224.761364 221.76381 \nz\n\" style=\"fill:#1f77b4;\"/>\n   </g>\n   <g id=\"patch_64\">\n    <path clip-path=\"url(#p60c1246e7e)\" d=\"M 227.805 224.64 \nL 230.848636 224.64 \nL 230.848636 224.64 \nL 227.805 224.64 \nz\n\" style=\"fill:#1f77b4;\"/>\n   </g>\n   <g id=\"patch_65\">\n    <path clip-path=\"url(#p60c1246e7e)\" d=\"M 230.848636 224.64 \nL 233.892273 224.64 \nL 233.892273 218.887619 \nL 230.848636 218.887619 \nz\n\" style=\"fill:#1f77b4;\"/>\n   </g>\n   <g id=\"patch_66\">\n    <path clip-path=\"url(#p60c1246e7e)\" d=\"M 233.892273 224.64 \nL 236.935909 224.64 \nL 236.935909 221.76381 \nL 233.892273 221.76381 \nz\n\" style=\"fill:#1f77b4;\"/>\n   </g>\n   <g id=\"patch_67\">\n    <path clip-path=\"url(#p60c1246e7e)\" d=\"M 236.935909 224.64 \nL 239.979545 224.64 \nL 239.979545 221.76381 \nL 236.935909 221.76381 \nz\n\" style=\"fill:#1f77b4;\"/>\n   </g>\n   <g id=\"patch_68\">\n    <path clip-path=\"url(#p60c1246e7e)\" d=\"M 239.979545 224.64 \nL 243.023182 224.64 \nL 243.023182 221.76381 \nL 239.979545 221.76381 \nz\n\" style=\"fill:#1f77b4;\"/>\n   </g>\n   <g id=\"patch_69\">\n    <path clip-path=\"url(#p60c1246e7e)\" d=\"M 243.023182 224.64 \nL 246.066818 224.64 \nL 246.066818 224.64 \nL 243.023182 224.64 \nz\n\" style=\"fill:#1f77b4;\"/>\n   </g>\n   <g id=\"patch_70\">\n    <path clip-path=\"url(#p60c1246e7e)\" d=\"M 246.066818 224.64 \nL 249.110455 224.64 \nL 249.110455 224.64 \nL 246.066818 224.64 \nz\n\" style=\"fill:#1f77b4;\"/>\n   </g>\n   <g id=\"patch_71\">\n    <path clip-path=\"url(#p60c1246e7e)\" d=\"M 249.110455 224.64 \nL 252.154091 224.64 \nL 252.154091 224.64 \nL 249.110455 224.64 \nz\n\" style=\"fill:#1f77b4;\"/>\n   </g>\n   <g id=\"patch_72\">\n    <path clip-path=\"url(#p60c1246e7e)\" d=\"M 252.154091 224.64 \nL 255.197727 224.64 \nL 255.197727 224.64 \nL 252.154091 224.64 \nz\n\" style=\"fill:#1f77b4;\"/>\n   </g>\n   <g id=\"patch_73\">\n    <path clip-path=\"url(#p60c1246e7e)\" d=\"M 255.197727 224.64 \nL 258.241364 224.64 \nL 258.241364 224.64 \nL 255.197727 224.64 \nz\n\" style=\"fill:#1f77b4;\"/>\n   </g>\n   <g id=\"patch_74\">\n    <path clip-path=\"url(#p60c1246e7e)\" d=\"M 258.241364 224.64 \nL 261.285 224.64 \nL 261.285 224.64 \nL 258.241364 224.64 \nz\n\" style=\"fill:#1f77b4;\"/>\n   </g>\n   <g id=\"patch_75\">\n    <path clip-path=\"url(#p60c1246e7e)\" d=\"M 261.285 224.64 \nL 264.328636 224.64 \nL 264.328636 224.64 \nL 261.285 224.64 \nz\n\" style=\"fill:#1f77b4;\"/>\n   </g>\n   <g id=\"patch_76\">\n    <path clip-path=\"url(#p60c1246e7e)\" d=\"M 264.328636 224.64 \nL 267.372273 224.64 \nL 267.372273 224.64 \nL 264.328636 224.64 \nz\n\" style=\"fill:#1f77b4;\"/>\n   </g>\n   <g id=\"patch_77\">\n    <path clip-path=\"url(#p60c1246e7e)\" d=\"M 267.372273 224.64 \nL 270.415909 224.64 \nL 270.415909 224.64 \nL 267.372273 224.64 \nz\n\" style=\"fill:#1f77b4;\"/>\n   </g>\n   <g id=\"patch_78\">\n    <path clip-path=\"url(#p60c1246e7e)\" d=\"M 270.415909 224.64 \nL 273.459545 224.64 \nL 273.459545 224.64 \nL 270.415909 224.64 \nz\n\" style=\"fill:#1f77b4;\"/>\n   </g>\n   <g id=\"patch_79\">\n    <path clip-path=\"url(#p60c1246e7e)\" d=\"M 273.459545 224.64 \nL 276.503182 224.64 \nL 276.503182 224.64 \nL 273.459545 224.64 \nz\n\" style=\"fill:#1f77b4;\"/>\n   </g>\n   <g id=\"patch_80\">\n    <path clip-path=\"url(#p60c1246e7e)\" d=\"M 276.503182 224.64 \nL 279.546818 224.64 \nL 279.546818 224.64 \nL 276.503182 224.64 \nz\n\" style=\"fill:#1f77b4;\"/>\n   </g>\n   <g id=\"patch_81\">\n    <path clip-path=\"url(#p60c1246e7e)\" d=\"M 279.546818 224.64 \nL 282.590455 224.64 \nL 282.590455 224.64 \nL 279.546818 224.64 \nz\n\" style=\"fill:#1f77b4;\"/>\n   </g>\n   <g id=\"patch_82\">\n    <path clip-path=\"url(#p60c1246e7e)\" d=\"M 282.590455 224.64 \nL 285.634091 224.64 \nL 285.634091 224.64 \nL 282.590455 224.64 \nz\n\" style=\"fill:#1f77b4;\"/>\n   </g>\n   <g id=\"patch_83\">\n    <path clip-path=\"url(#p60c1246e7e)\" d=\"M 285.634091 224.64 \nL 288.677727 224.64 \nL 288.677727 224.64 \nL 285.634091 224.64 \nz\n\" style=\"fill:#1f77b4;\"/>\n   </g>\n   <g id=\"patch_84\">\n    <path clip-path=\"url(#p60c1246e7e)\" d=\"M 288.677727 224.64 \nL 291.721364 224.64 \nL 291.721364 224.64 \nL 288.677727 224.64 \nz\n\" style=\"fill:#1f77b4;\"/>\n   </g>\n   <g id=\"patch_85\">\n    <path clip-path=\"url(#p60c1246e7e)\" d=\"M 291.721364 224.64 \nL 294.765 224.64 \nL 294.765 224.64 \nL 291.721364 224.64 \nz\n\" style=\"fill:#1f77b4;\"/>\n   </g>\n   <g id=\"patch_86\">\n    <path clip-path=\"url(#p60c1246e7e)\" d=\"M 294.765 224.64 \nL 297.808636 224.64 \nL 297.808636 224.64 \nL 294.765 224.64 \nz\n\" style=\"fill:#1f77b4;\"/>\n   </g>\n   <g id=\"patch_87\">\n    <path clip-path=\"url(#p60c1246e7e)\" d=\"M 297.808636 224.64 \nL 300.852273 224.64 \nL 300.852273 224.64 \nL 297.808636 224.64 \nz\n\" style=\"fill:#1f77b4;\"/>\n   </g>\n   <g id=\"patch_88\">\n    <path clip-path=\"url(#p60c1246e7e)\" d=\"M 300.852273 224.64 \nL 303.895909 224.64 \nL 303.895909 224.64 \nL 300.852273 224.64 \nz\n\" style=\"fill:#1f77b4;\"/>\n   </g>\n   <g id=\"patch_89\">\n    <path clip-path=\"url(#p60c1246e7e)\" d=\"M 303.895909 224.64 \nL 306.939545 224.64 \nL 306.939545 224.64 \nL 303.895909 224.64 \nz\n\" style=\"fill:#1f77b4;\"/>\n   </g>\n   <g id=\"patch_90\">\n    <path clip-path=\"url(#p60c1246e7e)\" d=\"M 306.939545 224.64 \nL 309.983182 224.64 \nL 309.983182 224.64 \nL 306.939545 224.64 \nz\n\" style=\"fill:#1f77b4;\"/>\n   </g>\n   <g id=\"patch_91\">\n    <path clip-path=\"url(#p60c1246e7e)\" d=\"M 309.983182 224.64 \nL 313.026818 224.64 \nL 313.026818 224.64 \nL 309.983182 224.64 \nz\n\" style=\"fill:#1f77b4;\"/>\n   </g>\n   <g id=\"patch_92\">\n    <path clip-path=\"url(#p60c1246e7e)\" d=\"M 313.026818 224.64 \nL 316.070455 224.64 \nL 316.070455 224.64 \nL 313.026818 224.64 \nz\n\" style=\"fill:#1f77b4;\"/>\n   </g>\n   <g id=\"patch_93\">\n    <path clip-path=\"url(#p60c1246e7e)\" d=\"M 316.070455 224.64 \nL 319.114091 224.64 \nL 319.114091 224.64 \nL 316.070455 224.64 \nz\n\" style=\"fill:#1f77b4;\"/>\n   </g>\n   <g id=\"patch_94\">\n    <path clip-path=\"url(#p60c1246e7e)\" d=\"M 319.114091 224.64 \nL 322.157727 224.64 \nL 322.157727 224.64 \nL 319.114091 224.64 \nz\n\" style=\"fill:#1f77b4;\"/>\n   </g>\n   <g id=\"patch_95\">\n    <path clip-path=\"url(#p60c1246e7e)\" d=\"M 322.157727 224.64 \nL 325.201364 224.64 \nL 325.201364 221.76381 \nL 322.157727 221.76381 \nz\n\" style=\"fill:#1f77b4;\"/>\n   </g>\n   <g id=\"patch_96\">\n    <path clip-path=\"url(#p60c1246e7e)\" d=\"M 325.201364 224.64 \nL 328.245 224.64 \nL 328.245 224.64 \nL 325.201364 224.64 \nz\n\" style=\"fill:#1f77b4;\"/>\n   </g>\n   <g id=\"patch_97\">\n    <path clip-path=\"url(#p60c1246e7e)\" d=\"M 328.245 224.64 \nL 331.288636 224.64 \nL 331.288636 224.64 \nL 328.245 224.64 \nz\n\" style=\"fill:#1f77b4;\"/>\n   </g>\n   <g id=\"patch_98\">\n    <path clip-path=\"url(#p60c1246e7e)\" d=\"M 331.288636 224.64 \nL 334.332273 224.64 \nL 334.332273 224.64 \nL 331.288636 224.64 \nz\n\" style=\"fill:#1f77b4;\"/>\n   </g>\n   <g id=\"patch_99\">\n    <path clip-path=\"url(#p60c1246e7e)\" d=\"M 334.332273 224.64 \nL 337.375909 224.64 \nL 337.375909 221.76381 \nL 334.332273 221.76381 \nz\n\" style=\"fill:#1f77b4;\"/>\n   </g>\n   <g id=\"patch_100\">\n    <path clip-path=\"url(#p60c1246e7e)\" d=\"M 337.375909 224.64 \nL 340.419545 224.64 \nL 340.419545 224.64 \nL 337.375909 224.64 \nz\n\" style=\"fill:#1f77b4;\"/>\n   </g>\n   <g id=\"patch_101\">\n    <path clip-path=\"url(#p60c1246e7e)\" d=\"M 340.419545 224.64 \nL 343.463182 224.64 \nL 343.463182 224.64 \nL 340.419545 224.64 \nz\n\" style=\"fill:#1f77b4;\"/>\n   </g>\n   <g id=\"patch_102\">\n    <path clip-path=\"url(#p60c1246e7e)\" d=\"M 343.463182 224.64 \nL 346.506818 224.64 \nL 346.506818 221.76381 \nL 343.463182 221.76381 \nz\n\" style=\"fill:#1f77b4;\"/>\n   </g>\n   <g id=\"matplotlib.axis_1\">\n    <g id=\"xtick_1\">\n     <g id=\"line2d_1\">\n      <defs>\n       <path d=\"M 0 0 \nL 0 3.5 \n\" id=\"m5280f3a0c3\" style=\"stroke:#000000;stroke-width:0.8;\"/>\n      </defs>\n      <g>\n       <use style=\"stroke:#000000;stroke-width:0.8;\" x=\"58.34505\" xlink:href=\"#m5280f3a0c3\" y=\"224.64\"/>\n      </g>\n     </g>\n     <g id=\"text_1\">\n      <!-- 39 -->\n      <defs>\n       <path d=\"M 40.578125 39.3125 \nQ 47.65625 37.796875 51.625 33 \nQ 55.609375 28.21875 55.609375 21.1875 \nQ 55.609375 10.40625 48.1875 4.484375 \nQ 40.765625 -1.421875 27.09375 -1.421875 \nQ 22.515625 -1.421875 17.65625 -0.515625 \nQ 12.796875 0.390625 7.625 2.203125 \nL 7.625 11.71875 \nQ 11.71875 9.328125 16.59375 8.109375 \nQ 21.484375 6.890625 26.8125 6.890625 \nQ 36.078125 6.890625 40.9375 10.546875 \nQ 45.796875 14.203125 45.796875 21.1875 \nQ 45.796875 27.640625 41.28125 31.265625 \nQ 36.765625 34.90625 28.71875 34.90625 \nL 20.21875 34.90625 \nL 20.21875 43.015625 \nL 29.109375 43.015625 \nQ 36.375 43.015625 40.234375 45.921875 \nQ 44.09375 48.828125 44.09375 54.296875 \nQ 44.09375 59.90625 40.109375 62.90625 \nQ 36.140625 65.921875 28.71875 65.921875 \nQ 24.65625 65.921875 20.015625 65.03125 \nQ 15.375 64.15625 9.8125 62.3125 \nL 9.8125 71.09375 \nQ 15.4375 72.65625 20.34375 73.4375 \nQ 25.25 74.21875 29.59375 74.21875 \nQ 40.828125 74.21875 47.359375 69.109375 \nQ 53.90625 64.015625 53.90625 55.328125 \nQ 53.90625 49.265625 50.4375 45.09375 \nQ 46.96875 40.921875 40.578125 39.3125 \nz\n\" id=\"DejaVuSans-51\"/>\n       <path d=\"M 10.984375 1.515625 \nL 10.984375 10.5 \nQ 14.703125 8.734375 18.5 7.8125 \nQ 22.3125 6.890625 25.984375 6.890625 \nQ 35.75 6.890625 40.890625 13.453125 \nQ 46.046875 20.015625 46.78125 33.40625 \nQ 43.953125 29.203125 39.59375 26.953125 \nQ 35.25 24.703125 29.984375 24.703125 \nQ 19.046875 24.703125 12.671875 31.3125 \nQ 6.296875 37.9375 6.296875 49.421875 \nQ 6.296875 60.640625 12.9375 67.421875 \nQ 19.578125 74.21875 30.609375 74.21875 \nQ 43.265625 74.21875 49.921875 64.515625 \nQ 56.59375 54.828125 56.59375 36.375 \nQ 56.59375 19.140625 48.40625 8.859375 \nQ 40.234375 -1.421875 26.421875 -1.421875 \nQ 22.703125 -1.421875 18.890625 -0.6875 \nQ 15.09375 0.046875 10.984375 1.515625 \nz\nM 30.609375 32.421875 \nQ 37.25 32.421875 41.125 36.953125 \nQ 45.015625 41.5 45.015625 49.421875 \nQ 45.015625 57.28125 41.125 61.84375 \nQ 37.25 66.40625 30.609375 66.40625 \nQ 23.96875 66.40625 20.09375 61.84375 \nQ 16.21875 57.28125 16.21875 49.421875 \nQ 16.21875 41.5 20.09375 36.953125 \nQ 23.96875 32.421875 30.609375 32.421875 \nz\n\" id=\"DejaVuSans-57\"/>\n      </defs>\n      <g transform=\"translate(51.98255 239.238437)scale(0.1 -0.1)\">\n       <use xlink:href=\"#DejaVuSans-51\"/>\n       <use x=\"63.623047\" xlink:href=\"#DejaVuSans-57\"/>\n      </g>\n     </g>\n    </g>\n    <g id=\"xtick_2\">\n     <g id=\"line2d_2\">\n      <g>\n       <use style=\"stroke:#000000;stroke-width:0.8;\" x=\"122.091704\" xlink:href=\"#m5280f3a0c3\" y=\"224.64\"/>\n      </g>\n     </g>\n     <g id=\"text_2\">\n      <!-- 40 -->\n      <defs>\n       <path d=\"M 37.796875 64.3125 \nL 12.890625 25.390625 \nL 37.796875 25.390625 \nz\nM 35.203125 72.90625 \nL 47.609375 72.90625 \nL 47.609375 25.390625 \nL 58.015625 25.390625 \nL 58.015625 17.1875 \nL 47.609375 17.1875 \nL 47.609375 0 \nL 37.796875 0 \nL 37.796875 17.1875 \nL 4.890625 17.1875 \nL 4.890625 26.703125 \nz\n\" id=\"DejaVuSans-52\"/>\n       <path d=\"M 31.78125 66.40625 \nQ 24.171875 66.40625 20.328125 58.90625 \nQ 16.5 51.421875 16.5 36.375 \nQ 16.5 21.390625 20.328125 13.890625 \nQ 24.171875 6.390625 31.78125 6.390625 \nQ 39.453125 6.390625 43.28125 13.890625 \nQ 47.125 21.390625 47.125 36.375 \nQ 47.125 51.421875 43.28125 58.90625 \nQ 39.453125 66.40625 31.78125 66.40625 \nz\nM 31.78125 74.21875 \nQ 44.046875 74.21875 50.515625 64.515625 \nQ 56.984375 54.828125 56.984375 36.375 \nQ 56.984375 17.96875 50.515625 8.265625 \nQ 44.046875 -1.421875 31.78125 -1.421875 \nQ 19.53125 -1.421875 13.0625 8.265625 \nQ 6.59375 17.96875 6.59375 36.375 \nQ 6.59375 54.828125 13.0625 64.515625 \nQ 19.53125 74.21875 31.78125 74.21875 \nz\n\" id=\"DejaVuSans-48\"/>\n      </defs>\n      <g transform=\"translate(115.729204 239.238437)scale(0.1 -0.1)\">\n       <use xlink:href=\"#DejaVuSans-52\"/>\n       <use x=\"63.623047\" xlink:href=\"#DejaVuSans-48\"/>\n      </g>\n     </g>\n    </g>\n    <g id=\"xtick_3\">\n     <g id=\"line2d_3\">\n      <g>\n       <use style=\"stroke:#000000;stroke-width:0.8;\" x=\"185.838358\" xlink:href=\"#m5280f3a0c3\" y=\"224.64\"/>\n      </g>\n     </g>\n     <g id=\"text_3\">\n      <!-- 41 -->\n      <defs>\n       <path d=\"M 12.40625 8.296875 \nL 28.515625 8.296875 \nL 28.515625 63.921875 \nL 10.984375 60.40625 \nL 10.984375 69.390625 \nL 28.421875 72.90625 \nL 38.28125 72.90625 \nL 38.28125 8.296875 \nL 54.390625 8.296875 \nL 54.390625 0 \nL 12.40625 0 \nz\n\" id=\"DejaVuSans-49\"/>\n      </defs>\n      <g transform=\"translate(179.475858 239.238437)scale(0.1 -0.1)\">\n       <use xlink:href=\"#DejaVuSans-52\"/>\n       <use x=\"63.623047\" xlink:href=\"#DejaVuSans-49\"/>\n      </g>\n     </g>\n    </g>\n    <g id=\"xtick_4\">\n     <g id=\"line2d_4\">\n      <g>\n       <use style=\"stroke:#000000;stroke-width:0.8;\" x=\"249.585012\" xlink:href=\"#m5280f3a0c3\" y=\"224.64\"/>\n      </g>\n     </g>\n     <g id=\"text_4\">\n      <!-- 42 -->\n      <defs>\n       <path d=\"M 19.1875 8.296875 \nL 53.609375 8.296875 \nL 53.609375 0 \nL 7.328125 0 \nL 7.328125 8.296875 \nQ 12.9375 14.109375 22.625 23.890625 \nQ 32.328125 33.6875 34.8125 36.53125 \nQ 39.546875 41.84375 41.421875 45.53125 \nQ 43.3125 49.21875 43.3125 52.78125 \nQ 43.3125 58.59375 39.234375 62.25 \nQ 35.15625 65.921875 28.609375 65.921875 \nQ 23.96875 65.921875 18.8125 64.3125 \nQ 13.671875 62.703125 7.8125 59.421875 \nL 7.8125 69.390625 \nQ 13.765625 71.78125 18.9375 73 \nQ 24.125 74.21875 28.421875 74.21875 \nQ 39.75 74.21875 46.484375 68.546875 \nQ 53.21875 62.890625 53.21875 53.421875 \nQ 53.21875 48.921875 51.53125 44.890625 \nQ 49.859375 40.875 45.40625 35.40625 \nQ 44.1875 33.984375 37.640625 27.21875 \nQ 31.109375 20.453125 19.1875 8.296875 \nz\n\" id=\"DejaVuSans-50\"/>\n      </defs>\n      <g transform=\"translate(243.222512 239.238437)scale(0.1 -0.1)\">\n       <use xlink:href=\"#DejaVuSans-52\"/>\n       <use x=\"63.623047\" xlink:href=\"#DejaVuSans-50\"/>\n      </g>\n     </g>\n    </g>\n    <g id=\"xtick_5\">\n     <g id=\"line2d_5\">\n      <g>\n       <use style=\"stroke:#000000;stroke-width:0.8;\" x=\"313.331666\" xlink:href=\"#m5280f3a0c3\" y=\"224.64\"/>\n      </g>\n     </g>\n     <g id=\"text_5\">\n      <!-- 43 -->\n      <g transform=\"translate(306.969166 239.238437)scale(0.1 -0.1)\">\n       <use xlink:href=\"#DejaVuSans-52\"/>\n       <use x=\"63.623047\" xlink:href=\"#DejaVuSans-51\"/>\n      </g>\n     </g>\n    </g>\n   </g>\n   <g id=\"matplotlib.axis_2\">\n    <g id=\"ytick_1\">\n     <g id=\"line2d_6\">\n      <defs>\n       <path d=\"M 0 0 \nL -3.5 0 \n\" id=\"m06b27828e6\" style=\"stroke:#000000;stroke-width:0.8;\"/>\n      </defs>\n      <g>\n       <use style=\"stroke:#000000;stroke-width:0.8;\" x=\"26.925\" xlink:href=\"#m06b27828e6\" y=\"224.64\"/>\n      </g>\n     </g>\n     <g id=\"text_6\">\n      <!-- 0 -->\n      <g transform=\"translate(13.5625 228.439219)scale(0.1 -0.1)\">\n       <use xlink:href=\"#DejaVuSans-48\"/>\n      </g>\n     </g>\n    </g>\n    <g id=\"ytick_2\">\n     <g id=\"line2d_7\">\n      <g>\n       <use style=\"stroke:#000000;stroke-width:0.8;\" x=\"26.925\" xlink:href=\"#m06b27828e6\" y=\"195.878095\"/>\n      </g>\n     </g>\n     <g id=\"text_7\">\n      <!-- 10 -->\n      <g transform=\"translate(7.2 199.677314)scale(0.1 -0.1)\">\n       <use xlink:href=\"#DejaVuSans-49\"/>\n       <use x=\"63.623047\" xlink:href=\"#DejaVuSans-48\"/>\n      </g>\n     </g>\n    </g>\n    <g id=\"ytick_3\">\n     <g id=\"line2d_8\">\n      <g>\n       <use style=\"stroke:#000000;stroke-width:0.8;\" x=\"26.925\" xlink:href=\"#m06b27828e6\" y=\"167.11619\"/>\n      </g>\n     </g>\n     <g id=\"text_8\">\n      <!-- 20 -->\n      <g transform=\"translate(7.2 170.915409)scale(0.1 -0.1)\">\n       <use xlink:href=\"#DejaVuSans-50\"/>\n       <use x=\"63.623047\" xlink:href=\"#DejaVuSans-48\"/>\n      </g>\n     </g>\n    </g>\n    <g id=\"ytick_4\">\n     <g id=\"line2d_9\">\n      <g>\n       <use style=\"stroke:#000000;stroke-width:0.8;\" x=\"26.925\" xlink:href=\"#m06b27828e6\" y=\"138.354286\"/>\n      </g>\n     </g>\n     <g id=\"text_9\">\n      <!-- 30 -->\n      <g transform=\"translate(7.2 142.153504)scale(0.1 -0.1)\">\n       <use xlink:href=\"#DejaVuSans-51\"/>\n       <use x=\"63.623047\" xlink:href=\"#DejaVuSans-48\"/>\n      </g>\n     </g>\n    </g>\n    <g id=\"ytick_5\">\n     <g id=\"line2d_10\">\n      <g>\n       <use style=\"stroke:#000000;stroke-width:0.8;\" x=\"26.925\" xlink:href=\"#m06b27828e6\" y=\"109.592381\"/>\n      </g>\n     </g>\n     <g id=\"text_10\">\n      <!-- 40 -->\n      <g transform=\"translate(7.2 113.3916)scale(0.1 -0.1)\">\n       <use xlink:href=\"#DejaVuSans-52\"/>\n       <use x=\"63.623047\" xlink:href=\"#DejaVuSans-48\"/>\n      </g>\n     </g>\n    </g>\n    <g id=\"ytick_6\">\n     <g id=\"line2d_11\">\n      <g>\n       <use style=\"stroke:#000000;stroke-width:0.8;\" x=\"26.925\" xlink:href=\"#m06b27828e6\" y=\"80.830476\"/>\n      </g>\n     </g>\n     <g id=\"text_11\">\n      <!-- 50 -->\n      <defs>\n       <path d=\"M 10.796875 72.90625 \nL 49.515625 72.90625 \nL 49.515625 64.59375 \nL 19.828125 64.59375 \nL 19.828125 46.734375 \nQ 21.96875 47.46875 24.109375 47.828125 \nQ 26.265625 48.1875 28.421875 48.1875 \nQ 40.625 48.1875 47.75 41.5 \nQ 54.890625 34.8125 54.890625 23.390625 \nQ 54.890625 11.625 47.5625 5.09375 \nQ 40.234375 -1.421875 26.90625 -1.421875 \nQ 22.3125 -1.421875 17.546875 -0.640625 \nQ 12.796875 0.140625 7.71875 1.703125 \nL 7.71875 11.625 \nQ 12.109375 9.234375 16.796875 8.0625 \nQ 21.484375 6.890625 26.703125 6.890625 \nQ 35.15625 6.890625 40.078125 11.328125 \nQ 45.015625 15.765625 45.015625 23.390625 \nQ 45.015625 31 40.078125 35.4375 \nQ 35.15625 39.890625 26.703125 39.890625 \nQ 22.75 39.890625 18.8125 39.015625 \nQ 14.890625 38.140625 10.796875 36.28125 \nz\n\" id=\"DejaVuSans-53\"/>\n      </defs>\n      <g transform=\"translate(7.2 84.629695)scale(0.1 -0.1)\">\n       <use xlink:href=\"#DejaVuSans-53\"/>\n       <use x=\"63.623047\" xlink:href=\"#DejaVuSans-48\"/>\n      </g>\n     </g>\n    </g>\n    <g id=\"ytick_7\">\n     <g id=\"line2d_12\">\n      <g>\n       <use style=\"stroke:#000000;stroke-width:0.8;\" x=\"26.925\" xlink:href=\"#m06b27828e6\" y=\"52.068571\"/>\n      </g>\n     </g>\n     <g id=\"text_12\">\n      <!-- 60 -->\n      <defs>\n       <path d=\"M 33.015625 40.375 \nQ 26.375 40.375 22.484375 35.828125 \nQ 18.609375 31.296875 18.609375 23.390625 \nQ 18.609375 15.53125 22.484375 10.953125 \nQ 26.375 6.390625 33.015625 6.390625 \nQ 39.65625 6.390625 43.53125 10.953125 \nQ 47.40625 15.53125 47.40625 23.390625 \nQ 47.40625 31.296875 43.53125 35.828125 \nQ 39.65625 40.375 33.015625 40.375 \nz\nM 52.59375 71.296875 \nL 52.59375 62.3125 \nQ 48.875 64.0625 45.09375 64.984375 \nQ 41.3125 65.921875 37.59375 65.921875 \nQ 27.828125 65.921875 22.671875 59.328125 \nQ 17.53125 52.734375 16.796875 39.40625 \nQ 19.671875 43.65625 24.015625 45.921875 \nQ 28.375 48.1875 33.59375 48.1875 \nQ 44.578125 48.1875 50.953125 41.515625 \nQ 57.328125 34.859375 57.328125 23.390625 \nQ 57.328125 12.15625 50.6875 5.359375 \nQ 44.046875 -1.421875 33.015625 -1.421875 \nQ 20.359375 -1.421875 13.671875 8.265625 \nQ 6.984375 17.96875 6.984375 36.375 \nQ 6.984375 53.65625 15.1875 63.9375 \nQ 23.390625 74.21875 37.203125 74.21875 \nQ 40.921875 74.21875 44.703125 73.484375 \nQ 48.484375 72.75 52.59375 71.296875 \nz\n\" id=\"DejaVuSans-54\"/>\n      </defs>\n      <g transform=\"translate(7.2 55.86779)scale(0.1 -0.1)\">\n       <use xlink:href=\"#DejaVuSans-54\"/>\n       <use x=\"63.623047\" xlink:href=\"#DejaVuSans-48\"/>\n      </g>\n     </g>\n    </g>\n    <g id=\"ytick_8\">\n     <g id=\"line2d_13\">\n      <g>\n       <use style=\"stroke:#000000;stroke-width:0.8;\" x=\"26.925\" xlink:href=\"#m06b27828e6\" y=\"23.306667\"/>\n      </g>\n     </g>\n     <g id=\"text_13\">\n      <!-- 70 -->\n      <defs>\n       <path d=\"M 8.203125 72.90625 \nL 55.078125 72.90625 \nL 55.078125 68.703125 \nL 28.609375 0 \nL 18.3125 0 \nL 43.21875 64.59375 \nL 8.203125 64.59375 \nz\n\" id=\"DejaVuSans-55\"/>\n      </defs>\n      <g transform=\"translate(7.2 27.105885)scale(0.1 -0.1)\">\n       <use xlink:href=\"#DejaVuSans-55\"/>\n       <use x=\"63.623047\" xlink:href=\"#DejaVuSans-48\"/>\n      </g>\n     </g>\n    </g>\n   </g>\n   <g id=\"patch_103\">\n    <path d=\"M 26.925 224.64 \nL 26.925 7.2 \n\" style=\"fill:none;stroke:#000000;stroke-linecap:square;stroke-linejoin:miter;stroke-width:0.8;\"/>\n   </g>\n   <g id=\"patch_104\">\n    <path d=\"M 361.725 224.64 \nL 361.725 7.2 \n\" style=\"fill:none;stroke:#000000;stroke-linecap:square;stroke-linejoin:miter;stroke-width:0.8;\"/>\n   </g>\n   <g id=\"patch_105\">\n    <path d=\"M 26.925 224.64 \nL 361.725 224.64 \n\" style=\"fill:none;stroke:#000000;stroke-linecap:square;stroke-linejoin:miter;stroke-width:0.8;\"/>\n   </g>\n   <g id=\"patch_106\">\n    <path d=\"M 26.925 7.2 \nL 361.725 7.2 \n\" style=\"fill:none;stroke:#000000;stroke-linecap:square;stroke-linejoin:miter;stroke-width:0.8;\"/>\n   </g>\n  </g>\n </g>\n <defs>\n  <clipPath id=\"p60c1246e7e\">\n   <rect height=\"217.44\" width=\"334.8\" x=\"26.925\" y=\"7.2\"/>\n  </clipPath>\n </defs>\n</svg>\n",
      "image/png": "[encoded data removed]"
     },
     "metadata": {
      "needs_background": "light"
     }
    }
   ],
   "source": [
    "plt.hist(PSNR_loss, bins=100)"
   ]
  },
  {
   "cell_type": "code",
   "execution_count": 18,
   "metadata": {},
   "outputs": [
    {
     "output_type": "execute_result",
     "data": {
      "text/plain": "array([[1, 2],\n       [1, 4]])"
     },
     "metadata": {},
     "execution_count": 18
    }
   ],
   "source": [
    "a = np.array([[1,2],[1,4]])\n",
    "a"
   ]
  },
  {
   "cell_type": "code",
   "execution_count": 19,
   "metadata": {},
   "outputs": [
    {
     "output_type": "execute_result",
     "data": {
      "text/plain": "array([1, 2])"
     },
     "metadata": {},
     "execution_count": 19
    }
   ],
   "source": [
    "np.min(a, axis=0)\n"
   ]
  },
  {
   "cell_type": "markdown",
   "metadata": {},
   "source": [
    "# Divide batches"
   ]
  },
  {
   "cell_type": "code",
   "execution_count": 5,
   "metadata": {
    "tags": []
   },
   "outputs": [
    {
     "output_type": "stream",
     "name": "stdout",
     "text": "Finish one period\nFinish one period\nFinish one period\n"
    }
   ],
   "source": [
    "import cv2\n",
    "def concat_video_data(video, output_video):\n",
    "    out = cv2.VideoWriter(f'./{output_video}',cv2.VideoWriter_fourcc('M','J','P','G'), 30, (512, 512))    \n",
    "\n",
    "    period = [[0,43*30], [5*60*30,9*60*30], [10*60*30, 13*60*30]]\n",
    "    cap = cv2.VideoCapture(video)\n",
    "    x1 = 685\n",
    "    y1 = 85 \n",
    "    x2 = 1250\n",
    "    y2 = 650\n",
    "\n",
    "    for p in period:\n",
    "        cap.set(1, p[0])\n",
    "        num_frames = p[1]-p[0]\n",
    "        for i in range(num_frames):\n",
    "            ret, img = cap.read()\n",
    "            img = img[y1:y2, x1:x2]\n",
    "            img = cv2.resize(img, (512,512))\n",
    "            out.write(img)\n",
    "        print(\"Finish one period\")\n",
    "    \n",
    "    out.release()\n",
    "    cv2.destroyAllWindows()\n",
    "\n",
    "concat_video_data(\"../obama_fullhd.mp4\", output_video=\"concat_obama_512x512.mp4\")\n",
    "\n"
   ]
  },
  {
   "cell_type": "code",
   "execution_count": 7,
   "metadata": {},
   "outputs": [
    {
     "output_type": "execute_result",
     "data": {
      "text/plain": "True"
     },
     "metadata": {},
     "execution_count": 7
    }
   ],
   "source": [
    "cap = cv2.VideoCapture(\"concat_obama_512x512.mp4\")\n",
    "ret, img = cap.read()\n",
    "ret"
   ]
  },
  {
   "cell_type": "code",
   "execution_count": 11,
   "metadata": {
    "tags": []
   },
   "outputs": [
    {
     "output_type": "stream",
     "name": "stdout",
     "text": "New batch\nNew batch\nNew batch\nNew batch\n"
    }
   ],
   "source": [
    "import os\n",
    "import cv2\n",
    "\n",
    "def cut_batch_data(video, output_dir, down_to_256=False):\n",
    "    if not os.path.isdir(output_dir):\n",
    "        os.makedirs(output_dir)\n",
    "        \n",
    "    cap = cv2.VideoCapture(video)\n",
    "    batch = 0\n",
    "    i = 0\n",
    "    while True:\n",
    "        ret, img = cap.read()\n",
    "        # print(img.shape)\n",
    "\n",
    "        if not ret:\n",
    "            out.release()\n",
    "            break\n",
    "            \n",
    "        if i%(60*30*2)==0:\n",
    "            batch +=1\n",
    "            if down_to_256:\n",
    "                out = cv2.VideoWriter(f'./{output_dir}/{batch}.mp4',cv2.VideoWriter_fourcc('M','J','P','G'), 30, (256, 256))    \n",
    "            else:\n",
    "                out = cv2.VideoWriter(f'./{output_dir}/{batch}.mp4',cv2.VideoWriter_fourcc('M','J','P','G'), 30, (512, 512))    \n",
    "\n",
    "            print(\"New batch\")\n",
    "\n",
    "        out.write(img)\n",
    "        i+=1\n",
    "\n",
    "    out.release()\n",
    "\n",
    "\n",
    "cut_batch_data(\"./concat_obama_512x512.mp4\",output_dir=\"batches_highres\")\n",
    "\n"
   ]
  },
  {
   "cell_type": "code",
   "execution_count": 12,
   "metadata": {},
   "outputs": [
    {
     "output_type": "execute_result",
     "data": {
      "text/plain": "True"
     },
     "metadata": {},
     "execution_count": 12
    }
   ],
   "source": [
    "cap = cv2.VideoCapture(\"./batches_highres/4.mp4\")\n",
    "ret, img = cap.read()\n",
    "ret"
   ]
  },
  {
   "cell_type": "code",
   "execution_count": null,
   "metadata": {},
   "outputs": [],
   "source": [
    "import glob\n",
    "\n",
    "def downscale(in_dir, out_dir):\n",
    "    if not os.path.isdir(out_dir):\n",
    "        os.makedirs(out_dir)\n",
    "        \n",
    "    files = glob.glob(in_dir + \"/*.png\")\n",
    "    for file in files:\n",
    "        img = cv2.imread(file)\n",
    "        img = cv2.resize(img, (128,128))\n",
    "        cv2.imwrite(output_dir + \"/\" + os.path.basename(file), img)\n",
    "        print(\"Saved 1 file\")\n",
    "    \n",
    "    print(\"Finish\")\n"
   ]
  }
 ],
 "metadata": {
  "language_info": {
   "codemirror_mode": {
    "name": "ipython",
    "version": 3
   },
   "file_extension": ".py",
   "mimetype": "text/x-python",
   "name": "python",
   "nbconvert_exporter": "python",
   "pygments_lexer": "ipython3",
   "version": 3
  },
  "orig_nbformat": 2,
  "kernelspec": {
   "name": "python_defaultSpec_1595445619082",
   "display_name": "Python 3.7.0 64-bit ('rnn': conda)"
  }
 },
 "nbformat": 4,
 "nbformat_minor": 2
}